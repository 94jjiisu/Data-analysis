{
 "cells": [
  {
   "cell_type": "markdown",
   "metadata": {
    "colab_type": "text",
    "id": "PZB92mpX_E2n"
   },
   "source": [
    "# Pandas 응용: tidy data 만들기"
   ]
  },
  {
   "cell_type": "markdown",
   "metadata": {
    "colab_type": "text",
    "id": "70gqUinU_E2o"
   },
   "source": [
    "## 결측값(missing value) 처리하기"
   ]
  },
  {
   "cell_type": "code",
   "execution_count": null,
   "metadata": {
    "colab": {},
    "colab_type": "code",
    "id": "r-IeaR9E_E2p"
   },
   "outputs": [],
   "source": [
    "import numpy as np\n",
    "import pandas as pd"
   ]
  },
  {
   "cell_type": "code",
   "execution_count": null,
   "metadata": {
    "colab": {
     "base_uri": "https://localhost:8080/",
     "height": 105
    },
    "colab_type": "code",
    "executionInfo": {
     "elapsed": 762,
     "status": "ok",
     "timestamp": 1597828414373,
     "user": {
      "displayName": "정드림",
      "photoUrl": "",
      "userId": "07634882938470382203"
     },
     "user_tz": -540
    },
    "id": "HVJPa17D_E2t",
    "outputId": "b4c01dc6-1883-4e7c-cb12-5e3e9e517885"
   },
   "outputs": [],
   "source": [
    "data = pd.Series(['aardvarl', 'artichoke', np.nan, 'avocardo'])\n",
    "data"
   ]
  },
  {
   "cell_type": "markdown",
   "metadata": {
    "colab_type": "text",
    "id": "My7ZqQ3s_E2w"
   },
   "source": [
    "# 결측값 확인하기 isnull() 메서드"
   ]
  },
  {
   "cell_type": "code",
   "execution_count": null,
   "metadata": {
    "colab": {
     "base_uri": "https://localhost:8080/",
     "height": 87
    },
    "colab_type": "code",
    "executionInfo": {
     "elapsed": 711,
     "status": "ok",
     "timestamp": 1597828429057,
     "user": {
      "displayName": "정드림",
      "photoUrl": "",
      "userId": "07634882938470382203"
     },
     "user_tz": -540
    },
    "id": "VGimYDEW_E2x",
    "outputId": "a2c06464-58cb-4725-9d69-d4ea0ae9358e"
   },
   "outputs": [],
   "source": [
    "data.isnull()"
   ]
  },
  {
   "cell_type": "code",
   "execution_count": null,
   "metadata": {
    "colab": {
     "base_uri": "https://localhost:8080/",
     "height": 105
    },
    "colab_type": "code",
    "executionInfo": {
     "elapsed": 652,
     "status": "ok",
     "timestamp": 1597828430748,
     "user": {
      "displayName": "정드림",
      "photoUrl": "",
      "userId": "07634882938470382203"
     },
     "user_tz": -540
    },
    "id": "C0kVVUxe_E2z",
    "outputId": "13b7a85c-0565-498b-dc26-60b388b387a5"
   },
   "outputs": [],
   "source": [
    "data[4] = None     # None은 built-in에 지정됨\n",
    "data"
   ]
  },
  {
   "cell_type": "code",
   "execution_count": null,
   "metadata": {
    "colab": {
     "base_uri": "https://localhost:8080/",
     "height": 105
    },
    "colab_type": "code",
    "executionInfo": {
     "elapsed": 645,
     "status": "ok",
     "timestamp": 1597828432676,
     "user": {
      "displayName": "정드림",
      "photoUrl": "",
      "userId": "07634882938470382203"
     },
     "user_tz": -540
    },
    "id": "BZc2FWEB_E23",
    "outputId": "61da61e5-5823-41b0-d237-60ec9b300085"
   },
   "outputs": [],
   "source": [
    "data.isnull()"
   ]
  },
  {
   "cell_type": "code",
   "execution_count": null,
   "metadata": {
    "colab": {
     "base_uri": "https://localhost:8080/",
     "height": 186
    },
    "colab_type": "code",
    "executionInfo": {
     "elapsed": 557,
     "status": "error",
     "timestamp": 1597828447397,
     "user": {
      "displayName": "정드림",
      "photoUrl": "",
      "userId": "07634882938470382203"
     },
     "user_tz": -540
    },
    "id": "f3I11Mj7_E26",
    "outputId": "b1d5ea64-953a-4917-e6d8-3eb5a94c9b73"
   },
   "outputs": [],
   "source": [
    "data[5] = NaN     # NaN은 Numpy 패키지에서 지정됨\n",
    "data"
   ]
  },
  {
   "cell_type": "code",
   "execution_count": null,
   "metadata": {
    "colab": {},
    "colab_type": "code",
    "id": "BsE0h5vJ_E2-"
   },
   "outputs": [],
   "source": [
    "from numpy import NaN, NAN, nan"
   ]
  },
  {
   "cell_type": "code",
   "execution_count": null,
   "metadata": {
    "colab": {
     "base_uri": "https://localhost:8080/",
     "height": 122
    },
    "colab_type": "code",
    "executionInfo": {
     "elapsed": 591,
     "status": "ok",
     "timestamp": 1597828450684,
     "user": {
      "displayName": "정드림",
      "photoUrl": "",
      "userId": "07634882938470382203"
     },
     "user_tz": -540
    },
    "id": "eApIlHaJ_E3B",
    "outputId": "2267f3d9-75b8-40d0-d09b-b4e1e0b27443"
   },
   "outputs": [],
   "source": [
    "data[5] = NaN\n",
    "data"
   ]
  },
  {
   "cell_type": "code",
   "execution_count": null,
   "metadata": {
    "colab": {
     "base_uri": "https://localhost:8080/",
     "height": 122
    },
    "colab_type": "code",
    "executionInfo": {
     "elapsed": 670,
     "status": "ok",
     "timestamp": 1597828455837,
     "user": {
      "displayName": "정드림",
      "photoUrl": "",
      "userId": "07634882938470382203"
     },
     "user_tz": -540
    },
    "id": "ZFnIbCH-_E3E",
    "outputId": "fe548781-8206-4afa-a279-762970181cad"
   },
   "outputs": [],
   "source": [
    "data.isnull()"
   ]
  },
  {
   "cell_type": "code",
   "execution_count": null,
   "metadata": {
    "colab": {
     "base_uri": "https://localhost:8080/",
     "height": 122
    },
    "colab_type": "code",
    "executionInfo": {
     "elapsed": 695,
     "status": "ok",
     "timestamp": 1597828455120,
     "user": {
      "displayName": "정드림",
      "photoUrl": "",
      "userId": "07634882938470382203"
     },
     "user_tz": -540
    },
    "id": "PA_XuW8Q_E3H",
    "outputId": "5570dc44-a242-4b79-a3ad-6bb03b155449"
   },
   "outputs": [],
   "source": [
    "data.notnull()"
   ]
  },
  {
   "cell_type": "markdown",
   "metadata": {
    "colab_type": "text",
    "id": "gDdYN9-x_E3K"
   },
   "source": [
    "# 결측값의 개수 확인하기"
   ]
  },
  {
   "cell_type": "code",
   "execution_count": null,
   "metadata": {
    "colab": {},
    "colab_type": "code",
    "id": "PjHSaqq5_E3K"
   },
   "outputs": [],
   "source": [
    "data.count()    # count() 메서드는 결측값이 없는 값의 수를 제공해 줌"
   ]
  },
  {
   "cell_type": "code",
   "execution_count": null,
   "metadata": {
    "colab": {},
    "colab_type": "code",
    "id": "2FQo0o48_E3N"
   },
   "outputs": [],
   "source": [
    "num_missing = data.shape[0] - data.count()\n",
    "num_missing"
   ]
  },
  {
   "cell_type": "code",
   "execution_count": null,
   "metadata": {
    "colab": {
     "base_uri": "https://localhost:8080/",
     "height": 34
    },
    "colab_type": "code",
    "executionInfo": {
     "elapsed": 594,
     "status": "ok",
     "timestamp": 1597828460830,
     "user": {
      "displayName": "정드림",
      "photoUrl": "",
      "userId": "07634882938470382203"
     },
     "user_tz": -540
    },
    "id": "8SG6Ubim_E3P",
    "outputId": "3ae658d5-b40c-4dcd-c4c4-ee40ca50dfa6"
   },
   "outputs": [],
   "source": [
    "data.shape"
   ]
  },
  {
   "cell_type": "code",
   "execution_count": null,
   "metadata": {
    "colab": {
     "base_uri": "https://localhost:8080/",
     "height": 34
    },
    "colab_type": "code",
    "executionInfo": {
     "elapsed": 855,
     "status": "ok",
     "timestamp": 1597828462346,
     "user": {
      "displayName": "정드림",
      "photoUrl": "",
      "userId": "07634882938470382203"
     },
     "user_tz": -540
    },
    "id": "qsxDUqAW_E3S",
    "outputId": "3989bed1-a9ed-493e-87c1-04b0ecc6438e"
   },
   "outputs": [],
   "source": [
    "np.count_nonzero(data.isnull())"
   ]
  },
  {
   "cell_type": "code",
   "execution_count": null,
   "metadata": {
    "colab": {
     "base_uri": "https://localhost:8080/",
     "height": 34
    },
    "colab_type": "code",
    "executionInfo": {
     "elapsed": 587,
     "status": "ok",
     "timestamp": 1597828463614,
     "user": {
      "displayName": "정드림",
      "photoUrl": "",
      "userId": "07634882938470382203"
     },
     "user_tz": -540
    },
    "id": "seV9pglN_E3U",
    "outputId": "1f266e9e-c77d-4149-b8c6-8a85b2e5b013"
   },
   "outputs": [],
   "source": [
    "np.count_nonzero([True, True, False])"
   ]
  },
  {
   "cell_type": "markdown",
   "metadata": {
    "colab_type": "text",
    "id": "jtooPree_E3Z"
   },
   "source": [
    "# 실제 데이터를 이용한 결측치의 분석"
   ]
  },
  {
   "cell_type": "code",
   "execution_count": null,
   "metadata": {
    "colab": {
     "base_uri": "https://localhost:8080/",
     "height": 422
    },
    "colab_type": "code",
    "executionInfo": {
     "elapsed": 573,
     "status": "error",
     "timestamp": 1597828466299,
     "user": {
      "displayName": "정드림",
      "photoUrl": "",
      "userId": "07634882938470382203"
     },
     "user_tz": -540
    },
    "id": "mgubyjZb_E3a",
    "outputId": "36bd2f8a-c49e-44bd-d606-7f0833d80efa"
   },
   "outputs": [],
   "source": [
    "ebola = pd.read_csv('C:/Users//country_timeseries.csv')\n",
    "ebola"
   ]
  },
  {
   "cell_type": "code",
   "execution_count": null,
   "metadata": {
    "colab": {},
    "colab_type": "code",
    "id": "dI-ckt72_E3i"
   },
   "outputs": [],
   "source": [
    "ebola.info()"
   ]
  },
  {
   "cell_type": "code",
   "execution_count": null,
   "metadata": {
    "colab": {},
    "colab_type": "code",
    "id": "CohDOCsa_E3k"
   },
   "outputs": [],
   "source": [
    "ebola.count()"
   ]
  },
  {
   "cell_type": "code",
   "execution_count": null,
   "metadata": {
    "colab": {},
    "colab_type": "code",
    "id": "rtEVoziX_E3n"
   },
   "outputs": [],
   "source": [
    "num_rows = ebola.shape[0]\n",
    "num_missing = num_rows - ebola.count()\n",
    "num_missing"
   ]
  },
  {
   "cell_type": "code",
   "execution_count": null,
   "metadata": {
    "colab": {},
    "colab_type": "code",
    "id": "3UKpXmms_E3q"
   },
   "outputs": [],
   "source": [
    "np.count_nonzero(ebola.isnull())"
   ]
  },
  {
   "cell_type": "code",
   "execution_count": null,
   "metadata": {
    "colab": {},
    "colab_type": "code",
    "id": "J1rhHk-K_E3s"
   },
   "outputs": [],
   "source": [
    "np.count_nonzero(ebola.isnull(), axis=0)"
   ]
  },
  {
   "cell_type": "code",
   "execution_count": null,
   "metadata": {
    "colab": {},
    "colab_type": "code",
    "id": "wZ2WfoRO_E3u"
   },
   "outputs": [],
   "source": [
    "np.count_nonzero(ebola.isnull(), axis=1)"
   ]
  },
  {
   "cell_type": "markdown",
   "metadata": {
    "colab_type": "text",
    "id": "J7wUNXjt_E3x"
   },
   "source": [
    "# 결측값 삭제하기"
   ]
  },
  {
   "cell_type": "code",
   "execution_count": null,
   "metadata": {
    "colab": {
     "base_uri": "https://localhost:8080/",
     "height": 105
    },
    "colab_type": "code",
    "executionInfo": {
     "elapsed": 684,
     "status": "ok",
     "timestamp": 1597828420674,
     "user": {
      "displayName": "정드림",
      "photoUrl": "",
      "userId": "07634882938470382203"
     },
     "user_tz": -540
    },
    "id": "dVO3Wzjh_E3x",
    "outputId": "2566a006-fd02-4557-d1ac-16c403dee1ba"
   },
   "outputs": [],
   "source": [
    "data"
   ]
  },
  {
   "cell_type": "code",
   "execution_count": null,
   "metadata": {
    "colab": {
     "base_uri": "https://localhost:8080/",
     "height": 87
    },
    "colab_type": "code",
    "executionInfo": {
     "elapsed": 678,
     "status": "ok",
     "timestamp": 1597828420675,
     "user": {
      "displayName": "정드림",
      "photoUrl": "",
      "userId": "07634882938470382203"
     },
     "user_tz": -540
    },
    "id": "qs5cy4Ep_E31",
    "outputId": "5d3c3e63-6461-43f4-e86f-7907e89aa976"
   },
   "outputs": [],
   "source": [
    "data.dropna()"
   ]
  },
  {
   "cell_type": "code",
   "execution_count": null,
   "metadata": {
    "colab": {
     "base_uri": "https://localhost:8080/",
     "height": 105
    },
    "colab_type": "code",
    "executionInfo": {
     "elapsed": 670,
     "status": "ok",
     "timestamp": 1597828420676,
     "user": {
      "displayName": "정드림",
      "photoUrl": "",
      "userId": "07634882938470382203"
     },
     "user_tz": -540
    },
    "id": "gpclhn61_E34",
    "outputId": "dbc26afa-62d7-4503-b9a7-318ff14ebf6d"
   },
   "outputs": [],
   "source": [
    "data"
   ]
  },
  {
   "cell_type": "code",
   "execution_count": null,
   "metadata": {
    "colab": {},
    "colab_type": "code",
    "id": "q-wHFfaG_E37"
   },
   "outputs": [],
   "source": [
    "data.dropna(inplace=True)   # inplace 매개변수를 true로 하면 변경된 내용이 data 객체에 저장된다."
   ]
  },
  {
   "cell_type": "code",
   "execution_count": null,
   "metadata": {
    "colab": {
     "base_uri": "https://localhost:8080/",
     "height": 87
    },
    "colab_type": "code",
    "executionInfo": {
     "elapsed": 664,
     "status": "ok",
     "timestamp": 1597828420678,
     "user": {
      "displayName": "정드림",
      "photoUrl": "",
      "userId": "07634882938470382203"
     },
     "user_tz": -540
    },
    "id": "tfVlulUN_E39",
    "outputId": "5bd40eda-34e8-4f68-84b0-d66c9db5dc29"
   },
   "outputs": [],
   "source": [
    "data"
   ]
  },
  {
   "cell_type": "code",
   "execution_count": null,
   "metadata": {
    "colab": {
     "base_uri": "https://localhost:8080/",
     "height": 186
    },
    "colab_type": "code",
    "executionInfo": {
     "elapsed": 981,
     "status": "error",
     "timestamp": 1597828421000,
     "user": {
      "displayName": "정드림",
      "photoUrl": "",
      "userId": "07634882938470382203"
     },
     "user_tz": -540
    },
    "id": "UG-UqR7F_E3_",
    "outputId": "7fea921e-6d33-44ad-a257-25b78724c96b"
   },
   "outputs": [],
   "source": [
    "df = pd.DataFrame([[1,6.5,3],[1,NaN, NaN],[NaN, NaN, NaN],[NaN, 6.5,3]])\n",
    "df"
   ]
  },
  {
   "cell_type": "code",
   "execution_count": null,
   "metadata": {
    "colab": {},
    "colab_type": "code",
    "id": "TBjDnGlh_E4B"
   },
   "outputs": [],
   "source": [
    "df.dropna()"
   ]
  },
  {
   "cell_type": "code",
   "execution_count": null,
   "metadata": {
    "colab": {},
    "colab_type": "code",
    "id": "Mwo4oH3E_E4E"
   },
   "outputs": [],
   "source": [
    "df.dropna(how='all')"
   ]
  },
  {
   "cell_type": "code",
   "execution_count": null,
   "metadata": {
    "colab": {},
    "colab_type": "code",
    "id": "81EnnDu5_E4H"
   },
   "outputs": [],
   "source": [
    "df[4]=NaN\n",
    "df"
   ]
  },
  {
   "cell_type": "code",
   "execution_count": null,
   "metadata": {
    "colab": {},
    "colab_type": "code",
    "id": "ByVjpl71_E4J"
   },
   "outputs": [],
   "source": [
    "df.dropna(axis=1, how='all')"
   ]
  },
  {
   "cell_type": "code",
   "execution_count": null,
   "metadata": {
    "colab": {},
    "colab_type": "code",
    "id": "le_Ikqz1_E4L"
   },
   "outputs": [],
   "source": [
    "ebola_nomissing = ebola.dropna()"
   ]
  },
  {
   "cell_type": "code",
   "execution_count": null,
   "metadata": {
    "colab": {},
    "colab_type": "code",
    "id": "UNfGeBF1_E4O"
   },
   "outputs": [],
   "source": [
    "ebola_nomissing"
   ]
  },
  {
   "cell_type": "code",
   "execution_count": null,
   "metadata": {
    "colab": {},
    "colab_type": "code",
    "id": "m2E3k6lI_E4Q"
   },
   "outputs": [],
   "source": [
    "ebola_nomissing.info()"
   ]
  },
  {
   "cell_type": "markdown",
   "metadata": {
    "colab_type": "text",
    "id": "FFdjgzcG_E4S"
   },
   "source": [
    "# 결측치는 다른값으로 변환하기"
   ]
  },
  {
   "cell_type": "code",
   "execution_count": null,
   "metadata": {
    "colab": {},
    "colab_type": "code",
    "id": "LLcoBoG__E4T"
   },
   "outputs": [],
   "source": [
    "df"
   ]
  },
  {
   "cell_type": "code",
   "execution_count": null,
   "metadata": {
    "colab": {},
    "colab_type": "code",
    "id": "iQMgxfpZ_E4W"
   },
   "outputs": [],
   "source": [
    "df.fillna(0)"
   ]
  },
  {
   "cell_type": "code",
   "execution_count": null,
   "metadata": {
    "colab": {},
    "colab_type": "code",
    "id": "C9tc8QMt_E4Z"
   },
   "outputs": [],
   "source": [
    "df.fillna(method='ffill')"
   ]
  },
  {
   "cell_type": "code",
   "execution_count": null,
   "metadata": {
    "colab": {},
    "colab_type": "code",
    "id": "Em1iz-Qe_E4b"
   },
   "outputs": [],
   "source": [
    "df.fillna(method='bfill')"
   ]
  },
  {
   "cell_type": "code",
   "execution_count": null,
   "metadata": {
    "colab": {},
    "colab_type": "code",
    "id": "jnLZzm_E_E4d"
   },
   "outputs": [],
   "source": [
    "df.fillna(method='ffill', axis=1)"
   ]
  },
  {
   "cell_type": "code",
   "execution_count": null,
   "metadata": {
    "colab": {},
    "colab_type": "code",
    "id": "Opc2YQMl_E4j"
   },
   "outputs": [],
   "source": [
    "df.mean()"
   ]
  },
  {
   "cell_type": "code",
   "execution_count": null,
   "metadata": {
    "colab": {},
    "colab_type": "code",
    "id": "CO2noINy_E4l"
   },
   "outputs": [],
   "source": [
    "df.fillna(df.mean())"
   ]
  },
  {
   "cell_type": "markdown",
   "metadata": {
    "colab_type": "text",
    "id": "RHSj5EuV_E4n"
   },
   "source": [
    "# 결측값을 포함하여 계산하기"
   ]
  },
  {
   "cell_type": "code",
   "execution_count": null,
   "metadata": {
    "colab": {},
    "colab_type": "code",
    "id": "nNyYrg79_E4p"
   },
   "outputs": [],
   "source": [
    "df.mean(axis=1)"
   ]
  },
  {
   "cell_type": "code",
   "execution_count": null,
   "metadata": {
    "colab": {},
    "colab_type": "code",
    "id": "R5JBU-9A_E4r"
   },
   "outputs": [],
   "source": [
    "df.mean(skipna=False)"
   ]
  },
  {
   "cell_type": "code",
   "execution_count": null,
   "metadata": {
    "colab": {},
    "colab_type": "code",
    "id": "Xoic_G2a_E4u"
   },
   "outputs": [],
   "source": [
    "ebola.sum()"
   ]
  },
  {
   "cell_type": "code",
   "execution_count": null,
   "metadata": {
    "colab": {},
    "colab_type": "code",
    "id": "JrU4naLI_E4x"
   },
   "outputs": [],
   "source": [
    "ebola.sum(skipna=False)"
   ]
  },
  {
   "cell_type": "markdown",
   "metadata": {
    "colab_type": "text",
    "id": "8cv-eQV-_E40"
   },
   "source": [
    "## 데이터 연결하기"
   ]
  },
  {
   "cell_type": "markdown",
   "metadata": {
    "colab_type": "text",
    "id": "Swgt3hq8_E40"
   },
   "source": [
    "### concat() 함수를 이용하여 데이터프레임 연결하기"
   ]
  },
  {
   "cell_type": "code",
   "execution_count": null,
   "metadata": {
    "colab": {},
    "colab_type": "code",
    "id": "dY9Ss6Of_E41"
   },
   "outputs": [],
   "source": [
    "df1 = pd.DataFrame({'A': ['a0', 'a1', 'a2', 'a3'],\n",
    "                    'B': ['b0', 'b1', 'b2', 'b3'],\n",
    "                    'C': ['c0', 'c1', 'c2', 'c3'],\n",
    "                    'D': ['d0', 'd1', 'd2', 'd3']})\n",
    "df1"
   ]
  },
  {
   "cell_type": "code",
   "execution_count": null,
   "metadata": {
    "colab": {},
    "colab_type": "code",
    "id": "s6tMJbe6_E43"
   },
   "outputs": [],
   "source": [
    "df2 = pd.DataFrame({'A': ['a4', 'a5', 'a6', 'a7'],\n",
    "                    'B': ['b4', 'b5', 'b6', 'b7'],\n",
    "                    'C': ['c4', 'c5', 'c6', 'c7'],\n",
    "                    'D': ['d4', 'd5', 'd6', 'd7']})\n",
    "df2"
   ]
  },
  {
   "cell_type": "code",
   "execution_count": null,
   "metadata": {
    "colab": {},
    "colab_type": "code",
    "id": "vmoz4k7l_E45"
   },
   "outputs": [],
   "source": [
    "df3 = pd.DataFrame({'A': ['a8', 'a9', 'a10', 'a11'],\n",
    "                    'B': ['b8', 'b9', 'b10', 'b11'],\n",
    "                    'C': ['c8', 'c9', 'c10','c11'],\n",
    "                    'D': ['d8', 'd9', 'd10', 'd11']})\n",
    "df3"
   ]
  },
  {
   "cell_type": "markdown",
   "metadata": {
    "colab_type": "text",
    "id": "sWY-HIvX_E49"
   },
   "source": [
    "# 행방향으로 데이터프레임 연결하기 axis=0 (default 값임으로 생략하면 됨)"
   ]
  },
  {
   "cell_type": "code",
   "execution_count": null,
   "metadata": {
    "colab": {},
    "colab_type": "code",
    "id": "OEeUUnqa_E4-"
   },
   "outputs": [],
   "source": [
    "row_concat = pd.concat([df1, df2, df3])\n",
    "row_concat"
   ]
  },
  {
   "cell_type": "code",
   "execution_count": null,
   "metadata": {
    "colab": {},
    "colab_type": "code",
    "id": "IpatVqbN_E5C"
   },
   "outputs": [],
   "source": [
    "row_concat.iloc[3,]"
   ]
  },
  {
   "cell_type": "code",
   "execution_count": null,
   "metadata": {
    "colab": {},
    "colab_type": "code",
    "id": "rRdTO-t__E5F"
   },
   "outputs": [],
   "source": [
    "row_concat.iloc[4,]"
   ]
  },
  {
   "cell_type": "code",
   "execution_count": null,
   "metadata": {
    "colab": {},
    "colab_type": "code",
    "id": "grPRQSTm_E5H"
   },
   "outputs": [],
   "source": [
    "row_concat.loc[3]"
   ]
  },
  {
   "cell_type": "markdown",
   "metadata": {
    "colab_type": "text",
    "id": "GJlW5jbE_E5L"
   },
   "source": [
    "# 데이터프레임과 시리즈를 연결하면 시리즈는 이름이 없는 열이 되므로 뜻하지 않은 결과를 얻는다."
   ]
  },
  {
   "cell_type": "code",
   "execution_count": null,
   "metadata": {
    "colab": {},
    "colab_type": "code",
    "id": "KqJ6K-fM_E5M"
   },
   "outputs": [],
   "source": [
    "new_row_series = pd.Series(['n1', 'n2', 'n3', 'n4'])\n",
    "new_row_series"
   ]
  },
  {
   "cell_type": "code",
   "execution_count": null,
   "metadata": {
    "colab": {},
    "colab_type": "code",
    "id": "MoMdv79z_E5O"
   },
   "outputs": [],
   "source": [
    "pd.concat([df1, new_row_series])"
   ]
  },
  {
   "cell_type": "code",
   "execution_count": null,
   "metadata": {
    "colab": {},
    "colab_type": "code",
    "id": "ckjhKFgM_E5S"
   },
   "outputs": [],
   "source": [
    "new_row_df = pd.DataFrame([['n1', 'n2', 'n3', 'n4']], columns=['A','B','C','D'])\n",
    "new_row_df"
   ]
  },
  {
   "cell_type": "code",
   "execution_count": null,
   "metadata": {
    "colab": {},
    "colab_type": "code",
    "id": "VQj-Gd4q_E5U"
   },
   "outputs": [],
   "source": [
    "pd.concat([df1, new_row_df])"
   ]
  },
  {
   "cell_type": "code",
   "execution_count": null,
   "metadata": {
    "colab": {},
    "colab_type": "code",
    "id": "jbBWG-hr_E5W"
   },
   "outputs": [],
   "source": [
    "df1.append(new_row_df)"
   ]
  },
  {
   "cell_type": "code",
   "execution_count": null,
   "metadata": {
    "colab": {},
    "colab_type": "code",
    "id": "PLWqhkPa_E5Z"
   },
   "outputs": [],
   "source": [
    "pd.concat([df1, new_row_df], ignore_index=True)     # ignore_index=True로 정의하면 index가 새롭게 차례대로 정의된다."
   ]
  },
  {
   "cell_type": "markdown",
   "metadata": {
    "colab_type": "text",
    "id": "W6en9koB_E5b"
   },
   "source": [
    "# 열방향으로 데이터프레임 연결하기 axis=1"
   ]
  },
  {
   "cell_type": "code",
   "execution_count": null,
   "metadata": {
    "colab": {},
    "colab_type": "code",
    "id": "lH5il8UH_E5c"
   },
   "outputs": [],
   "source": [
    "col_concat = pd.concat([df1, df2, df3], axis=1)\n",
    "col_concat"
   ]
  },
  {
   "cell_type": "code",
   "execution_count": null,
   "metadata": {
    "colab": {},
    "colab_type": "code",
    "id": "h2oKM1Vp_E5d"
   },
   "outputs": [],
   "source": [
    "col_concat['A']"
   ]
  },
  {
   "cell_type": "code",
   "execution_count": null,
   "metadata": {
    "colab": {},
    "colab_type": "code",
    "id": "hMIVqoGD_E5f"
   },
   "outputs": [],
   "source": [
    "# 새로운 열을 추가하기\n",
    "col_concat['new_col'] = ['n0', 'n1', 'n2', 'n3']\n",
    "col_concat"
   ]
  },
  {
   "cell_type": "code",
   "execution_count": null,
   "metadata": {
    "colab": {},
    "colab_type": "code",
    "id": "iUIV3jxK_E5g"
   },
   "outputs": [],
   "source": [
    "pd.concat([df1, df2], axis=1, ignore_index=True)"
   ]
  },
  {
   "cell_type": "markdown",
   "metadata": {
    "colab_type": "text",
    "id": "mQDMUx2T_E5j"
   },
   "source": [
    "# 열 이름의 일부가 서로 다른 데이터프레임의 연결"
   ]
  },
  {
   "cell_type": "code",
   "execution_count": null,
   "metadata": {
    "colab": {},
    "colab_type": "code",
    "id": "hfUURF9q_E5j"
   },
   "outputs": [],
   "source": [
    "df2.columns = ['A', 'B', 'E', 'F']\n",
    "df2"
   ]
  },
  {
   "cell_type": "code",
   "execution_count": null,
   "metadata": {
    "colab": {},
    "colab_type": "code",
    "id": "esvH4cF4_E5k"
   },
   "outputs": [],
   "source": [
    "row_concat = pd.concat([df1, df2])\n",
    "row_concat"
   ]
  },
  {
   "cell_type": "code",
   "execution_count": null,
   "metadata": {
    "colab": {},
    "colab_type": "code",
    "id": "ijpwaGLG_E5m"
   },
   "outputs": [],
   "source": [
    "pd.concat([df1,df2], join='inner', ignore_index=True)   # 공통 열만 골라내기"
   ]
  },
  {
   "cell_type": "markdown",
   "metadata": {
    "colab_type": "text",
    "id": "cQHEEEAf_E5r"
   },
   "source": [
    "# 행 index가 일부 다른 데이터프레임을 axis=1로 연결"
   ]
  },
  {
   "cell_type": "code",
   "execution_count": null,
   "metadata": {
    "colab": {},
    "colab_type": "code",
    "id": "q8V0hYtI_E5r"
   },
   "outputs": [],
   "source": [
    "df2.index = [0,1,4,5]\n",
    "df2"
   ]
  },
  {
   "cell_type": "code",
   "execution_count": null,
   "metadata": {
    "colab": {},
    "colab_type": "code",
    "id": "ZSY5nmdo_E5s"
   },
   "outputs": [],
   "source": [
    "col_concat = pd.concat([df1, df2], axis =1)\n",
    "col_concat"
   ]
  },
  {
   "cell_type": "code",
   "execution_count": null,
   "metadata": {
    "colab": {},
    "colab_type": "code",
    "id": "Ke2b2MWK_E5v"
   },
   "outputs": [],
   "source": [
    "col_concat = pd.concat([df1, df2], axis=1, join = 'inner')\n",
    "col_concat"
   ]
  },
  {
   "cell_type": "code",
   "execution_count": null,
   "metadata": {
    "colab": {},
    "colab_type": "code",
    "id": "pMx6kGfu_E5x"
   },
   "outputs": [],
   "source": [
    "row_concat = pd.concat([df1, df2])\n",
    "row_concat"
   ]
  },
  {
   "cell_type": "markdown",
   "metadata": {
    "colab_type": "text",
    "id": "4f5Ro4Fl_E5y"
   },
   "source": [
    "# merge() 함수를 이용하여 데이터프레임 연결하기"
   ]
  },
  {
   "cell_type": "code",
   "execution_count": null,
   "metadata": {
    "colab": {},
    "colab_type": "code",
    "id": "8QSqyZbx_E5z"
   },
   "outputs": [],
   "source": [
    "df1 = pd.DataFrame({'key':['b','b','a','c','a','a','b'], 'data1':range(7)})\n",
    "df1"
   ]
  },
  {
   "cell_type": "code",
   "execution_count": null,
   "metadata": {
    "colab": {},
    "colab_type": "code",
    "id": "ptvM9Nt7_E50"
   },
   "outputs": [],
   "source": [
    "df2 = pd.DataFrame({'key': ['a','b','d'], 'data2':range(3)})\n",
    "df2"
   ]
  },
  {
   "cell_type": "code",
   "execution_count": null,
   "metadata": {
    "colab": {},
    "colab_type": "code",
    "id": "wRP2uBKA_E52"
   },
   "outputs": [],
   "source": [
    "pd.merge(df1, df2, on='key')"
   ]
  },
  {
   "cell_type": "code",
   "execution_count": null,
   "metadata": {
    "colab": {},
    "colab_type": "code",
    "id": "qLNFbGZZ_E53"
   },
   "outputs": [],
   "source": [
    "pd.merge(df1, df2, how='outer')   # 열이름이 'key'인 경우 지정하지 않아도 된다."
   ]
  },
  {
   "cell_type": "code",
   "execution_count": null,
   "metadata": {
    "colab": {},
    "colab_type": "code",
    "id": "EhlojTNk_E55"
   },
   "outputs": [],
   "source": [
    "pd.merge(df1, df2, how='left')   "
   ]
  },
  {
   "cell_type": "code",
   "execution_count": null,
   "metadata": {
    "colab": {},
    "colab_type": "code",
    "id": "EuNymIDk_E57"
   },
   "outputs": [],
   "source": [
    "#  두열의 join 열 이름이 다른 경우\n",
    "df3 = pd.DataFrame({'lkey': ['b','b','a','c','a','a','b'], 'data1':range(7)})\n",
    "df3"
   ]
  },
  {
   "cell_type": "code",
   "execution_count": null,
   "metadata": {
    "colab": {},
    "colab_type": "code",
    "id": "BZu_-cio_E59"
   },
   "outputs": [],
   "source": [
    "df4 = pd.DataFrame({'rkey': ['a','b','d'], 'data2': range(3)})\n",
    "df4"
   ]
  },
  {
   "cell_type": "code",
   "execution_count": null,
   "metadata": {
    "colab": {},
    "colab_type": "code",
    "id": "Suzzzv1f_E5_"
   },
   "outputs": [],
   "source": [
    "pd.merge(df3, df4, left_on='lkey', right_on=\"rkey\")"
   ]
  },
  {
   "cell_type": "markdown",
   "metadata": {
    "colab_type": "text",
    "id": "iPNl5ovX_E6B"
   },
   "source": [
    "# 깔끔한 데이터 (tidy data) 만들기"
   ]
  },
  {
   "cell_type": "markdown",
   "metadata": {
    "colab_type": "text",
    "id": "l7jx6GVf_E6B"
   },
   "source": [
    "열과 피벗"
   ]
  },
  {
   "cell_type": "code",
   "execution_count": null,
   "metadata": {
    "colab": {},
    "colab_type": "code",
    "id": "_Nnf7Ybq_E6B"
   },
   "outputs": [],
   "source": [
    "pew= pd.read_csv('C:/Users//pew.csv')\n",
    "pew"
   ]
  },
  {
   "cell_type": "code",
   "execution_count": null,
   "metadata": {
    "colab": {},
    "colab_type": "code",
    "id": "oS3h5wg2_E6D"
   },
   "outputs": [],
   "source": [
    "pew.info()"
   ]
  },
  {
   "cell_type": "code",
   "execution_count": null,
   "metadata": {
    "colab": {},
    "colab_type": "code",
    "id": "_Dc4rLpz_E6F"
   },
   "outputs": [],
   "source": [
    "pew_long = pd.melt(pew, id_vars='religion')\n",
    "pew_long"
   ]
  },
  {
   "cell_type": "code",
   "execution_count": null,
   "metadata": {
    "colab": {},
    "colab_type": "code",
    "id": "k2ZXf4SR_E6G"
   },
   "outputs": [],
   "source": [
    "pew_long.info()"
   ]
  },
  {
   "cell_type": "code",
   "execution_count": null,
   "metadata": {
    "colab": {},
    "colab_type": "code",
    "id": "rB2eQc9H_E6I"
   },
   "outputs": [],
   "source": [
    "pew_long = pd.melt(pew, id_vars='religion', var_name='income', value_name='count')\n",
    "pew_long"
   ]
  },
  {
   "cell_type": "markdown",
   "metadata": {
    "colab_type": "text",
    "id": "JX9G9R7f_E6J"
   },
   "source": [
    "# 2개 이상의 열을 고정하고 나머지 열의 내용을 long포맷으로 변경하기"
   ]
  },
  {
   "cell_type": "code",
   "execution_count": null,
   "metadata": {
    "colab": {},
    "colab_type": "code",
    "id": "PV9_LuOI_E6K"
   },
   "outputs": [],
   "source": [
    "billboard = pd.read_csv('C:/Users//billboard.csv')\n",
    "billboard"
   ]
  },
  {
   "cell_type": "code",
   "execution_count": null,
   "metadata": {
    "colab": {},
    "colab_type": "code",
    "id": "s0SavSxZ_E6L"
   },
   "outputs": [],
   "source": [
    "billboard.info()"
   ]
  },
  {
   "cell_type": "code",
   "execution_count": null,
   "metadata": {
    "colab": {},
    "colab_type": "code",
    "id": "xOn0rYk3_E6M"
   },
   "outputs": [],
   "source": [
    "billboard_long = pd.melt(billboard, id_vars=['year', 'artist', 'track', 'time', 'date.entered'], var_name='week', value_name='rating')\n",
    "billboard_long"
   ]
  },
  {
   "cell_type": "markdown",
   "metadata": {
    "colab_type": "text",
    "id": "38PdMy-t_E6N"
   },
   "source": [
    "# 열이름 관리하기"
   ]
  },
  {
   "cell_type": "code",
   "execution_count": null,
   "metadata": {
    "colab": {},
    "colab_type": "code",
    "id": "y0M9VGbD_E6N"
   },
   "outputs": [],
   "source": [
    "ebola"
   ]
  },
  {
   "cell_type": "code",
   "execution_count": null,
   "metadata": {
    "colab": {},
    "colab_type": "code",
    "id": "IYZJ-LEe_E6P"
   },
   "outputs": [],
   "source": [
    "ebola.columns"
   ]
  },
  {
   "cell_type": "code",
   "execution_count": null,
   "metadata": {
    "colab": {},
    "colab_type": "code",
    "id": "aoFxzG1g_E6R"
   },
   "outputs": [],
   "source": [
    "ebola.iloc[:5, [0,1,2,3,10,11]]"
   ]
  },
  {
   "cell_type": "code",
   "execution_count": null,
   "metadata": {
    "colab": {},
    "colab_type": "code",
    "id": "yaggblt3_E6S"
   },
   "outputs": [],
   "source": [
    "ebola_long = pd.melt(ebola, id_vars=['Date', 'Day'])\n",
    "ebola_long"
   ]
  },
  {
   "cell_type": "code",
   "execution_count": null,
   "metadata": {
    "colab": {},
    "colab_type": "code",
    "id": "i-7Y1UnR_E6T"
   },
   "outputs": [],
   "source": [
    "variable_split = ebola_long.variable.str.split('_')\n",
    "variable_split"
   ]
  },
  {
   "cell_type": "code",
   "execution_count": null,
   "metadata": {
    "colab": {},
    "colab_type": "code",
    "id": "XHOz-NGv_E6U"
   },
   "outputs": [],
   "source": [
    "type(variable_split)"
   ]
  },
  {
   "cell_type": "code",
   "execution_count": null,
   "metadata": {
    "colab": {},
    "colab_type": "code",
    "id": "O1VvOoUC_E6V"
   },
   "outputs": [],
   "source": [
    "variable_split[0]"
   ]
  },
  {
   "cell_type": "code",
   "execution_count": null,
   "metadata": {
    "colab": {},
    "colab_type": "code",
    "id": "cNtZ1Ez__E6W"
   },
   "outputs": [],
   "source": [
    "status = variable_split.str.get(0)\n",
    "status"
   ]
  },
  {
   "cell_type": "code",
   "execution_count": null,
   "metadata": {
    "colab": {},
    "colab_type": "code",
    "id": "KXJdebav_E6a"
   },
   "outputs": [],
   "source": [
    "country = variable_split.str.get(1)\n",
    "country"
   ]
  },
  {
   "cell_type": "code",
   "execution_count": null,
   "metadata": {
    "colab": {},
    "colab_type": "code",
    "id": "U3k_-Qwb_E6d"
   },
   "outputs": [],
   "source": [
    "ebola_long['status'] = status\n",
    "ebola_long['country'] = country\n",
    "ebola_long"
   ]
  },
  {
   "cell_type": "code",
   "execution_count": null,
   "metadata": {
    "colab": {},
    "colab_type": "code",
    "id": "G-7nimi6_E6g"
   },
   "outputs": [],
   "source": []
  }
 ],
 "metadata": {
  "colab": {
   "name": "5.1_Pandas응용.ipynb",
   "provenance": []
  },
  "kernelspec": {
   "display_name": "Python 3",
   "language": "python",
   "name": "python3"
  },
  "language_info": {
   "codemirror_mode": {
    "name": "ipython",
    "version": 3
   },
   "file_extension": ".py",
   "mimetype": "text/x-python",
   "name": "python",
   "nbconvert_exporter": "python",
   "pygments_lexer": "ipython3",
   "version": "3.8.5"
  }
 },
 "nbformat": 4,
 "nbformat_minor": 1
}
