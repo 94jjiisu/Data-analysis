{
 "cells": [
  {
   "cell_type": "code",
   "execution_count": 1,
   "metadata": {
    "colab": {},
    "colab_type": "code",
    "executionInfo": {
     "elapsed": 1021,
     "status": "ok",
     "timestamp": 1598842367325,
     "user": {
      "displayName": "박지수",
      "photoUrl": "",
      "userId": "15151265950850399854"
     },
     "user_tz": -540
    },
    "id": "gguqXK-taisI"
   },
   "outputs": [],
   "source": [
    "import numpy as np\n",
    "import pandas as pd\n",
    "from sklearn import datasets, linear_model\n",
    "import matplotlib.pyplot as plt\n",
    "import seaborn as sns\n",
    "from patsy import dmatrices\n",
    "import statsmodels.api as sm\n",
    "import statsmodels.formula.api as smf\n",
    "import statsmodels\n",
    "import statsmodels.stats.api as sms\n",
    "from statsmodels.compat import lzip\n",
    "from sklearn.preprocessing import StandardScaler\n",
    "import scipy.stats as stats\n",
    "from scipy.stats import probplot\n",
    "from statsmodels.stats.outliers_influence import variance_inflation_factor\n",
    "from statsmodels.stats.stattools import jarque_bera\n",
    "#import statsmodels.formula.api as sm\n",
    "from statsmodels.sandbox.regression.predstd import wls_prediction_std\n",
    "%matplotlib inline "
   ]
  },
  {
   "cell_type": "code",
   "execution_count": 2,
   "metadata": {
    "colab": {
     "base_uri": "https://localhost:8080/",
     "height": 386
    },
    "colab_type": "code",
    "executionInfo": {
     "elapsed": 1874,
     "status": "error",
     "timestamp": 1598842368189,
     "user": {
      "displayName": "박지수",
      "photoUrl": "",
      "userId": "15151265950850399854"
     },
     "user_tz": -540
    },
    "id": "pJipHC8GaisM",
    "outputId": "a70081e0-8ded-4044-8e22-c39334d0467b"
   },
   "outputs": [],
   "source": [
    "USA = pd.read_excel('C:/Users/park/Desktop/실증분 8월팀/data/USA.xlsx')\n",
    "FRA = pd.read_excel('C:/Users/park/Desktop/실증분 8월팀/data/FRA.xlsx')\n",
    "GBR = pd.read_excel('C:/Users/park/Desktop/실증분 8월팀/data/GBR.xlsx')\n",
    "DEU = pd.read_excel('C:/Users/park/Desktop/실증분 8월팀/data/DEU.xlsx')\n",
    "JPN = pd.read_excel('C:/Users/park/Desktop/실증분 8월팀/data/JPN.xlsx')\n",
    "KOR = pd.read_excel('C:/Users/park/Desktop/실증분 8월팀/data/KOR.xlsx')"
   ]
  },
  {
   "cell_type": "code",
   "execution_count": 3,
   "metadata": {},
   "outputs": [],
   "source": [
    "def standard_scaling(data):    # 스탠다드 스케일링\n",
    "    std_scaler = StandardScaler()\n",
    "    std_scale = std_scaler.fit_transform(data)\n",
    "    std_scale = pd.DataFrame(std_scale, columns = data.columns, index=list(data.index.values))\n",
    "    return std_scale"
   ]
  },
  {
   "cell_type": "code",
   "execution_count": 4,
   "metadata": {},
   "outputs": [],
   "source": [
    "def preprocessing(name):   # 한국 제외한 나라들 전처리\n",
    "    name['GOVT_RESEARCH'] = name['govt_research']*name['GDP']*0.01\n",
    "    name = name.iloc[:34]\n",
    "    name = name.fillna(method='ffill')\n",
    "    name = name.drop(['TIME', 'real_minimun_wage_ppp', 'r&d_taxrate','LOCATION', 'GDP'], axis = 1)\n",
    "    name = name.rename(columns={'r&d_investment': 'rnd_investment'})\n",
    "    #name = standard_scaling(name)\n",
    "    return standard_scaling(name)"
   ]
  },
  {
   "cell_type": "code",
   "execution_count": 5,
   "metadata": {},
   "outputs": [],
   "source": [
    "def preprocessing_K(name):   # 한국 전처리\n",
    "    name['GOVT_RESEARCH'] = name['govt_research']*name['GDP']*0.01\n",
    "    name = name.iloc[10:34]\n",
    "    name = name.fillna(method='ffill')\n",
    "    name = name.drop(['TIME', 'real_minimun_wage_ppp', 'r&d_taxrate','LOCATION', 'GDP'], axis = 1)\n",
    "    name = name.rename(columns={'r&d_investment': 'rnd_investment'})\n",
    "    #name = standard_scaling(name)\n",
    "    return standard_scaling(name)"
   ]
  },
  {
   "cell_type": "code",
   "execution_count": 6,
   "metadata": {},
   "outputs": [],
   "source": [
    "def preprocessing_U(name):   # 미국 전처리\n",
    "    #name['GOVT_RESEARCH'] = name['govt_research']*name['GDP']*0.01\n",
    "    name = name.iloc[10:34]\n",
    "    name = name.fillna(method='ffill')\n",
    "    name = name.drop(['TIME', 'real_minimun_wage_ppp', 'r&d_taxrate','LOCATION', 'GDP'], axis = 1)\n",
    "    name = name.rename(columns={'r&d_investment': 'rnd_investment'})\n",
    "    #name = standard_scaling(name)\n",
    "    return standard_scaling(name)"
   ]
  },
  {
   "cell_type": "code",
   "execution_count": 7,
   "metadata": {},
   "outputs": [],
   "source": [
    "U = preprocessing(USA)\n",
    "F = preprocessing(FRA)\n",
    "B = preprocessing(GBR)\n",
    "D = preprocessing(DEU)\n",
    "J = preprocessing(JPN)\n",
    "K = preprocessing_K(KOR)"
   ]
  },
  {
   "cell_type": "code",
   "execution_count": 8,
   "metadata": {},
   "outputs": [],
   "source": [
    "def OLS_test(df):    # 기본 OLS 검정\n",
    "    model = sm.OLS.from_formula(\"triadic_patent_value ~  govt_research + researcher_1000 + rnd_investment + GOVT_RESEARCH\", data = df)\n",
    "    result = model.fit()\n",
    "    return result.summary()"
   ]
  },
  {
   "cell_type": "code",
   "execution_count": 9,
   "metadata": {},
   "outputs": [],
   "source": [
    "def OLS_test_U(df):    # 기본 OLS 검정\n",
    "    model = sm.OLS.from_formula(\"triadic_patent_value ~ researcher_1000 + rnd_investment\", data = df)\n",
    "    result = model.fit()\n",
    "    return result.summary()"
   ]
  },
  {
   "cell_type": "code",
   "execution_count": 10,
   "metadata": {},
   "outputs": [],
   "source": [
    "def VIF_test_U(df):    # VIF >>> 다중공선성 확인\n",
    "    y, X = dmatrices(\"triadic_patent_value ~ researcher_1000 + rnd_investment\", data = df, return_type = 'dataframe')\n",
    "    vif = pd.DataFrame()\n",
    "    vif[\"VIF Factor\"] = [variance_inflation_factor(X.values, i) for i in range(X.shape[1])]\n",
    "    vif[\"features\"] = X.columns \n",
    "    return vif.round(1)"
   ]
  },
  {
   "cell_type": "code",
   "execution_count": 11,
   "metadata": {},
   "outputs": [],
   "source": [
    "def qqplot_shapiro_test_U(df):   # 샤피로 테스트 >>> 정규성 검정\n",
    "    model = smf.ols(formula=\"triadic_patent_value ~ researcher_1000 + rnd_investment\", data = df)\n",
    "    resid = model.fit().resid\n",
    "    plt.figure()\n",
    "    probplot(resid, plot=plt)\n",
    "    plt.show()\n",
    "    print(stats.shapiro(resid))"
   ]
  },
  {
   "cell_type": "code",
   "execution_count": 12,
   "metadata": {},
   "outputs": [],
   "source": [
    "def BP_test_U(df):    # Breusch–Pagan test >>> homoscedasticity, 등분산성 검정\n",
    "    fit = smf.ols('triadic_patent_value ~ researcher_1000 + rnd_investment', data=df).fit()\n",
    "    names = ['Lagrange multiplier statistic', 'p-value', 'f-value', 'f p-value']\n",
    "    test = sms.het_breuschpagan(fit.resid, fit.model.exog)\n",
    "    return lzip(names, test)"
   ]
  },
  {
   "cell_type": "code",
   "execution_count": 13,
   "metadata": {},
   "outputs": [],
   "source": [
    "def VIF_test(df):    # VIF >>> 다중공선성 확인\n",
    "    y, X = dmatrices(\"triadic_patent_value ~  govt_research + researcher_1000 + rnd_investment + GOVT_RESEARCH\", data = df, return_type = 'dataframe')\n",
    "    vif = pd.DataFrame()\n",
    "    vif[\"VIF Factor\"] = [variance_inflation_factor(X.values, i) for i in range(X.shape[1])]\n",
    "    vif[\"features\"] = X.columns \n",
    "    return vif.round(1)"
   ]
  },
  {
   "cell_type": "code",
   "execution_count": 14,
   "metadata": {},
   "outputs": [],
   "source": [
    "def qqplot_shapiro_test(df):   # 샤피로 테스트 >>> 정규성 검정\n",
    "    model = smf.ols(formula=\"triadic_patent_value ~  govt_research + researcher_1000 + rnd_investment + GOVT_RESEARCH\", data = df)\n",
    "    resid = model.fit().resid\n",
    "    plt.figure()\n",
    "    probplot(resid, plot=plt)\n",
    "    plt.show()\n",
    "    print(stats.shapiro(resid))"
   ]
  },
  {
   "cell_type": "code",
   "execution_count": 15,
   "metadata": {},
   "outputs": [],
   "source": [
    "def BP_test(df):    # Breusch–Pagan test >>> homoscedasticity, 등분산성 검정\n",
    "    fit = smf.ols('triadic_patent_value ~  govt_research + researcher_1000 + rnd_investment + GOVT_RESEARCH', data=df).fit()\n",
    "    names = ['Lagrange multiplier statistic', 'p-value', 'f-value', 'f p-value']\n",
    "    test = sms.het_breuschpagan(fit.resid, fit.model.exog)\n",
    "    return lzip(names, test)"
   ]
  },
  {
   "cell_type": "code",
   "execution_count": 16,
   "metadata": {},
   "outputs": [],
   "source": [
    "def TEST(state):   # 4가지 테스트 한꺼번에\n",
    "    print(OLS_test(state))\n",
    "    print('\\n')\n",
    "    print('=========================================================================')\n",
    "    print(VIF_test(state))\n",
    "    print('\\n')\n",
    "    print('=========================================================================')\n",
    "    print(qqplot_shapiro_test(state))\n",
    "    print('\\n')\n",
    "    print('=========================================================================')\n",
    "    print(BP_test(state))"
   ]
  },
  {
   "cell_type": "code",
   "execution_count": 17,
   "metadata": {},
   "outputs": [],
   "source": [
    "def TEST_U(state):   # 4가지 테스트 한꺼번에\n",
    "    print(OLS_test_U(state))\n",
    "    print('\\n')\n",
    "    print('=========================================================================')\n",
    "    print(VIF_test_U(state))\n",
    "    print('\\n')\n",
    "    print('=========================================================================')\n",
    "    print(qqplot_shapiro_test_U(state))\n",
    "    print('\\n')\n",
    "    print('=========================================================================')\n",
    "    print(BP_test_U(state))"
   ]
  },
  {
   "cell_type": "code",
   "execution_count": 18,
   "metadata": {},
   "outputs": [
    {
     "name": "stdout",
     "output_type": "stream",
     "text": [
      "                             OLS Regression Results                             \n",
      "================================================================================\n",
      "Dep. Variable:     triadic_patent_value   R-squared:                       0.268\n",
      "Model:                              OLS   Adj. R-squared:                  0.221\n",
      "Method:                   Least Squares   F-statistic:                     5.688\n",
      "Date:                  Wed, 09 Sep 2020   Prob (F-statistic):            0.00787\n",
      "Time:                          14:56:28   Log-Likelihood:                -42.930\n",
      "No. Observations:                    34   AIC:                             91.86\n",
      "Df Residuals:                        31   BIC:                             96.44\n",
      "Df Model:                             2                                         \n",
      "Covariance Type:              nonrobust                                         \n",
      "===================================================================================\n",
      "                      coef    std err          t      P>|t|      [0.025      0.975]\n",
      "-----------------------------------------------------------------------------------\n",
      "Intercept       -6.488e-16      0.154  -4.22e-15      1.000      -0.313       0.313\n",
      "researcher_1000     0.3579      0.767      0.467      0.644      -1.207       1.922\n",
      "rnd_investment      0.1625      0.767      0.212      0.834      -1.402       1.727\n",
      "==============================================================================\n",
      "Omnibus:                        3.835   Durbin-Watson:                   0.121\n",
      "Prob(Omnibus):                  0.147   Jarque-Bera (JB):                2.183\n",
      "Skew:                           0.378   Prob(JB):                        0.336\n",
      "Kurtosis:                       2.016   Cond. No.                         9.89\n",
      "==============================================================================\n",
      "\n",
      "Warnings:\n",
      "[1] Standard Errors assume that the covariance matrix of the errors is correctly specified.\n",
      "\n",
      "\n",
      "=========================================================================\n",
      "   VIF Factor         features\n",
      "0         1.0        Intercept\n",
      "1        24.9  researcher_1000\n",
      "2        24.9   rnd_investment\n",
      "\n",
      "\n",
      "=========================================================================\n"
     ]
    },
    {
     "data": {
      "image/png": "[encoded data removed]",
      "text/plain": [
       "<Figure size 432x288 with 1 Axes>"
      ]
     },
     "metadata": {
      "needs_background": "light"
     },
     "output_type": "display_data"
    },
    {
     "name": "stdout",
     "output_type": "stream",
     "text": [
      "(0.9375954866409302, 0.05230066180229187)\n",
      "None\n",
      "\n",
      "\n",
      "=========================================================================\n",
      "[('Lagrange multiplier statistic', 0.27071240668974594), ('p-value', 0.8734047465801387), ('f-value', 0.12440352592929689), ('f p-value', 0.8834620452021692)]\n"
     ]
    }
   ],
   "source": [
    "TEST_U(U)"
   ]
  },
  {
   "cell_type": "code",
   "execution_count": 19,
   "metadata": {},
   "outputs": [
    {
     "name": "stdout",
     "output_type": "stream",
     "text": [
      "                             OLS Regression Results                             \n",
      "================================================================================\n",
      "Dep. Variable:     triadic_patent_value   R-squared:                       0.925\n",
      "Model:                              OLS   Adj. R-squared:                  0.914\n",
      "Method:                   Least Squares   F-statistic:                     88.90\n",
      "Date:                  Wed, 09 Sep 2020   Prob (F-statistic):           7.60e-16\n",
      "Time:                          14:56:28   Log-Likelihood:                -4.3007\n",
      "No. Observations:                    34   AIC:                             18.60\n",
      "Df Residuals:                        29   BIC:                             26.23\n",
      "Df Model:                             4                                         \n",
      "Covariance Type:              nonrobust                                         \n",
      "===================================================================================\n",
      "                      coef    std err          t      P>|t|      [0.025      0.975]\n",
      "-----------------------------------------------------------------------------------\n",
      "Intercept        1.138e-15      0.051   2.23e-14      1.000      -0.104       0.104\n",
      "govt_research      -3.1061      0.255    -12.160      0.000      -3.629      -2.584\n",
      "researcher_1000    -1.3573      0.370     -3.665      0.001      -2.115      -0.600\n",
      "rnd_investment     -0.3487      0.433     -0.805      0.427      -1.234       0.537\n",
      "GOVT_RESEARCH       0.9003      0.146      6.166      0.000       0.602       1.199\n",
      "==============================================================================\n",
      "Omnibus:                        0.600   Durbin-Watson:                   1.364\n",
      "Prob(Omnibus):                  0.741   Jarque-Bera (JB):                0.679\n",
      "Skew:                          -0.127   Prob(JB):                        0.712\n",
      "Kurtosis:                       2.356   Cond. No.                         22.3\n",
      "==============================================================================\n",
      "\n",
      "Warnings:\n",
      "[1] Standard Errors assume that the covariance matrix of the errors is correctly specified.\n",
      "\n",
      "\n",
      "=========================================================================\n",
      "   VIF Factor         features\n",
      "0         1.0        Intercept\n",
      "1        25.1    govt_research\n",
      "2        52.7  researcher_1000\n",
      "3        72.1   rnd_investment\n",
      "4         8.2    GOVT_RESEARCH\n",
      "\n",
      "\n",
      "=========================================================================\n"
     ]
    },
    {
     "data": {
      "image/png": "[encoded data removed]",
      "text/plain": [
       "<Figure size 432x288 with 1 Axes>"
      ]
     },
     "metadata": {
      "needs_background": "light"
     },
     "output_type": "display_data"
    },
    {
     "name": "stdout",
     "output_type": "stream",
     "text": [
      "(0.9739944934844971, 0.5796560645103455)\n",
      "None\n",
      "\n",
      "\n",
      "=========================================================================\n",
      "[('Lagrange multiplier statistic', 1.290342549317179), ('p-value', 0.8630119184324774), ('f-value', 0.2860006558202048), ('f p-value', 0.8846499806917032)]\n"
     ]
    }
   ],
   "source": [
    "TEST(F)"
   ]
  },
  {
   "cell_type": "code",
   "execution_count": 20,
   "metadata": {},
   "outputs": [
    {
     "name": "stdout",
     "output_type": "stream",
     "text": [
      "                             OLS Regression Results                             \n",
      "================================================================================\n",
      "Dep. Variable:     triadic_patent_value   R-squared:                       0.648\n",
      "Model:                              OLS   Adj. R-squared:                  0.600\n",
      "Method:                   Least Squares   F-statistic:                     13.36\n",
      "Date:                  Wed, 09 Sep 2020   Prob (F-statistic):           2.73e-06\n",
      "Time:                          14:56:28   Log-Likelihood:                -30.480\n",
      "No. Observations:                    34   AIC:                             70.96\n",
      "Df Residuals:                        29   BIC:                             78.59\n",
      "Df Model:                             4                                         \n",
      "Covariance Type:              nonrobust                                         \n",
      "===================================================================================\n",
      "                      coef    std err          t      P>|t|      [0.025      0.975]\n",
      "-----------------------------------------------------------------------------------\n",
      "Intercept        2.325e-16      0.110   2.11e-15      1.000      -0.225       0.225\n",
      "govt_research      -2.9454      0.523     -5.635      0.000      -4.015      -1.876\n",
      "researcher_1000     0.0947      0.579      0.163      0.871      -1.090       1.280\n",
      "rnd_investment     -0.8062      0.314     -2.566      0.016      -1.449      -0.164\n",
      "GOVT_RESEARCH       1.8765      0.574      3.267      0.003       0.702       3.051\n",
      "==============================================================================\n",
      "Omnibus:                        2.874   Durbin-Watson:                   0.583\n",
      "Prob(Omnibus):                  0.238   Jarque-Bera (JB):                2.619\n",
      "Skew:                           0.623   Prob(JB):                        0.270\n",
      "Kurtosis:                       2.458   Cond. No.                         12.5\n",
      "==============================================================================\n",
      "\n",
      "Warnings:\n",
      "[1] Standard Errors assume that the covariance matrix of the errors is correctly specified.\n",
      "\n",
      "\n",
      "=========================================================================\n",
      "   VIF Factor         features\n",
      "0         1.0        Intercept\n",
      "1        22.5    govt_research\n",
      "2        27.7  researcher_1000\n",
      "3         8.1   rnd_investment\n",
      "4        27.2    GOVT_RESEARCH\n",
      "\n",
      "\n",
      "=========================================================================\n"
     ]
    },
    {
     "data": {
      "image/png": "[encoded data removed]",
      "text/plain": [
       "<Figure size 432x288 with 1 Axes>"
      ]
     },
     "metadata": {
      "needs_background": "light"
     },
     "output_type": "display_data"
    },
    {
     "name": "stdout",
     "output_type": "stream",
     "text": [
      "(0.9387542605400085, 0.05660947784781456)\n",
      "None\n",
      "\n",
      "\n",
      "=========================================================================\n",
      "[('Lagrange multiplier statistic', 8.844832357021838), ('p-value', 0.06509713935837445), ('f-value', 2.549179377316065), ('f p-value', 0.060444432990756504)]\n"
     ]
    }
   ],
   "source": [
    "TEST(B)"
   ]
  },
  {
   "cell_type": "code",
   "execution_count": 21,
   "metadata": {},
   "outputs": [
    {
     "name": "stdout",
     "output_type": "stream",
     "text": [
      "                             OLS Regression Results                             \n",
      "================================================================================\n",
      "Dep. Variable:     triadic_patent_value   R-squared:                       0.716\n",
      "Model:                              OLS   Adj. R-squared:                  0.677\n",
      "Method:                   Least Squares   F-statistic:                     18.26\n",
      "Date:                  Wed, 09 Sep 2020   Prob (F-statistic):           1.36e-07\n",
      "Time:                          14:56:28   Log-Likelihood:                -26.858\n",
      "No. Observations:                    34   AIC:                             63.72\n",
      "Df Residuals:                        29   BIC:                             71.35\n",
      "Df Model:                             4                                         \n",
      "Covariance Type:              nonrobust                                         \n",
      "===================================================================================\n",
      "                      coef    std err          t      P>|t|      [0.025      0.975]\n",
      "-----------------------------------------------------------------------------------\n",
      "Intercept         -5.1e-16      0.099  -5.15e-15      1.000      -0.202       0.202\n",
      "govt_research      -1.6366      0.315     -5.199      0.000      -2.280      -0.993\n",
      "researcher_1000    -2.1753      0.846     -2.572      0.016      -3.905      -0.445\n",
      "rnd_investment     -0.4919      1.108     -0.444      0.660      -2.759       1.775\n",
      "GOVT_RESEARCH       3.2362      0.532      6.080      0.000       2.148       4.325\n",
      "==============================================================================\n",
      "Omnibus:                        0.965   Durbin-Watson:                   1.188\n",
      "Prob(Omnibus):                  0.617   Jarque-Bera (JB):                0.764\n",
      "Skew:                          -0.355   Prob(JB):                        0.683\n",
      "Kurtosis:                       2.814   Cond. No.                         23.8\n",
      "==============================================================================\n",
      "\n",
      "Warnings:\n",
      "[1] Standard Errors assume that the covariance matrix of the errors is correctly specified.\n",
      "\n",
      "\n",
      "=========================================================================\n",
      "   VIF Factor         features\n",
      "0         1.0        Intercept\n",
      "1        10.1    govt_research\n",
      "2        73.0  researcher_1000\n",
      "3       125.3   rnd_investment\n",
      "4        28.9    GOVT_RESEARCH\n",
      "\n",
      "\n",
      "=========================================================================\n"
     ]
    },
    {
     "data": {
      "image/png": "[encoded data removed]",
      "text/plain": [
       "<Figure size 432x288 with 1 Axes>"
      ]
     },
     "metadata": {
      "needs_background": "light"
     },
     "output_type": "display_data"
    },
    {
     "name": "stdout",
     "output_type": "stream",
     "text": [
      "(0.9516143798828125, 0.13724777102470398)\n",
      "None\n",
      "\n",
      "\n",
      "=========================================================================\n",
      "[('Lagrange multiplier statistic', 5.994381530162328), ('p-value', 0.19956825727794214), ('f-value', 1.5518052615221813), ('f p-value', 0.21361147957303356)]\n"
     ]
    }
   ],
   "source": [
    "TEST(D)"
   ]
  },
  {
   "cell_type": "code",
   "execution_count": 22,
   "metadata": {},
   "outputs": [
    {
     "name": "stdout",
     "output_type": "stream",
     "text": [
      "                             OLS Regression Results                             \n",
      "================================================================================\n",
      "Dep. Variable:     triadic_patent_value   R-squared:                       0.960\n",
      "Model:                              OLS   Adj. R-squared:                  0.955\n",
      "Method:                   Least Squares   F-statistic:                     174.3\n",
      "Date:                  Wed, 09 Sep 2020   Prob (F-statistic):           7.80e-20\n",
      "Time:                          14:56:28   Log-Likelihood:                 6.5081\n",
      "No. Observations:                    34   AIC:                            -3.016\n",
      "Df Residuals:                        29   BIC:                             4.616\n",
      "Df Model:                             4                                         \n",
      "Covariance Type:              nonrobust                                         \n",
      "===================================================================================\n",
      "                      coef    std err          t      P>|t|      [0.025      0.975]\n",
      "-----------------------------------------------------------------------------------\n",
      "Intercept       -9.021e-17      0.037  -2.43e-15      1.000      -0.076       0.076\n",
      "govt_research       0.4607      0.133      3.469      0.002       0.189       0.732\n",
      "researcher_1000     1.1555      0.127      9.064      0.000       0.895       1.416\n",
      "rnd_investment      0.2790      0.126      2.208      0.035       0.021       0.537\n",
      "GOVT_RESEARCH       0.1606      0.057      2.835      0.008       0.045       0.277\n",
      "==============================================================================\n",
      "Omnibus:                       14.335   Durbin-Watson:                   1.484\n",
      "Prob(Omnibus):                  0.001   Jarque-Bera (JB):               16.501\n",
      "Skew:                           1.213   Prob(JB):                     0.000261\n",
      "Kurtosis:                       5.400   Cond. No.                         7.61\n",
      "==============================================================================\n",
      "\n",
      "Warnings:\n",
      "[1] Standard Errors assume that the covariance matrix of the errors is correctly specified.\n",
      "\n",
      "\n",
      "=========================================================================\n",
      "   VIF Factor         features\n",
      "0         1.0        Intercept\n",
      "1        12.8    govt_research\n",
      "2        11.8  researcher_1000\n",
      "3        11.6   rnd_investment\n",
      "4         2.3    GOVT_RESEARCH\n",
      "\n",
      "\n",
      "=========================================================================\n"
     ]
    },
    {
     "data": {
      "image/png": "[encoded data removed]",
      "text/plain": [
       "<Figure size 432x288 with 1 Axes>"
      ]
     },
     "metadata": {
      "needs_background": "light"
     },
     "output_type": "display_data"
    },
    {
     "name": "stdout",
     "output_type": "stream",
     "text": [
      "(0.9102469682693481, 0.008651024661958218)\n",
      "None\n",
      "\n",
      "\n",
      "=========================================================================\n",
      "[('Lagrange multiplier statistic', 1.9821298403635959), ('p-value', 0.7390458705802461), ('f-value', 0.44882564864518343), ('f p-value', 0.7723564494789495)]\n"
     ]
    }
   ],
   "source": [
    "TEST(J)"
   ]
  },
  {
   "cell_type": "code",
   "execution_count": 23,
   "metadata": {},
   "outputs": [
    {
     "name": "stdout",
     "output_type": "stream",
     "text": [
      "                             OLS Regression Results                             \n",
      "================================================================================\n",
      "Dep. Variable:     triadic_patent_value   R-squared:                       0.882\n",
      "Model:                              OLS   Adj. R-squared:                  0.857\n",
      "Method:                   Least Squares   F-statistic:                     35.53\n",
      "Date:                  Wed, 09 Sep 2020   Prob (F-statistic):           1.42e-08\n",
      "Time:                          14:56:29   Log-Likelihood:                -8.4007\n",
      "No. Observations:                    24   AIC:                             26.80\n",
      "Df Residuals:                        19   BIC:                             32.69\n",
      "Df Model:                             4                                         \n",
      "Covariance Type:              nonrobust                                         \n",
      "===================================================================================\n",
      "                      coef    std err          t      P>|t|      [0.025      0.975]\n",
      "-----------------------------------------------------------------------------------\n",
      "Intercept        1.388e-17      0.079   1.76e-16      1.000      -0.165       0.165\n",
      "govt_research      -1.0940      0.238     -4.591      0.000      -1.593      -0.595\n",
      "researcher_1000     0.2336      0.805      0.290      0.775      -1.451       1.918\n",
      "rnd_investment     -0.6781      0.762     -0.889      0.385      -2.274       0.917\n",
      "GOVT_RESEARCH       0.3832      0.297      1.290      0.213      -0.239       1.005\n",
      "==============================================================================\n",
      "Omnibus:                        0.124   Durbin-Watson:                   0.859\n",
      "Prob(Omnibus):                  0.940   Jarque-Bera (JB):                0.102\n",
      "Skew:                           0.107   Prob(JB):                        0.950\n",
      "Kurtosis:                       2.764   Cond. No.                         24.8\n",
      "==============================================================================\n",
      "\n",
      "Warnings:\n",
      "[1] Standard Errors assume that the covariance matrix of the errors is correctly specified.\n",
      "\n",
      "\n",
      "=========================================================================\n",
      "   VIF Factor         features\n",
      "0         1.0        Intercept\n",
      "1         9.1    govt_research\n",
      "2       104.4  researcher_1000\n",
      "3        93.6   rnd_investment\n",
      "4        14.2    GOVT_RESEARCH\n",
      "\n",
      "\n",
      "=========================================================================\n"
     ]
    },
    {
     "data": {
      "image/png": "[encoded data removed]",
      "text/plain": [
       "<Figure size 432x288 with 1 Axes>"
      ]
     },
     "metadata": {
      "needs_background": "light"
     },
     "output_type": "display_data"
    },
    {
     "name": "stdout",
     "output_type": "stream",
     "text": [
      "(0.9817910194396973, 0.9264191389083862)\n",
      "None\n",
      "\n",
      "\n",
      "=========================================================================\n",
      "[('Lagrange multiplier statistic', 11.086639873649691), ('p-value', 0.025607365230504928), ('f-value', 4.0780663502427785), ('f p-value', 0.014939325625928614)]\n"
     ]
    }
   ],
   "source": [
    "TEST(K)"
   ]
  },
  {
   "cell_type": "code",
   "execution_count": 24,
   "metadata": {},
   "outputs": [
    {
     "data": {
      "text/html": [
       "<div>\n",
       "<style scoped>\n",
       "    .dataframe tbody tr th:only-of-type {\n",
       "        vertical-align: middle;\n",
       "    }\n",
       "\n",
       "    .dataframe tbody tr th {\n",
       "        vertical-align: top;\n",
       "    }\n",
       "\n",
       "    .dataframe thead th {\n",
       "        text-align: right;\n",
       "    }\n",
       "</style>\n",
       "<table border=\"1\" class=\"dataframe\">\n",
       "  <thead>\n",
       "    <tr style=\"text-align: right;\">\n",
       "      <th></th>\n",
       "      <th>triadic_patent_value</th>\n",
       "      <th>govt_research</th>\n",
       "      <th>researcher_1000</th>\n",
       "      <th>rnd_investment</th>\n",
       "      <th>GOVT_RESEARCH</th>\n",
       "    </tr>\n",
       "  </thead>\n",
       "  <tbody>\n",
       "    <tr>\n",
       "      <th>10</th>\n",
       "      <td>-1.788222</td>\n",
       "      <td>2.130237</td>\n",
       "      <td>-1.207157</td>\n",
       "      <td>-1.181264</td>\n",
       "      <td>-0.772263</td>\n",
       "    </tr>\n",
       "    <tr>\n",
       "      <th>11</th>\n",
       "      <td>-1.798004</td>\n",
       "      <td>1.997399</td>\n",
       "      <td>-1.250016</td>\n",
       "      <td>-1.107220</td>\n",
       "      <td>-0.458488</td>\n",
       "    </tr>\n",
       "    <tr>\n",
       "      <th>12</th>\n",
       "      <td>-1.714880</td>\n",
       "      <td>1.799664</td>\n",
       "      <td>-1.230246</td>\n",
       "      <td>-1.047750</td>\n",
       "      <td>-0.298486</td>\n",
       "    </tr>\n",
       "    <tr>\n",
       "      <th>13</th>\n",
       "      <td>-1.607569</td>\n",
       "      <td>1.244072</td>\n",
       "      <td>-1.285303</td>\n",
       "      <td>-1.140459</td>\n",
       "      <td>-1.186467</td>\n",
       "    </tr>\n",
       "    <tr>\n",
       "      <th>14</th>\n",
       "      <td>-1.454616</td>\n",
       "      <td>1.655490</td>\n",
       "      <td>-1.202182</td>\n",
       "      <td>-1.092651</td>\n",
       "      <td>-0.125845</td>\n",
       "    </tr>\n",
       "  </tbody>\n",
       "</table>\n",
       "</div>"
      ],
      "text/plain": [
       "    triadic_patent_value  govt_research  researcher_1000  rnd_investment  \\\n",
       "10             -1.788222       2.130237        -1.207157       -1.181264   \n",
       "11             -1.798004       1.997399        -1.250016       -1.107220   \n",
       "12             -1.714880       1.799664        -1.230246       -1.047750   \n",
       "13             -1.607569       1.244072        -1.285303       -1.140459   \n",
       "14             -1.454616       1.655490        -1.202182       -1.092651   \n",
       "\n",
       "    GOVT_RESEARCH  \n",
       "10      -0.772263  \n",
       "11      -0.458488  \n",
       "12      -0.298486  \n",
       "13      -1.186467  \n",
       "14      -0.125845  "
      ]
     },
     "execution_count": 24,
     "metadata": {},
     "output_type": "execute_result"
    }
   ],
   "source": [
    "K.head()"
   ]
  },
  {
   "cell_type": "code",
   "execution_count": 25,
   "metadata": {
    "scrolled": true
   },
   "outputs": [],
   "source": [
    "endog = J['triadic_patent_value']"
   ]
  },
  {
   "cell_type": "code",
   "execution_count": 26,
   "metadata": {},
   "outputs": [],
   "source": [
    "exog = J.drop(['triadic_patent_value'], axis = 1)\n",
    "exog['constant'] = 1"
   ]
  },
  {
   "cell_type": "code",
   "execution_count": 27,
   "metadata": {},
   "outputs": [
    {
     "data": {
      "text/html": [
       "<div>\n",
       "<style scoped>\n",
       "    .dataframe tbody tr th:only-of-type {\n",
       "        vertical-align: middle;\n",
       "    }\n",
       "\n",
       "    .dataframe tbody tr th {\n",
       "        vertical-align: top;\n",
       "    }\n",
       "\n",
       "    .dataframe thead th {\n",
       "        text-align: right;\n",
       "    }\n",
       "</style>\n",
       "<table border=\"1\" class=\"dataframe\">\n",
       "  <thead>\n",
       "    <tr style=\"text-align: right;\">\n",
       "      <th></th>\n",
       "      <th>govt_research</th>\n",
       "      <th>researcher_1000</th>\n",
       "      <th>rnd_investment</th>\n",
       "      <th>GOVT_RESEARCH</th>\n",
       "      <th>constant</th>\n",
       "    </tr>\n",
       "  </thead>\n",
       "  <tbody>\n",
       "    <tr>\n",
       "      <th>0</th>\n",
       "      <td>2.716954</td>\n",
       "      <td>-2.178250</td>\n",
       "      <td>-1.961895</td>\n",
       "      <td>0.346727</td>\n",
       "      <td>1</td>\n",
       "    </tr>\n",
       "    <tr>\n",
       "      <th>1</th>\n",
       "      <td>2.438259</td>\n",
       "      <td>-2.052371</td>\n",
       "      <td>-1.911278</td>\n",
       "      <td>0.388836</td>\n",
       "      <td>1</td>\n",
       "    </tr>\n",
       "    <tr>\n",
       "      <th>2</th>\n",
       "      <td>1.956386</td>\n",
       "      <td>-1.795807</td>\n",
       "      <td>-1.710342</td>\n",
       "      <td>0.163496</td>\n",
       "      <td>1</td>\n",
       "    </tr>\n",
       "    <tr>\n",
       "      <th>3</th>\n",
       "      <td>1.693068</td>\n",
       "      <td>-1.623691</td>\n",
       "      <td>-1.478199</td>\n",
       "      <td>0.963278</td>\n",
       "      <td>1</td>\n",
       "    </tr>\n",
       "    <tr>\n",
       "      <th>4</th>\n",
       "      <td>1.295680</td>\n",
       "      <td>-1.427810</td>\n",
       "      <td>-1.180127</td>\n",
       "      <td>0.898277</td>\n",
       "      <td>1</td>\n",
       "    </tr>\n",
       "    <tr>\n",
       "      <th>5</th>\n",
       "      <td>1.015597</td>\n",
       "      <td>-1.279121</td>\n",
       "      <td>-0.896012</td>\n",
       "      <td>1.160552</td>\n",
       "      <td>1</td>\n",
       "    </tr>\n",
       "    <tr>\n",
       "      <th>6</th>\n",
       "      <td>0.836207</td>\n",
       "      <td>-1.238818</td>\n",
       "      <td>-0.809329</td>\n",
       "      <td>1.385694</td>\n",
       "      <td>1</td>\n",
       "    </tr>\n",
       "    <tr>\n",
       "      <th>7</th>\n",
       "      <td>0.616206</td>\n",
       "      <td>-1.071396</td>\n",
       "      <td>-0.850394</td>\n",
       "      <td>0.845342</td>\n",
       "      <td>1</td>\n",
       "    </tr>\n",
       "    <tr>\n",
       "      <th>8</th>\n",
       "      <td>0.417092</td>\n",
       "      <td>-0.922859</td>\n",
       "      <td>-0.950330</td>\n",
       "      <td>0.047440</td>\n",
       "      <td>1</td>\n",
       "    </tr>\n",
       "    <tr>\n",
       "      <th>9</th>\n",
       "      <td>0.312674</td>\n",
       "      <td>-0.765791</td>\n",
       "      <td>-0.992700</td>\n",
       "      <td>-0.079203</td>\n",
       "      <td>1</td>\n",
       "    </tr>\n",
       "    <tr>\n",
       "      <th>10</th>\n",
       "      <td>0.196684</td>\n",
       "      <td>-0.663387</td>\n",
       "      <td>-0.752828</td>\n",
       "      <td>0.145675</td>\n",
       "      <td>1</td>\n",
       "    </tr>\n",
       "    <tr>\n",
       "      <th>11</th>\n",
       "      <td>-0.525875</td>\n",
       "      <td>0.064632</td>\n",
       "      <td>-0.498996</td>\n",
       "      <td>-1.748236</td>\n",
       "      <td>1</td>\n",
       "    </tr>\n",
       "    <tr>\n",
       "      <th>12</th>\n",
       "      <td>-0.607752</td>\n",
       "      <td>0.105173</td>\n",
       "      <td>-0.330800</td>\n",
       "      <td>-1.817715</td>\n",
       "      <td>1</td>\n",
       "    </tr>\n",
       "    <tr>\n",
       "      <th>13</th>\n",
       "      <td>-0.723333</td>\n",
       "      <td>0.495051</td>\n",
       "      <td>-0.217608</td>\n",
       "      <td>-2.476318</td>\n",
       "      <td>1</td>\n",
       "    </tr>\n",
       "    <tr>\n",
       "      <th>14</th>\n",
       "      <td>-0.761796</td>\n",
       "      <td>0.664445</td>\n",
       "      <td>-0.198956</td>\n",
       "      <td>-2.667144</td>\n",
       "      <td>1</td>\n",
       "    </tr>\n",
       "    <tr>\n",
       "      <th>15</th>\n",
       "      <td>-0.617621</td>\n",
       "      <td>0.589097</td>\n",
       "      <td>-0.052828</td>\n",
       "      <td>-1.563640</td>\n",
       "      <td>1</td>\n",
       "    </tr>\n",
       "    <tr>\n",
       "      <th>16</th>\n",
       "      <td>-0.200405</td>\n",
       "      <td>0.679462</td>\n",
       "      <td>0.072656</td>\n",
       "      <td>0.077567</td>\n",
       "      <td>1</td>\n",
       "    </tr>\n",
       "    <tr>\n",
       "      <th>17</th>\n",
       "      <td>0.126859</td>\n",
       "      <td>0.417907</td>\n",
       "      <td>0.146213</td>\n",
       "      <td>1.325009</td>\n",
       "      <td>1</td>\n",
       "    </tr>\n",
       "    <tr>\n",
       "      <th>18</th>\n",
       "      <td>-0.201385</td>\n",
       "      <td>0.756967</td>\n",
       "      <td>0.267996</td>\n",
       "      <td>0.456335</td>\n",
       "      <td>1</td>\n",
       "    </tr>\n",
       "    <tr>\n",
       "      <th>19</th>\n",
       "      <td>-0.180763</td>\n",
       "      <td>0.729699</td>\n",
       "      <td>0.355357</td>\n",
       "      <td>1.056133</td>\n",
       "      <td>1</td>\n",
       "    </tr>\n",
       "    <tr>\n",
       "      <th>20</th>\n",
       "      <td>-0.402738</td>\n",
       "      <td>0.979274</td>\n",
       "      <td>0.697343</td>\n",
       "      <td>0.585297</td>\n",
       "      <td>1</td>\n",
       "    </tr>\n",
       "    <tr>\n",
       "      <th>21</th>\n",
       "      <td>-0.518013</td>\n",
       "      <td>0.973503</td>\n",
       "      <td>0.942326</td>\n",
       "      <td>0.462278</td>\n",
       "      <td>1</td>\n",
       "    </tr>\n",
       "    <tr>\n",
       "      <th>22</th>\n",
       "      <td>-0.669550</td>\n",
       "      <td>0.905328</td>\n",
       "      <td>1.143154</td>\n",
       "      <td>0.238124</td>\n",
       "      <td>1</td>\n",
       "    </tr>\n",
       "    <tr>\n",
       "      <th>23</th>\n",
       "      <td>-0.547289</td>\n",
       "      <td>0.602729</td>\n",
       "      <td>1.074910</td>\n",
       "      <td>0.472875</td>\n",
       "      <td>1</td>\n",
       "    </tr>\n",
       "    <tr>\n",
       "      <th>24</th>\n",
       "      <td>-0.414663</td>\n",
       "      <td>0.678215</td>\n",
       "      <td>0.587779</td>\n",
       "      <td>-0.302536</td>\n",
       "      <td>1</td>\n",
       "    </tr>\n",
       "    <tr>\n",
       "      <th>25</th>\n",
       "      <td>-0.473129</td>\n",
       "      <td>0.699909</td>\n",
       "      <td>0.648775</td>\n",
       "      <td>0.423304</td>\n",
       "      <td>1</td>\n",
       "    </tr>\n",
       "    <tr>\n",
       "      <th>26</th>\n",
       "      <td>-0.526129</td>\n",
       "      <td>0.711564</td>\n",
       "      <td>0.826478</td>\n",
       "      <td>0.186899</td>\n",
       "      <td>1</td>\n",
       "    </tr>\n",
       "    <tr>\n",
       "      <th>27</th>\n",
       "      <td>-0.543349</td>\n",
       "      <td>0.624441</td>\n",
       "      <td>0.847474</td>\n",
       "      <td>0.466530</td>\n",
       "      <td>1</td>\n",
       "    </tr>\n",
       "    <tr>\n",
       "      <th>28</th>\n",
       "      <td>-0.790509</td>\n",
       "      <td>0.744936</td>\n",
       "      <td>1.145891</td>\n",
       "      <td>-0.071522</td>\n",
       "      <td>1</td>\n",
       "    </tr>\n",
       "    <tr>\n",
       "      <th>29</th>\n",
       "      <td>-1.069728</td>\n",
       "      <td>0.957709</td>\n",
       "      <td>1.319134</td>\n",
       "      <td>-1.130466</td>\n",
       "      <td>1</td>\n",
       "    </tr>\n",
       "    <tr>\n",
       "      <th>30</th>\n",
       "      <td>-0.924573</td>\n",
       "      <td>0.685839</td>\n",
       "      <td>1.179954</td>\n",
       "      <td>-0.258715</td>\n",
       "      <td>1</td>\n",
       "    </tr>\n",
       "    <tr>\n",
       "      <th>31</th>\n",
       "      <td>-0.954224</td>\n",
       "      <td>0.653923</td>\n",
       "      <td>0.987226</td>\n",
       "      <td>-0.263093</td>\n",
       "      <td>1</td>\n",
       "    </tr>\n",
       "    <tr>\n",
       "      <th>32</th>\n",
       "      <td>-0.974784</td>\n",
       "      <td>0.701661</td>\n",
       "      <td>1.203290</td>\n",
       "      <td>0.145069</td>\n",
       "      <td>1</td>\n",
       "    </tr>\n",
       "    <tr>\n",
       "      <th>33</th>\n",
       "      <td>-0.994056</td>\n",
       "      <td>0.597840</td>\n",
       "      <td>1.346670</td>\n",
       "      <td>0.137850</td>\n",
       "      <td>1</td>\n",
       "    </tr>\n",
       "  </tbody>\n",
       "</table>\n",
       "</div>"
      ],
      "text/plain": [
       "    govt_research  researcher_1000  rnd_investment  GOVT_RESEARCH  constant\n",
       "0        2.716954        -2.178250       -1.961895       0.346727         1\n",
       "1        2.438259        -2.052371       -1.911278       0.388836         1\n",
       "2        1.956386        -1.795807       -1.710342       0.163496         1\n",
       "3        1.693068        -1.623691       -1.478199       0.963278         1\n",
       "4        1.295680        -1.427810       -1.180127       0.898277         1\n",
       "5        1.015597        -1.279121       -0.896012       1.160552         1\n",
       "6        0.836207        -1.238818       -0.809329       1.385694         1\n",
       "7        0.616206        -1.071396       -0.850394       0.845342         1\n",
       "8        0.417092        -0.922859       -0.950330       0.047440         1\n",
       "9        0.312674        -0.765791       -0.992700      -0.079203         1\n",
       "10       0.196684        -0.663387       -0.752828       0.145675         1\n",
       "11      -0.525875         0.064632       -0.498996      -1.748236         1\n",
       "12      -0.607752         0.105173       -0.330800      -1.817715         1\n",
       "13      -0.723333         0.495051       -0.217608      -2.476318         1\n",
       "14      -0.761796         0.664445       -0.198956      -2.667144         1\n",
       "15      -0.617621         0.589097       -0.052828      -1.563640         1\n",
       "16      -0.200405         0.679462        0.072656       0.077567         1\n",
       "17       0.126859         0.417907        0.146213       1.325009         1\n",
       "18      -0.201385         0.756967        0.267996       0.456335         1\n",
       "19      -0.180763         0.729699        0.355357       1.056133         1\n",
       "20      -0.402738         0.979274        0.697343       0.585297         1\n",
       "21      -0.518013         0.973503        0.942326       0.462278         1\n",
       "22      -0.669550         0.905328        1.143154       0.238124         1\n",
       "23      -0.547289         0.602729        1.074910       0.472875         1\n",
       "24      -0.414663         0.678215        0.587779      -0.302536         1\n",
       "25      -0.473129         0.699909        0.648775       0.423304         1\n",
       "26      -0.526129         0.711564        0.826478       0.186899         1\n",
       "27      -0.543349         0.624441        0.847474       0.466530         1\n",
       "28      -0.790509         0.744936        1.145891      -0.071522         1\n",
       "29      -1.069728         0.957709        1.319134      -1.130466         1\n",
       "30      -0.924573         0.685839        1.179954      -0.258715         1\n",
       "31      -0.954224         0.653923        0.987226      -0.263093         1\n",
       "32      -0.974784         0.701661        1.203290       0.145069         1\n",
       "33      -0.994056         0.597840        1.346670       0.137850         1"
      ]
     },
     "execution_count": 27,
     "metadata": {},
     "output_type": "execute_result"
    }
   ],
   "source": [
    "exog"
   ]
  },
  {
   "cell_type": "code",
   "execution_count": 28,
   "metadata": {},
   "outputs": [
    {
     "data": {
      "text/html": [
       "<table class=\"simpletable\">\n",
       "<caption>Robust linear Model Regression Results</caption>\n",
       "<tr>\n",
       "  <th>Dep. Variable:</th>  <td>triadic_patent_value</td> <th>  No. Observations:  </th> <td>    34</td>\n",
       "</tr>\n",
       "<tr>\n",
       "  <th>Model:</th>                   <td>RLM</td>         <th>  Df Residuals:      </th> <td>    29</td>\n",
       "</tr>\n",
       "<tr>\n",
       "  <th>Method:</th>                 <td>IRLS</td>         <th>  Df Model:          </th> <td>     4</td>\n",
       "</tr>\n",
       "<tr>\n",
       "  <th>Norm:</th>                  <td>HuberT</td>        <th>                     </th>    <td> </td>  \n",
       "</tr>\n",
       "<tr>\n",
       "  <th>Scale Est.:</th>              <td>mad</td>         <th>                     </th>    <td> </td>  \n",
       "</tr>\n",
       "<tr>\n",
       "  <th>Cov Type:</th>                <td>H1</td>          <th>                     </th>    <td> </td>  \n",
       "</tr>\n",
       "<tr>\n",
       "  <th>Date:</th>             <td>Wed, 09 Sep 2020</td>   <th>                     </th>    <td> </td>  \n",
       "</tr>\n",
       "<tr>\n",
       "  <th>Time:</th>                 <td>14:56:29</td>       <th>                     </th>    <td> </td>  \n",
       "</tr>\n",
       "<tr>\n",
       "  <th>No. Iterations:</th>          <td>17</td>          <th>                     </th>    <td> </td>  \n",
       "</tr>\n",
       "</table>\n",
       "<table class=\"simpletable\">\n",
       "<tr>\n",
       "         <td></td>            <th>coef</th>     <th>std err</th>      <th>z</th>      <th>P>|z|</th>  <th>[0.025</th>    <th>0.975]</th>  \n",
       "</tr>\n",
       "<tr>\n",
       "  <th>govt_research</th>   <td>    0.4619</td> <td>    0.121</td> <td>    3.831</td> <td> 0.000</td> <td>    0.226</td> <td>    0.698</td>\n",
       "</tr>\n",
       "<tr>\n",
       "  <th>researcher_1000</th> <td>    1.1147</td> <td>    0.116</td> <td>    9.630</td> <td> 0.000</td> <td>    0.888</td> <td>    1.342</td>\n",
       "</tr>\n",
       "<tr>\n",
       "  <th>rnd_investment</th>  <td>    0.3212</td> <td>    0.115</td> <td>    2.800</td> <td> 0.005</td> <td>    0.096</td> <td>    0.546</td>\n",
       "</tr>\n",
       "<tr>\n",
       "  <th>GOVT_RESEARCH</th>   <td>    0.1746</td> <td>    0.051</td> <td>    3.394</td> <td> 0.001</td> <td>    0.074</td> <td>    0.275</td>\n",
       "</tr>\n",
       "<tr>\n",
       "  <th>constant</th>        <td>   -0.0147</td> <td>    0.034</td> <td>   -0.435</td> <td> 0.663</td> <td>   -0.081</td> <td>    0.051</td>\n",
       "</tr>\n",
       "</table><br/><br/>If the model instance has been used for another fit with different fit parameters, then the fit options might not be the correct ones anymore ."
      ],
      "text/plain": [
       "<class 'statsmodels.iolib.summary.Summary'>\n",
       "\"\"\"\n",
       "                     Robust linear Model Regression Results                     \n",
       "================================================================================\n",
       "Dep. Variable:     triadic_patent_value   No. Observations:                   34\n",
       "Model:                              RLM   Df Residuals:                       29\n",
       "Method:                            IRLS   Df Model:                            4\n",
       "Norm:                            HuberT                                         \n",
       "Scale Est.:                         mad                                         \n",
       "Cov Type:                            H1                                         \n",
       "Date:                  Wed, 09 Sep 2020                                         \n",
       "Time:                          14:56:29                                         \n",
       "No. Iterations:                      17                                         \n",
       "===================================================================================\n",
       "                      coef    std err          z      P>|z|      [0.025      0.975]\n",
       "-----------------------------------------------------------------------------------\n",
       "govt_research       0.4619      0.121      3.831      0.000       0.226       0.698\n",
       "researcher_1000     1.1147      0.116      9.630      0.000       0.888       1.342\n",
       "rnd_investment      0.3212      0.115      2.800      0.005       0.096       0.546\n",
       "GOVT_RESEARCH       0.1746      0.051      3.394      0.001       0.074       0.275\n",
       "constant           -0.0147      0.034     -0.435      0.663      -0.081       0.051\n",
       "===================================================================================\n",
       "\n",
       "If the model instance has been used for another fit with different fit parameters, then the fit options might not be the correct ones anymore .\n",
       "\"\"\""
      ]
     },
     "execution_count": 28,
     "metadata": {},
     "output_type": "execute_result"
    }
   ],
   "source": [
    "model = sm.RLM(endog, exog).fit()   ### 일본 로버스트 선형 회귀분석\n",
    "model.summary()"
   ]
  }
 ],
 "metadata": {
  "colab": {
   "name": "RnD_0831.ipynb",
   "provenance": []
  },
  "kernelspec": {
   "display_name": "Python 3",
   "language": "python",
   "name": "python3"
  },
  "language_info": {
   "codemirror_mode": {
    "name": "ipython",
    "version": 3
   },
   "file_extension": ".py",
   "mimetype": "text/x-python",
   "name": "python",
   "nbconvert_exporter": "python",
   "pygments_lexer": "ipython3",
   "version": "3.8.5"
  }
 },
 "nbformat": 4,
 "nbformat_minor": 1
}
