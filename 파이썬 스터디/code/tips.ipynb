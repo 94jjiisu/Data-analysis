{
 "cells": [
  {
   "cell_type": "markdown",
   "metadata": {},
   "source": [
    "# Seaborn 패키지의 tips 데이터 분석"
   ]
  },
  {
   "cell_type": "markdown",
   "metadata": {},
   "source": [
    "1. 필요한 패키지, 모듈, 데이터프레임 불러오기"
   ]
  },
  {
   "cell_type": "code",
   "execution_count": null,
   "metadata": {},
   "outputs": [],
   "source": [
    "import numpy as np\n",
    "import pandas as pd\n",
    "import seaborn as sns\n",
    "import matplotlib.pyplot as plt\n",
    "%matplotlib inline\n",
    "import statsmodels.api as sm\n",
    "tips = sns.load_dataset(\"tips\") "
   ]
  },
  {
   "cell_type": "markdown",
   "metadata": {},
   "source": [
    "2. 주어진 데이터프레임 확인하기"
   ]
  },
  {
   "cell_type": "code",
   "execution_count": null,
   "metadata": {},
   "outputs": [],
   "source": [
    "tips"
   ]
  },
  {
   "cell_type": "markdown",
   "metadata": {},
   "source": [
    "3. 데이터프레임 객체에 대한 정보를 확인하기"
   ]
  },
  {
   "cell_type": "code",
   "execution_count": null,
   "metadata": {},
   "outputs": [],
   "source": [
    "tips.info()"
   ]
  },
  {
   "cell_type": "markdown",
   "metadata": {},
   "source": [
    "3.1 누락된 데이터가 있는지 확인한다"
   ]
  },
  {
   "cell_type": "code",
   "execution_count": null,
   "metadata": {},
   "outputs": [],
   "source": [
    "tips.isnull().sum()"
   ]
  },
  {
   "cell_type": "markdown",
   "metadata": {},
   "source": [
    "4. 데이터프레임의 간단한 기술통계량을 확인한다"
   ]
  },
  {
   "cell_type": "code",
   "execution_count": null,
   "metadata": {},
   "outputs": [],
   "source": [
    "tips.describe()"
   ]
  },
  {
   "cell_type": "markdown",
   "metadata": {},
   "source": [
    "5. 팁의 분포를 히스토그램을 그려서 확인해본다"
   ]
  },
  {
   "cell_type": "code",
   "execution_count": null,
   "metadata": {},
   "outputs": [],
   "source": [
    "plt.hist(tips['tip'], bins=10)\n",
    "plt.show()"
   ]
  },
  {
   "cell_type": "markdown",
   "metadata": {},
   "source": [
    "6. 히스토그램의 bin이 작으면 놓치는 정보가 발생할 수 있다  \n",
    "   bin의 크기를 키워본다"
   ]
  },
  {
   "cell_type": "code",
   "execution_count": null,
   "metadata": {},
   "outputs": [],
   "source": [
    "plt.hist(tips['tip'], bins=100)\n",
    "plt.title('Hist of tips')\n",
    "plt.xlabel('tips')\n",
    "plt.ylabel('freq')\n",
    "plt.show()"
   ]
  },
  {
   "cell_type": "markdown",
   "metadata": {},
   "source": [
    "7. 손님의 성별 분포와 성별에 따라 팁이 다른지 확인한다."
   ]
  },
  {
   "cell_type": "code",
   "execution_count": null,
   "metadata": {},
   "outputs": [],
   "source": [
    "print(tips['sex'].value_counts())\n",
    "male = tips[tips.sex=='Male']\n",
    "female = tips[tips.sex=='Female']"
   ]
  },
  {
   "cell_type": "code",
   "execution_count": null,
   "metadata": {},
   "outputs": [],
   "source": [
    "tips.groupby('sex').tip.mean()\n",
    "malecount=int(male.describe().tip.iloc[0])\n",
    "femalecount=int(female.describe().tip.iloc[0])\n",
    "plt.plot(range(malecount),male.tip,'p')\n",
    "plt.plot(range(femalecount),female.tip,'p')\n",
    "plt.grid(True)\n",
    "print(max(male.tip))\n",
    "print(max(female.tip)) "
   ]
  },
  {
   "cell_type": "code",
   "execution_count": null,
   "metadata": {},
   "outputs": [],
   "source": [
    "plt.boxplot([tips[tips['sex'] == 'Female']['tip'],\n",
    "             tips[tips['sex'] == 'Male']['tip']],\n",
    "             labels = ['Female', 'Male'])\n",
    "plt.show()"
   ]
  },
  {
   "cell_type": "markdown",
   "metadata": {},
   "source": [
    "8. 요일별로 손님이 얼마나 왔는지 확인해본다"
   ]
  },
  {
   "cell_type": "code",
   "execution_count": null,
   "metadata": {},
   "outputs": [],
   "source": [
    "day_count = tips['day'].value_counts()\n",
    "fig = plt.figure()\n",
    "ax = fig.add_subplot(1,1,1)\n",
    "ax.pie(day_count.values, labels=day_count.index, autopct='%1.0f%%')\n",
    "day_count"
   ]
  },
  {
   "cell_type": "markdown",
   "metadata": {},
   "source": [
    "9. 음식값의 분포를 확인해본다"
   ]
  },
  {
   "cell_type": "code",
   "execution_count": null,
   "metadata": {},
   "outputs": [],
   "source": [
    "plt.hist(tips['total_bill'], bins=100)\n",
    "plt.show()"
   ]
  },
  {
   "cell_type": "markdown",
   "metadata": {},
   "source": [
    "10. 흡연자 비율이 얼마나 되는지 확인해본다."
   ]
  },
  {
   "cell_type": "code",
   "execution_count": null,
   "metadata": {},
   "outputs": [],
   "source": [
    "print(tips['smoker'].value_counts())\n",
    "plt.hist(tips['smoker'], bins = 3)\n",
    "plt.show()"
   ]
  },
  {
   "cell_type": "markdown",
   "metadata": {},
   "source": [
    "11. 어느 시간대에 손님이 얼마나 왔는지 확인해본다."
   ]
  },
  {
   "cell_type": "code",
   "execution_count": null,
   "metadata": {},
   "outputs": [],
   "source": [
    "print(tips['time'].value_counts())\n",
    "plt.hist(tips['time'], bins = 3)\n",
    "plt.show()"
   ]
  },
  {
   "cell_type": "markdown",
   "metadata": {},
   "source": [
    "12. 손님들의 인원 구성은 어떻게 되는지 확인해본다."
   ]
  },
  {
   "cell_type": "code",
   "execution_count": null,
   "metadata": {},
   "outputs": [],
   "source": [
    "print(tips['size'].value_counts())\n",
    "plt.hist(tips['size'], bins = 10)\n",
    "plt.show()"
   ]
  },
  {
   "cell_type": "markdown",
   "metadata": {},
   "source": [
    "13. 음식값과 팁과의 관계를 확인해본다."
   ]
  },
  {
   "cell_type": "code",
   "execution_count": null,
   "metadata": {},
   "outputs": [],
   "source": [
    "plt.scatter(tips['total_bill'], tips['tip'])\n",
    "tips['total_bill'].corr(tips['tip'])"
   ]
  },
  {
   "cell_type": "code",
   "execution_count": null,
   "metadata": {},
   "outputs": [],
   "source": [
    "fig, ax = plt.subplots(2,2)\n",
    "ax[0,0].hist(tips['total_bill'], bins=10)\n",
    "ax[0,0].set_title(\"Histogram of total bill\")\n",
    "ax[0,1].hist(tips['tip'], bins=10)\n",
    "ax[0,1].set_title(\"Histogram of tip\")\n",
    "ax[1,0].boxplot(tips['total_bill'])\n",
    "ax[1,0].set_xlabel(\"total bill\")\n",
    "ax[1,1].boxplot(tips['tip'])\n",
    "ax[1,1].set_xlabel(\"tip\")"
   ]
  },
  {
   "cell_type": "markdown",
   "metadata": {},
   "source": [
    "14. 음식값과 요일의 관계를 확인해본다."
   ]
  },
  {
   "cell_type": "code",
   "execution_count": null,
   "metadata": {},
   "outputs": [],
   "source": [
    "sns.boxplot(x=\"day\", \n",
    "            y=\"total_bill\", \n",
    "            hue=\"sex\",\n",
    "            data=tips)\n",
    "plt.show()"
   ]
  },
  {
   "cell_type": "markdown",
   "metadata": {},
   "source": [
    "15. 팁과 흡연유무의 관계를 확인해본다."
   ]
  },
  {
   "cell_type": "code",
   "execution_count": null,
   "metadata": {},
   "outputs": [],
   "source": [
    "plt.boxplot([tips[tips['smoker'] == 'No']['tip'],\n",
    "             tips[tips['smoker'] == 'Yes']['tip']],\n",
    "             labels = ['No', 'Yes'])\n",
    "plt.show()\n",
    "Yes = tips[tips.smoker=='Yes']\n",
    "No = tips[tips.smoker=='No']\n",
    "print(Yes.tip.mean())\n",
    "print(No.tip.mean())"
   ]
  },
  {
   "cell_type": "markdown",
   "metadata": {},
   "source": [
    "16. 팁과 요일의 관계를 확인해본다."
   ]
  },
  {
   "cell_type": "code",
   "execution_count": null,
   "metadata": {},
   "outputs": [],
   "source": [
    "sns.boxplot(x=\"day\", \n",
    "            y=\"tip\", \n",
    "            data=tips)\n",
    "plt.show()"
   ]
  },
  {
   "cell_type": "markdown",
   "metadata": {},
   "source": [
    "17. 팁과 시간대의 관계를 확인해본다."
   ]
  },
  {
   "cell_type": "code",
   "execution_count": null,
   "metadata": {},
   "outputs": [],
   "source": [
    "sns.boxplot(x=\"time\", \n",
    "            y=\"tip\", \n",
    "            data=tips)\n",
    "plt.show()"
   ]
  },
  {
   "cell_type": "markdown",
   "metadata": {},
   "source": [
    "18. 팁과 인원수의 관계를 확인해본다."
   ]
  },
  {
   "cell_type": "code",
   "execution_count": null,
   "metadata": {},
   "outputs": [],
   "source": [
    "sns.boxplot(x=\"size\", \n",
    "            y=\"tip\", \n",
    "            data=tips)\n",
    "plt.show()"
   ]
  },
  {
   "cell_type": "markdown",
   "metadata": {},
   "source": [
    "19. 연속형자료 변수들간의 상관계수를 분석해본다."
   ]
  },
  {
   "cell_type": "code",
   "execution_count": null,
   "metadata": {},
   "outputs": [],
   "source": [
    "tips.corr()"
   ]
  },
  {
   "cell_type": "markdown",
   "metadata": {},
   "source": [
    "20. 연속형자로 변수들간의 공분산을 분석해본다."
   ]
  },
  {
   "cell_type": "code",
   "execution_count": null,
   "metadata": {},
   "outputs": [],
   "source": [
    "tips.cov()"
   ]
  },
  {
   "cell_type": "markdown",
   "metadata": {},
   "source": [
    "21. 자료에 대해 ols 검사하기"
   ]
  },
  {
   "cell_type": "code",
   "execution_count": null,
   "metadata": {},
   "outputs": [],
   "source": [
    "model_sm = sm.OLS.from_formula(\"tip ~ total_bill + sex + smoker + day + time + size\", data = tips)\n",
    "result_sm = model_sm.fit()\n",
    "print(result_sm.summary())"
   ]
  },
  {
   "cell_type": "code",
   "execution_count": null,
   "metadata": {},
   "outputs": [],
   "source": [
    "model_sm = sm.OLS.from_formula(\"tip ~ total_bill \", data = tips)\n",
    "result_sm = model_sm.fit()\n",
    "print(result_sm.summary())"
   ]
  },
  {
   "cell_type": "code",
   "execution_count": null,
   "metadata": {},
   "outputs": [],
   "source": [
    "model_sm = sm.OLS.from_formula(\"tip ~ total_bill + sex \", data = tips)\n",
    "result_sm = model_sm.fit()\n",
    "print(result_sm.summary())"
   ]
  },
  {
   "cell_type": "code",
   "execution_count": null,
   "metadata": {},
   "outputs": [],
   "source": [
    "model_sm = sm.OLS.from_formula(\"tip ~ total_bill + sex + size\", data = tips)\n",
    "result_sm = model_sm.fit()\n",
    "print(result_sm.summary())"
   ]
  },
  {
   "cell_type": "code",
   "execution_count": null,
   "metadata": {},
   "outputs": [],
   "source": [
    "model_sm = sm.OLS.from_formula(\"tip ~ total_bill + size\", data = tips)\n",
    "result_sm = model_sm.fit()\n",
    "print(result_sm.summary())"
   ]
  },
  {
   "cell_type": "code",
   "execution_count": null,
   "metadata": {},
   "outputs": [],
   "source": []
  }
 ],
 "metadata": {
  "kernelspec": {
   "display_name": "Python 3",
   "language": "python",
   "name": "python3"
  },
  "language_info": {
   "codemirror_mode": {
    "name": "ipython",
    "version": 3
   },
   "file_extension": ".py",
   "mimetype": "text/x-python",
   "name": "python",
   "nbconvert_exporter": "python",
   "pygments_lexer": "ipython3",
   "version": "3.8.5"
  }
 },
 "nbformat": 4,
 "nbformat_minor": 4
}
