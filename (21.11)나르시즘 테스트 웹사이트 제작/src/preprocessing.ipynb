{
 "cells": [
  {
   "cell_type": "code",
   "execution_count": 1,
   "id": "dab7f930",
   "metadata": {},
   "outputs": [],
   "source": [
    "import pandas as pd\n",
    "\n",
    "import seaborn as sns\n",
    "import matplotlib.pyplot as plt\n",
    "import warnings\n",
    "warnings.filterwarnings(\"ignore\")\n",
    "import numpy as np"
   ]
  },
  {
   "cell_type": "code",
   "execution_count": 2,
   "id": "847bf2bb",
   "metadata": {},
   "outputs": [],
   "source": [
    "df= pd.read_csv('./data.csv')"
   ]
  },
  {
   "cell_type": "code",
   "execution_count": 3,
   "id": "90523078",
   "metadata": {},
   "outputs": [
    {
     "data": {
      "text/html": [
       "<div>\n",
       "<style scoped>\n",
       "    .dataframe tbody tr th:only-of-type {\n",
       "        vertical-align: middle;\n",
       "    }\n",
       "\n",
       "    .dataframe tbody tr th {\n",
       "        vertical-align: top;\n",
       "    }\n",
       "\n",
       "    .dataframe thead th {\n",
       "        text-align: right;\n",
       "    }\n",
       "</style>\n",
       "<table border=\"1\" class=\"dataframe\">\n",
       "  <thead>\n",
       "    <tr style=\"text-align: right;\">\n",
       "      <th></th>\n",
       "      <th>score</th>\n",
       "      <th>Q1</th>\n",
       "      <th>Q2</th>\n",
       "      <th>Q3</th>\n",
       "      <th>Q4</th>\n",
       "      <th>Q5</th>\n",
       "      <th>Q6</th>\n",
       "      <th>Q7</th>\n",
       "      <th>Q8</th>\n",
       "      <th>Q9</th>\n",
       "      <th>...</th>\n",
       "      <th>Q33</th>\n",
       "      <th>Q34</th>\n",
       "      <th>Q35</th>\n",
       "      <th>Q36</th>\n",
       "      <th>Q37</th>\n",
       "      <th>Q38</th>\n",
       "      <th>Q39</th>\n",
       "      <th>Q40</th>\n",
       "      <th>gender</th>\n",
       "      <th>age</th>\n",
       "    </tr>\n",
       "  </thead>\n",
       "  <tbody>\n",
       "    <tr>\n",
       "      <th>0</th>\n",
       "      <td>18</td>\n",
       "      <td>2</td>\n",
       "      <td>2</td>\n",
       "      <td>2</td>\n",
       "      <td>2</td>\n",
       "      <td>1</td>\n",
       "      <td>2</td>\n",
       "      <td>1</td>\n",
       "      <td>2</td>\n",
       "      <td>2</td>\n",
       "      <td>...</td>\n",
       "      <td>1</td>\n",
       "      <td>1</td>\n",
       "      <td>1</td>\n",
       "      <td>2</td>\n",
       "      <td>2</td>\n",
       "      <td>2</td>\n",
       "      <td>1</td>\n",
       "      <td>2</td>\n",
       "      <td>1</td>\n",
       "      <td>50</td>\n",
       "    </tr>\n",
       "    <tr>\n",
       "      <th>1</th>\n",
       "      <td>6</td>\n",
       "      <td>2</td>\n",
       "      <td>2</td>\n",
       "      <td>2</td>\n",
       "      <td>1</td>\n",
       "      <td>2</td>\n",
       "      <td>2</td>\n",
       "      <td>1</td>\n",
       "      <td>2</td>\n",
       "      <td>1</td>\n",
       "      <td>...</td>\n",
       "      <td>2</td>\n",
       "      <td>2</td>\n",
       "      <td>1</td>\n",
       "      <td>2</td>\n",
       "      <td>2</td>\n",
       "      <td>2</td>\n",
       "      <td>2</td>\n",
       "      <td>1</td>\n",
       "      <td>1</td>\n",
       "      <td>40</td>\n",
       "    </tr>\n",
       "    <tr>\n",
       "      <th>2</th>\n",
       "      <td>27</td>\n",
       "      <td>1</td>\n",
       "      <td>2</td>\n",
       "      <td>2</td>\n",
       "      <td>1</td>\n",
       "      <td>2</td>\n",
       "      <td>1</td>\n",
       "      <td>2</td>\n",
       "      <td>1</td>\n",
       "      <td>2</td>\n",
       "      <td>...</td>\n",
       "      <td>1</td>\n",
       "      <td>1</td>\n",
       "      <td>2</td>\n",
       "      <td>1</td>\n",
       "      <td>1</td>\n",
       "      <td>2</td>\n",
       "      <td>1</td>\n",
       "      <td>2</td>\n",
       "      <td>1</td>\n",
       "      <td>28</td>\n",
       "    </tr>\n",
       "    <tr>\n",
       "      <th>3</th>\n",
       "      <td>29</td>\n",
       "      <td>1</td>\n",
       "      <td>1</td>\n",
       "      <td>2</td>\n",
       "      <td>2</td>\n",
       "      <td>2</td>\n",
       "      <td>1</td>\n",
       "      <td>2</td>\n",
       "      <td>1</td>\n",
       "      <td>1</td>\n",
       "      <td>...</td>\n",
       "      <td>1</td>\n",
       "      <td>1</td>\n",
       "      <td>2</td>\n",
       "      <td>1</td>\n",
       "      <td>2</td>\n",
       "      <td>2</td>\n",
       "      <td>1</td>\n",
       "      <td>1</td>\n",
       "      <td>1</td>\n",
       "      <td>37</td>\n",
       "    </tr>\n",
       "    <tr>\n",
       "      <th>4</th>\n",
       "      <td>6</td>\n",
       "      <td>1</td>\n",
       "      <td>2</td>\n",
       "      <td>1</td>\n",
       "      <td>1</td>\n",
       "      <td>1</td>\n",
       "      <td>2</td>\n",
       "      <td>1</td>\n",
       "      <td>2</td>\n",
       "      <td>1</td>\n",
       "      <td>...</td>\n",
       "      <td>2</td>\n",
       "      <td>2</td>\n",
       "      <td>1</td>\n",
       "      <td>2</td>\n",
       "      <td>2</td>\n",
       "      <td>2</td>\n",
       "      <td>0</td>\n",
       "      <td>1</td>\n",
       "      <td>1</td>\n",
       "      <td>50</td>\n",
       "    </tr>\n",
       "    <tr>\n",
       "      <th>...</th>\n",
       "      <td>...</td>\n",
       "      <td>...</td>\n",
       "      <td>...</td>\n",
       "      <td>...</td>\n",
       "      <td>...</td>\n",
       "      <td>...</td>\n",
       "      <td>...</td>\n",
       "      <td>...</td>\n",
       "      <td>...</td>\n",
       "      <td>...</td>\n",
       "      <td>...</td>\n",
       "      <td>...</td>\n",
       "      <td>...</td>\n",
       "      <td>...</td>\n",
       "      <td>...</td>\n",
       "      <td>...</td>\n",
       "      <td>...</td>\n",
       "      <td>...</td>\n",
       "      <td>...</td>\n",
       "      <td>...</td>\n",
       "      <td>...</td>\n",
       "    </tr>\n",
       "    <tr>\n",
       "      <th>11238</th>\n",
       "      <td>1</td>\n",
       "      <td>2</td>\n",
       "      <td>2</td>\n",
       "      <td>2</td>\n",
       "      <td>1</td>\n",
       "      <td>1</td>\n",
       "      <td>2</td>\n",
       "      <td>1</td>\n",
       "      <td>2</td>\n",
       "      <td>1</td>\n",
       "      <td>...</td>\n",
       "      <td>2</td>\n",
       "      <td>2</td>\n",
       "      <td>1</td>\n",
       "      <td>2</td>\n",
       "      <td>2</td>\n",
       "      <td>2</td>\n",
       "      <td>2</td>\n",
       "      <td>1</td>\n",
       "      <td>1</td>\n",
       "      <td>24</td>\n",
       "    </tr>\n",
       "    <tr>\n",
       "      <th>11239</th>\n",
       "      <td>10</td>\n",
       "      <td>2</td>\n",
       "      <td>2</td>\n",
       "      <td>1</td>\n",
       "      <td>1</td>\n",
       "      <td>1</td>\n",
       "      <td>2</td>\n",
       "      <td>1</td>\n",
       "      <td>1</td>\n",
       "      <td>1</td>\n",
       "      <td>...</td>\n",
       "      <td>2</td>\n",
       "      <td>2</td>\n",
       "      <td>1</td>\n",
       "      <td>2</td>\n",
       "      <td>1</td>\n",
       "      <td>2</td>\n",
       "      <td>2</td>\n",
       "      <td>1</td>\n",
       "      <td>1</td>\n",
       "      <td>39</td>\n",
       "    </tr>\n",
       "    <tr>\n",
       "      <th>11240</th>\n",
       "      <td>6</td>\n",
       "      <td>1</td>\n",
       "      <td>2</td>\n",
       "      <td>2</td>\n",
       "      <td>1</td>\n",
       "      <td>1</td>\n",
       "      <td>2</td>\n",
       "      <td>1</td>\n",
       "      <td>2</td>\n",
       "      <td>1</td>\n",
       "      <td>...</td>\n",
       "      <td>2</td>\n",
       "      <td>2</td>\n",
       "      <td>1</td>\n",
       "      <td>2</td>\n",
       "      <td>2</td>\n",
       "      <td>2</td>\n",
       "      <td>2</td>\n",
       "      <td>1</td>\n",
       "      <td>2</td>\n",
       "      <td>33</td>\n",
       "    </tr>\n",
       "    <tr>\n",
       "      <th>11241</th>\n",
       "      <td>12</td>\n",
       "      <td>2</td>\n",
       "      <td>2</td>\n",
       "      <td>1</td>\n",
       "      <td>1</td>\n",
       "      <td>1</td>\n",
       "      <td>1</td>\n",
       "      <td>1</td>\n",
       "      <td>1</td>\n",
       "      <td>1</td>\n",
       "      <td>...</td>\n",
       "      <td>1</td>\n",
       "      <td>1</td>\n",
       "      <td>2</td>\n",
       "      <td>2</td>\n",
       "      <td>2</td>\n",
       "      <td>2</td>\n",
       "      <td>2</td>\n",
       "      <td>1</td>\n",
       "      <td>1</td>\n",
       "      <td>24</td>\n",
       "    </tr>\n",
       "    <tr>\n",
       "      <th>11242</th>\n",
       "      <td>18</td>\n",
       "      <td>1</td>\n",
       "      <td>2</td>\n",
       "      <td>1</td>\n",
       "      <td>1</td>\n",
       "      <td>1</td>\n",
       "      <td>1</td>\n",
       "      <td>2</td>\n",
       "      <td>2</td>\n",
       "      <td>1</td>\n",
       "      <td>...</td>\n",
       "      <td>1</td>\n",
       "      <td>2</td>\n",
       "      <td>2</td>\n",
       "      <td>1</td>\n",
       "      <td>2</td>\n",
       "      <td>2</td>\n",
       "      <td>1</td>\n",
       "      <td>1</td>\n",
       "      <td>1</td>\n",
       "      <td>36</td>\n",
       "    </tr>\n",
       "  </tbody>\n",
       "</table>\n",
       "<p>11243 rows × 43 columns</p>\n",
       "</div>"
      ],
      "text/plain": [
       "       score  Q1  Q2  Q3  Q4  Q5  Q6  Q7  Q8  Q9  ...  Q33  Q34  Q35  Q36  \\\n",
       "0         18   2   2   2   2   1   2   1   2   2  ...    1    1    1    2   \n",
       "1          6   2   2   2   1   2   2   1   2   1  ...    2    2    1    2   \n",
       "2         27   1   2   2   1   2   1   2   1   2  ...    1    1    2    1   \n",
       "3         29   1   1   2   2   2   1   2   1   1  ...    1    1    2    1   \n",
       "4          6   1   2   1   1   1   2   1   2   1  ...    2    2    1    2   \n",
       "...      ...  ..  ..  ..  ..  ..  ..  ..  ..  ..  ...  ...  ...  ...  ...   \n",
       "11238      1   2   2   2   1   1   2   1   2   1  ...    2    2    1    2   \n",
       "11239     10   2   2   1   1   1   2   1   1   1  ...    2    2    1    2   \n",
       "11240      6   1   2   2   1   1   2   1   2   1  ...    2    2    1    2   \n",
       "11241     12   2   2   1   1   1   1   1   1   1  ...    1    1    2    2   \n",
       "11242     18   1   2   1   1   1   1   2   2   1  ...    1    2    2    1   \n",
       "\n",
       "       Q37  Q38  Q39  Q40  gender  age  \n",
       "0        2    2    1    2       1   50  \n",
       "1        2    2    2    1       1   40  \n",
       "2        1    2    1    2       1   28  \n",
       "3        2    2    1    1       1   37  \n",
       "4        2    2    0    1       1   50  \n",
       "...    ...  ...  ...  ...     ...  ...  \n",
       "11238    2    2    2    1       1   24  \n",
       "11239    1    2    2    1       1   39  \n",
       "11240    2    2    2    1       2   33  \n",
       "11241    2    2    2    1       1   24  \n",
       "11242    2    2    1    1       1   36  \n",
       "\n",
       "[11243 rows x 43 columns]"
      ]
     },
     "execution_count": 3,
     "metadata": {},
     "output_type": "execute_result"
    }
   ],
   "source": [
    "df"
   ]
  },
  {
   "cell_type": "code",
   "execution_count": 4,
   "id": "d9ca3fcb",
   "metadata": {},
   "outputs": [],
   "source": [
    "q_cols=['Q1', 'Q2', 'Q3', 'Q4', 'Q5', 'Q6', 'Q7', 'Q8', 'Q9', 'Q10',\n",
    "       'Q11', 'Q12', 'Q13', 'Q14', 'Q15', 'Q16', 'Q17', 'Q18', 'Q19', 'Q20',\n",
    "       'Q21', 'Q22', 'Q23', 'Q24', 'Q25', 'Q26', 'Q27', 'Q28', 'Q29', 'Q30',\n",
    "       'Q31', 'Q32', 'Q33', 'Q34', 'Q35', 'Q36', 'Q37', 'Q38', 'Q39', 'Q40']\n",
    "one=0\n",
    "two=0\n",
    "for x in q_cols:\n",
    "    one+=df[x].value_counts()[1]\n",
    "    two+=df[x].value_counts()[2]\n",
    "    "
   ]
  },
  {
   "cell_type": "code",
   "execution_count": 5,
   "id": "474a1ab7",
   "metadata": {},
   "outputs": [
    {
     "name": "stdout",
     "output_type": "stream",
     "text": [
      "1271 366\n",
      "8062 148\n",
      "8268 117\n",
      "8355 509\n",
      "9153 190\n",
      "9227 100\n"
     ]
    }
   ],
   "source": [
    "for x,y in enumerate(df[\"age\"]):\n",
    "    if y>90:\n",
    "        print(x,y)"
   ]
  },
  {
   "cell_type": "code",
   "execution_count": 6,
   "id": "420489c3",
   "metadata": {},
   "outputs": [
    {
     "name": "stdout",
     "output_type": "stream",
     "text": [
      "7583 13\n",
      "8120 13\n",
      "8160 12\n",
      "8302 13\n",
      "8372 13\n",
      "8402 13\n",
      "8792 13\n",
      "8817 12\n",
      "8915 13\n",
      "9000 13\n",
      "9264 13\n",
      "9300 13\n",
      "9420 13\n",
      "9452 11\n",
      "9472 13\n",
      "9546 13\n",
      "9724 13\n",
      "9759 13\n",
      "9813 0\n",
      "9840 13\n",
      "9904 0\n",
      "9923 0\n",
      "9928 13\n",
      "9952 13\n",
      "10002 0\n",
      "10117 13\n",
      "10136 13\n",
      "10145 0\n",
      "10162 6\n",
      "10220 0\n",
      "10259 13\n",
      "10296 0\n",
      "10389 13\n",
      "10413 0\n",
      "10436 0\n",
      "10442 13\n",
      "10589 0\n",
      "10622 13\n",
      "10855 10\n",
      "10867 13\n",
      "10928 0\n",
      "11027 0\n",
      "11066 13\n",
      "11183 13\n",
      "11185 2\n"
     ]
    }
   ],
   "source": [
    "index=[]\n",
    "for x,y in enumerate(df[\"age\"]):\n",
    "    if y<14:\n",
    "        print(x,y)\n",
    "        index.append(x)"
   ]
  },
  {
   "cell_type": "code",
   "execution_count": 11,
   "id": "c6852b9d",
   "metadata": {},
   "outputs": [],
   "source": [
    "df.to_csv('data2.csv')"
   ]
  },
  {
   "cell_type": "code",
   "execution_count": 7,
   "id": "d9739c1c",
   "metadata": {},
   "outputs": [],
   "source": [
    "df.drop([1271,8062,8268,8355,9153,9227],axis=0,inplace=True)"
   ]
  },
  {
   "cell_type": "code",
   "execution_count": 8,
   "id": "e26116aa",
   "metadata": {},
   "outputs": [],
   "source": [
    "df.drop(index,axis=0,inplace=True)"
   ]
  },
  {
   "cell_type": "code",
   "execution_count": 9,
   "id": "981e0199",
   "metadata": {},
   "outputs": [],
   "source": [
    "X=df.drop(\"score\",axis=1)\n",
    "y=df[\"score\"]"
   ]
  },
  {
   "cell_type": "code",
   "execution_count": 10,
   "id": "76b0723c",
   "metadata": {},
   "outputs": [],
   "source": [
    "from sklearn.model_selection import train_test_split"
   ]
  },
  {
   "cell_type": "code",
   "execution_count": 12,
   "id": "af93a00f",
   "metadata": {},
   "outputs": [],
   "source": [
    "X_train,X_test,y_train,y_test=train_test_split(X,y,test_size=0.2,random_state=42)"
   ]
  },
  {
   "cell_type": "code",
   "execution_count": 16,
   "id": "b579b750",
   "metadata": {},
   "outputs": [],
   "source": [
    "from catboost import CatBoostRegressor\n",
    "from sklearn.metrics import r2_score"
   ]
  },
  {
   "cell_type": "code",
   "execution_count": 17,
   "id": "b59b6a52",
   "metadata": {},
   "outputs": [
    {
     "name": "stdout",
     "output_type": "stream",
     "text": [
      "0:\tlearn: 7.2389585\ttotal: 2.02ms\tremaining: 38.3ms\n",
      "1:\tlearn: 6.1615487\ttotal: 3.89ms\tremaining: 35ms\n",
      "2:\tlearn: 5.2690337\ttotal: 6.14ms\tremaining: 34.8ms\n",
      "3:\tlearn: 4.5338084\ttotal: 8.14ms\tremaining: 32.6ms\n",
      "4:\tlearn: 3.8993172\ttotal: 10.1ms\tremaining: 30.4ms\n",
      "5:\tlearn: 3.3681947\ttotal: 12.3ms\tremaining: 28.6ms\n",
      "6:\tlearn: 2.9228752\ttotal: 14.1ms\tremaining: 26.2ms\n",
      "7:\tlearn: 2.5454246\ttotal: 15.9ms\tremaining: 23.8ms\n",
      "8:\tlearn: 2.2068547\ttotal: 17.6ms\tremaining: 21.6ms\n",
      "9:\tlearn: 1.9355330\ttotal: 19.3ms\tremaining: 19.3ms\n",
      "10:\tlearn: 1.6913548\ttotal: 21.1ms\tremaining: 17.3ms\n",
      "11:\tlearn: 1.4889254\ttotal: 23ms\tremaining: 15.3ms\n",
      "12:\tlearn: 1.3204264\ttotal: 24.9ms\tremaining: 13.4ms\n",
      "13:\tlearn: 1.1811920\ttotal: 26.8ms\tremaining: 11.5ms\n",
      "14:\tlearn: 1.0608440\ttotal: 28.6ms\tremaining: 9.54ms\n",
      "15:\tlearn: 0.9571140\ttotal: 30.4ms\tremaining: 7.59ms\n",
      "16:\tlearn: 0.8706170\ttotal: 32.1ms\tremaining: 5.67ms\n",
      "17:\tlearn: 0.8012384\ttotal: 33.9ms\tremaining: 3.77ms\n",
      "18:\tlearn: 0.7364025\ttotal: 35.7ms\tremaining: 1.88ms\n",
      "19:\tlearn: 0.6879864\ttotal: 37.8ms\tremaining: 0us\n"
     ]
    }
   ],
   "source": [
    "cbr=CatBoostRegressor(random_state=101,learning_rate= 0.2,max_depth= 8,n_estimators= 20,subsample= 0.3)\n",
    "cbr.fit(X_train,y_train)\n",
    "\n",
    "\n",
    "y_pred=cbr.predict(X_test)\n",
    "y_pred2=cbr.predict(X_train)\n",
    "cbr_score=r2_score(y_test,y_pred)"
   ]
  },
  {
   "cell_type": "code",
   "execution_count": 18,
   "id": "c5a6ff6c",
   "metadata": {},
   "outputs": [
    {
     "name": "stdout",
     "output_type": "stream",
     "text": [
      "Train:  0.9934268619128757\n",
      "Test:  0.9909506012492938\n"
     ]
    }
   ],
   "source": [
    "print(\"Train: \",r2_score(y_train,y_pred2))\n",
    "print(\"Test: \",r2_score(y_test,y_pred))"
   ]
  },
  {
   "cell_type": "code",
   "execution_count": 24,
   "id": "9efc5986",
   "metadata": {},
   "outputs": [
    {
     "data": {
      "text/plain": [
       "Q1         2\n",
       "Q2         1\n",
       "Q3         2\n",
       "Q4         1\n",
       "Q5         2\n",
       "Q6         2\n",
       "Q7         1\n",
       "Q8         1\n",
       "Q9         1\n",
       "Q10        1\n",
       "Q11        2\n",
       "Q12        1\n",
       "Q13        2\n",
       "Q14        2\n",
       "Q15        1\n",
       "Q16        2\n",
       "Q17        2\n",
       "Q18        2\n",
       "Q19        1\n",
       "Q20        1\n",
       "Q21        2\n",
       "Q22        2\n",
       "Q23        1\n",
       "Q24        2\n",
       "Q25        2\n",
       "Q26        1\n",
       "Q27        2\n",
       "Q28        1\n",
       "Q29        2\n",
       "Q30        2\n",
       "Q31        2\n",
       "Q32        1\n",
       "Q33        2\n",
       "Q34        2\n",
       "Q35        1\n",
       "Q36        2\n",
       "Q37        2\n",
       "Q38        2\n",
       "Q39        1\n",
       "Q40        1\n",
       "gender     1\n",
       "age       31\n",
       "Name: 476, dtype: int64"
      ]
     },
     "execution_count": 24,
     "metadata": {},
     "output_type": "execute_result"
    }
   ],
   "source": [
    "X_train.iloc[0]"
   ]
  },
  {
   "cell_type": "code",
   "execution_count": 36,
   "id": "46a4f65d",
   "metadata": {},
   "outputs": [],
   "source": [
    "sample = [2,2,2,2,2,2,2,2,2,2,2,2,2,2,2,2,2,2,2,2,2,2,2,2,2,2,2,2,2,2,2,2,2,2,2,2,2,2,2,2,2,20]"
   ]
  },
  {
   "cell_type": "code",
   "execution_count": 37,
   "id": "a2daa7db",
   "metadata": {},
   "outputs": [
    {
     "data": {
      "text/plain": [
       "42"
      ]
     },
     "execution_count": 37,
     "metadata": {},
     "output_type": "execute_result"
    }
   ],
   "source": [
    "len(sample)"
   ]
  },
  {
   "cell_type": "code",
   "execution_count": null,
   "id": "f1f5df55",
   "metadata": {},
   "outputs": [],
   "source": []
  },
  {
   "cell_type": "code",
   "execution_count": 20,
   "id": "b5d204ec",
   "metadata": {},
   "outputs": [
    {
     "data": {
      "text/plain": [
       "15.283234814737119"
      ]
     },
     "execution_count": 20,
     "metadata": {},
     "output_type": "execute_result"
    }
   ],
   "source": [
    "cbr.predict(X_test)"
   ]
  },
  {
   "cell_type": "code",
   "execution_count": 38,
   "id": "6b1c7457",
   "metadata": {},
   "outputs": [
    {
     "data": {
      "text/plain": [
       "15.925481450967268"
      ]
     },
     "execution_count": 38,
     "metadata": {},
     "output_type": "execute_result"
    }
   ],
   "source": [
    "cbr.predict(sample)"
   ]
  },
  {
   "cell_type": "code",
   "execution_count": null,
   "id": "29fa88a4",
   "metadata": {},
   "outputs": [],
   "source": []
  }
 ],
 "metadata": {
  "kernelspec": {
   "display_name": "Python 3 (ipykernel)",
   "language": "python",
   "name": "python3"
  },
  "language_info": {
   "codemirror_mode": {
    "name": "ipython",
    "version": 3
   },
   "file_extension": ".py",
   "mimetype": "text/x-python",
   "name": "python",
   "nbconvert_exporter": "python",
   "pygments_lexer": "ipython3",
   "version": "3.8.5"
  }
 },
 "nbformat": 4,
 "nbformat_minor": 5
}
