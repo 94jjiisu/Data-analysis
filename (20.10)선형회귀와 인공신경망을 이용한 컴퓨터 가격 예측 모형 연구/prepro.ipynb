{
 "cells": [
  {
   "cell_type": "code",
   "execution_count": 2,
   "metadata": {},
   "outputs": [],
   "source": [
    "data = pd.read_excel('C:/Users/park/Desktop/실증분 9월팀/crawling2.xlsx')"
   ]
  },
  {
   "cell_type": "code",
   "execution_count": 3,
   "metadata": {},
   "outputs": [
    {
     "data": {
      "text/html": [
       "<div>\n",
       "<style scoped>\n",
       "    .dataframe tbody tr th:only-of-type {\n",
       "        vertical-align: middle;\n",
       "    }\n",
       "\n",
       "    .dataframe tbody tr th {\n",
       "        vertical-align: top;\n",
       "    }\n",
       "\n",
       "    .dataframe thead th {\n",
       "        text-align: right;\n",
       "    }\n",
       "</style>\n",
       "<table border=\"1\" class=\"dataframe\">\n",
       "  <thead>\n",
       "    <tr style=\"text-align: right;\">\n",
       "      <th></th>\n",
       "      <th>상품명</th>\n",
       "      <th>스펙</th>\n",
       "      <th>가격</th>\n",
       "    </tr>\n",
       "  </thead>\n",
       "  <tbody>\n",
       "    <tr>\n",
       "      <th>0</th>\n",
       "      <td>다나와표준PC 게임용 200309</td>\n",
       "      <td>인텔 / 코어i5-9세대 / 커피레이크-R / i5-9400F (2.9GHz) / ...</td>\n",
       "      <td>689910</td>\n",
       "    </tr>\n",
       "    <tr>\n",
       "      <th>1</th>\n",
       "      <td>프리플로우 GAMING CREATOR 356S</td>\n",
       "      <td>AMD / 라이젠5-3세대 / 마티스 / 3500X (3.6GHz) / (AMD) ...</td>\n",
       "      <td>669000</td>\n",
       "    </tr>\n",
       "    <tr>\n",
       "      <th>2</th>\n",
       "      <td>다나와표준PC 홈/오피스용 200902</td>\n",
       "      <td>AMD / 라이젠3-2세대 / 피카소 / 3200G (3.6GHz) / (AMD) ...</td>\n",
       "      <td>393750</td>\n",
       "    </tr>\n",
       "    <tr>\n",
       "      <th>3</th>\n",
       "      <td>한성컴퓨터 보스몬스터 DX5516SRX</td>\n",
       "      <td>AMD / 라이젠5-3세대 / 마티스 / 3500X (3.6GHz) / (AMD) ...</td>\n",
       "      <td>840000</td>\n",
       "    </tr>\n",
       "    <tr>\n",
       "      <th>4</th>\n",
       "      <td>NEXPC 게이밍프로 G101</td>\n",
       "      <td>인텔 / 코어i5-10세대 / 코멧레이크S / i5-10400F (2.9GHz) /...</td>\n",
       "      <td>796910</td>\n",
       "    </tr>\n",
       "    <tr>\n",
       "      <th>...</th>\n",
       "      <td>...</td>\n",
       "      <td>...</td>\n",
       "      <td>...</td>\n",
       "    </tr>\n",
       "    <tr>\n",
       "      <th>39875</th>\n",
       "      <td>APPLE 아이맥 MXWU2KH/A</td>\n",
       "      <td>인텔 / 코어i5-10세대 / 코멧레이크S / DDR4 / 8GB / SSD / 5...</td>\n",
       "      <td>2490000</td>\n",
       "    </tr>\n",
       "    <tr>\n",
       "      <th>39876</th>\n",
       "      <td>한성컴퓨터 보스몬스터 DX5526</td>\n",
       "      <td>인텔 / 코어i5-10세대 / 코멧레이크S / i5-10400F (2.9GHz) /...</td>\n",
       "      <td>1010000</td>\n",
       "    </tr>\n",
       "    <tr>\n",
       "      <th>39877</th>\n",
       "      <td>DELL 인스피론 27 7790-D1017790103KR</td>\n",
       "      <td>인텔 / 코어i7-10세대 / 코멧레이크 / i7-10510U (1.8GHz) / ...</td>\n",
       "      <td>1319000</td>\n",
       "    </tr>\n",
       "    <tr>\n",
       "      <th>39878</th>\n",
       "      <td>한성컴퓨터 미니슈트 R55</td>\n",
       "      <td>AMD / 라이젠5 PRO-3세대 / 르누아르 / 4650G (3.7GHz) / (...</td>\n",
       "      <td>492000</td>\n",
       "    </tr>\n",
       "    <tr>\n",
       "      <th>39879</th>\n",
       "      <td>레노버 LEGION T5i-28IMB05 90NC00DRKA</td>\n",
       "      <td>인텔 / 코어i5-10세대 / 코멧레이크S / i5-10400 (2.9GHz) / ...</td>\n",
       "      <td>1236000</td>\n",
       "    </tr>\n",
       "  </tbody>\n",
       "</table>\n",
       "<p>39880 rows × 3 columns</p>\n",
       "</div>"
      ],
      "text/plain": [
       "                                     상품명  \\\n",
       "0                     다나와표준PC 게임용 200309   \n",
       "1              프리플로우 GAMING CREATOR 356S   \n",
       "2                  다나와표준PC 홈/오피스용 200902   \n",
       "3                  한성컴퓨터 보스몬스터 DX5516SRX   \n",
       "4                       NEXPC 게이밍프로 G101   \n",
       "...                                  ...   \n",
       "39875                APPLE 아이맥 MXWU2KH/A   \n",
       "39876                 한성컴퓨터 보스몬스터 DX5526   \n",
       "39877    DELL 인스피론 27 7790-D1017790103KR   \n",
       "39878                     한성컴퓨터 미니슈트 R55   \n",
       "39879  레노버 LEGION T5i-28IMB05 90NC00DRKA   \n",
       "\n",
       "                                                      스펙       가격  \n",
       "0      인텔 / 코어i5-9세대 / 커피레이크-R / i5-9400F (2.9GHz) / ...   689910  \n",
       "1      AMD / 라이젠5-3세대 / 마티스 / 3500X (3.6GHz) / (AMD) ...   669000  \n",
       "2      AMD / 라이젠3-2세대 / 피카소 / 3200G (3.6GHz) / (AMD) ...   393750  \n",
       "3      AMD / 라이젠5-3세대 / 마티스 / 3500X (3.6GHz) / (AMD) ...   840000  \n",
       "4      인텔 / 코어i5-10세대 / 코멧레이크S / i5-10400F (2.9GHz) /...   796910  \n",
       "...                                                  ...      ...  \n",
       "39875  인텔 / 코어i5-10세대 / 코멧레이크S / DDR4 / 8GB / SSD / 5...  2490000  \n",
       "39876  인텔 / 코어i5-10세대 / 코멧레이크S / i5-10400F (2.9GHz) /...  1010000  \n",
       "39877  인텔 / 코어i7-10세대 / 코멧레이크 / i7-10510U (1.8GHz) / ...  1319000  \n",
       "39878  AMD / 라이젠5 PRO-3세대 / 르누아르 / 4650G (3.7GHz) / (...   492000  \n",
       "39879  인텔 / 코어i5-10세대 / 코멧레이크S / i5-10400 (2.9GHz) / ...  1236000  \n",
       "\n",
       "[39880 rows x 3 columns]"
      ]
     },
     "execution_count": 3,
     "metadata": {},
     "output_type": "execute_result"
    }
   ],
   "source": [
    "data"
   ]
  },
  {
   "cell_type": "code",
   "execution_count": 2,
   "metadata": {},
   "outputs": [
    {
     "data": {
      "text/plain": [
       "39880"
      ]
     },
     "execution_count": 2,
     "metadata": {},
     "output_type": "execute_result"
    }
   ],
   "source": [
    "len(data)"
   ]
  },
  {
   "cell_type": "code",
   "execution_count": 3,
   "metadata": {},
   "outputs": [],
   "source": [
    "data['brand'] = data['상품명'].str.split(' ', 10)"
   ]
  },
  {
   "cell_type": "code",
   "execution_count": 4,
   "metadata": {},
   "outputs": [],
   "source": [
    "for i in range(0, 39880, 1):\n",
    "    name = (' '.join(data['brand'][i]))\n",
    "    name = name.split(' ')\n",
    "    name = name[0]\n",
    "    data['brand'][i] = name"
   ]
  },
  {
   "cell_type": "code",
   "execution_count": 5,
   "metadata": {},
   "outputs": [],
   "source": [
    "data = data.drop(['상품명'], axis = 1)"
   ]
  },
  {
   "cell_type": "code",
   "execution_count": 6,
   "metadata": {},
   "outputs": [],
   "source": [
    "data['CPU'] = data.스펙.str.split(' / ').str[0]\n",
    "#data"
   ]
  },
  {
   "cell_type": "code",
   "execution_count": 7,
   "metadata": {},
   "outputs": [],
   "source": [
    "data['세대'] = data.스펙.str.split(' / ').str[1]\n",
    "#data"
   ]
  },
  {
   "cell_type": "code",
   "execution_count": 8,
   "metadata": {},
   "outputs": [],
   "source": [
    "data['코드명'] = data.스펙.str.split(' / ').str[2]"
   ]
  },
  {
   "cell_type": "code",
   "execution_count": 9,
   "metadata": {},
   "outputs": [],
   "source": [
    "data['spec4'] = data.스펙.str.split(' / ').str[3]"
   ]
  },
  {
   "cell_type": "code",
   "execution_count": 10,
   "metadata": {},
   "outputs": [],
   "source": [
    "data['spec5'] = data.스펙.str.split(' / ').str[4]"
   ]
  },
  {
   "cell_type": "code",
   "execution_count": 11,
   "metadata": {},
   "outputs": [],
   "source": [
    "data['spec6'] = data.스펙.str.split(' / ').str[5]"
   ]
  },
  {
   "cell_type": "code",
   "execution_count": 12,
   "metadata": {},
   "outputs": [],
   "source": [
    "data['spec7'] = data.스펙.str.split(' / ').str[6]"
   ]
  },
  {
   "cell_type": "code",
   "execution_count": 13,
   "metadata": {},
   "outputs": [],
   "source": [
    "data['spec8'] = data.스펙.str.split(' / ').str[7]"
   ]
  },
  {
   "cell_type": "code",
   "execution_count": 14,
   "metadata": {},
   "outputs": [],
   "source": [
    "data['spec9'] = data.스펙.str.split(' / ').str[8]"
   ]
  },
  {
   "cell_type": "code",
   "execution_count": 15,
   "metadata": {},
   "outputs": [],
   "source": [
    "data['spec10'] = data.스펙.str.split(' / ').str[9]"
   ]
  },
  {
   "cell_type": "code",
   "execution_count": 16,
   "metadata": {},
   "outputs": [],
   "source": [
    "data['spec11'] = data.스펙.str.split(' / ').str[10]"
   ]
  },
  {
   "cell_type": "code",
   "execution_count": 17,
   "metadata": {},
   "outputs": [],
   "source": [
    "data['spec12'] = data.스펙.str.split(' / ').str[11]"
   ]
  },
  {
   "cell_type": "code",
   "execution_count": 18,
   "metadata": {},
   "outputs": [],
   "source": [
    "data['spec13'] = data.스펙.str.split(' / ').str[12]"
   ]
  },
  {
   "cell_type": "code",
   "execution_count": 19,
   "metadata": {},
   "outputs": [],
   "source": [
    "data['spec14'] = data.스펙.str.split(' / ').str[13]"
   ]
  },
  {
   "cell_type": "code",
   "execution_count": 20,
   "metadata": {},
   "outputs": [],
   "source": [
    "data['spec15'] = data.스펙.str.split(' / ').str[14]"
   ]
  },
  {
   "cell_type": "code",
   "execution_count": 21,
   "metadata": {},
   "outputs": [],
   "source": [
    "data['spec16'] = data.스펙.str.split(' / ').str[15]"
   ]
  },
  {
   "cell_type": "code",
   "execution_count": 22,
   "metadata": {},
   "outputs": [],
   "source": [
    "data['spec17'] = data.스펙.str.split(' / ').str[16]"
   ]
  },
  {
   "cell_type": "code",
   "execution_count": 23,
   "metadata": {},
   "outputs": [],
   "source": [
    "data['spec18'] = data.스펙.str.split(' / ').str[17]"
   ]
  },
  {
   "cell_type": "code",
   "execution_count": 24,
   "metadata": {},
   "outputs": [],
   "source": [
    "data['spec19'] = data.스펙.str.split(' / ').str[18]"
   ]
  },
  {
   "cell_type": "code",
   "execution_count": 25,
   "metadata": {},
   "outputs": [],
   "source": [
    "data['spec20'] = data.스펙.str.split(' / ').str[19]"
   ]
  },
  {
   "cell_type": "code",
   "execution_count": 26,
   "metadata": {},
   "outputs": [],
   "source": [
    "data['spec21'] = data.스펙.str.split(' / ').str[20]"
   ]
  },
  {
   "cell_type": "code",
   "execution_count": 27,
   "metadata": {},
   "outputs": [],
   "source": [
    "data['spec22'] = data.스펙.str.split(' / ').str[21]"
   ]
  },
  {
   "cell_type": "code",
   "execution_count": 28,
   "metadata": {},
   "outputs": [],
   "source": [
    "data['spec23'] = data.스펙.str.split(' / ').str[22]"
   ]
  },
  {
   "cell_type": "code",
   "execution_count": 29,
   "metadata": {},
   "outputs": [],
   "source": [
    "data['spec24'] = data.스펙.str.split(' / ').str[23]"
   ]
  },
  {
   "cell_type": "code",
   "execution_count": 30,
   "metadata": {},
   "outputs": [],
   "source": [
    "data['spec25'] = data.스펙.str.split(' / ').str[24]"
   ]
  },
  {
   "cell_type": "code",
   "execution_count": 31,
   "metadata": {},
   "outputs": [],
   "source": [
    "data['spec26'] = data.스펙.str.split(' / ').str[25]"
   ]
  },
  {
   "cell_type": "code",
   "execution_count": 32,
   "metadata": {},
   "outputs": [],
   "source": [
    "data['spec27'] = data.스펙.str.split(' / ').str[26]"
   ]
  },
  {
   "cell_type": "code",
   "execution_count": 33,
   "metadata": {},
   "outputs": [],
   "source": [
    "data['spec28'] = data.스펙.str.split(' / ').str[27]"
   ]
  },
  {
   "cell_type": "code",
   "execution_count": 34,
   "metadata": {},
   "outputs": [],
   "source": [
    "data['spec29'] = data.스펙.str.split(' / ').str[17]"
   ]
  },
  {
   "cell_type": "code",
   "execution_count": 35,
   "metadata": {},
   "outputs": [],
   "source": [
    "data['spec30'] = data.스펙.str.split(' / ').str[28]"
   ]
  },
  {
   "cell_type": "code",
   "execution_count": 36,
   "metadata": {},
   "outputs": [],
   "source": [
    "data = data.drop(['스펙'], axis = 1)"
   ]
  },
  {
   "cell_type": "code",
   "execution_count": 37,
   "metadata": {},
   "outputs": [],
   "source": [
    "#data.to_csv('sample.csv',encoding='utf-8-sig')"
   ]
  },
  {
   "cell_type": "code",
   "execution_count": 38,
   "metadata": {},
   "outputs": [],
   "source": [
    "data[['용도', '클럭 속도', '메인 보드', '램', '용량', '그래픽카드' ,'파워', '운영체제']] = 0"
   ]
  },
  {
   "cell_type": "code",
   "execution_count": 39,
   "metadata": {},
   "outputs": [],
   "source": [
    "for i in range(39880):\n",
    "    s = data.iloc[i].str.contains('용도')\n",
    "    t = 0\n",
    "    for j in range(31):\n",
    "        if s.iloc[j] == True:\n",
    "            index = t\n",
    "            break;\n",
    "        else:\n",
    "            t+=1\n",
    "    data['용도'][i] = data.iloc[i][index]\n",
    "    "
   ]
  },
  {
   "cell_type": "code",
   "execution_count": 40,
   "metadata": {},
   "outputs": [],
   "source": [
    "for i in range(39880):\n",
    "        s = data.iloc[i].str.contains('GHz')\n",
    "        t = 0\n",
    "        for j in range(31):\n",
    "            if s.iloc[j] == True:\n",
    "                index = t\n",
    "                break;\n",
    "            else:\n",
    "                t+=1\n",
    "        data['클럭 속도'][i] = data.iloc[i][index]"
   ]
  },
  {
   "cell_type": "code",
   "execution_count": 41,
   "metadata": {},
   "outputs": [],
   "source": [
    "for i in range(39880):\n",
    "        s = data.iloc[i].str.startswith('(AMD) ')\n",
    "        t = 0\n",
    "        for j in range(31):\n",
    "            if s.iloc[j] == True:\n",
    "                index = t\n",
    "                break;\n",
    "            else:\n",
    "                t+=1\n",
    "        data['메인 보드'][i] = data.iloc[i][index]"
   ]
  },
  {
   "cell_type": "code",
   "execution_count": 42,
   "metadata": {},
   "outputs": [],
   "source": [
    "for i in range(39880):\n",
    "        s = data.iloc[i].str.contains('GB')\n",
    "        t = 0\n",
    "        for j in range(31):\n",
    "            if s.iloc[j] == True:\n",
    "                index = t\n",
    "                break;\n",
    "            else:\n",
    "                t+=1\n",
    "        data['램'][i] = data.iloc[i][index]"
   ]
  },
  {
   "cell_type": "code",
   "execution_count": 43,
   "metadata": {},
   "outputs": [],
   "source": [
    "for i in range(39880):\n",
    "        s = data.iloc[i].str.contains('0GB|56GB|12GB')\n",
    "        t = 0\n",
    "        for j in range(31):\n",
    "            if s.iloc[j] == True:\n",
    "                index = t\n",
    "                break;\n",
    "            else:\n",
    "                t+=1\n",
    "        data['용량'][i] = data.iloc[i][index]"
   ]
  },
  {
   "cell_type": "code",
   "execution_count": 44,
   "metadata": {},
   "outputs": [],
   "source": [
    "for i in range(39880):\n",
    "        s = data.iloc[i].str.contains('라데온|지포스')\n",
    "        t = 0\n",
    "        for j in range(31):\n",
    "            if s.iloc[j] == True:\n",
    "                index = t\n",
    "                break;\n",
    "            else:\n",
    "                t+=1\n",
    "        data['그래픽카드'][i] = data.iloc[i][index]"
   ]
  },
  {
   "cell_type": "code",
   "execution_count": 45,
   "metadata": {},
   "outputs": [],
   "source": [
    "for i in range(39880):\n",
    "        s = data.iloc[i].str.contains('00W')\n",
    "        t = 0\n",
    "        for j in range(31):\n",
    "            if s.iloc[j] == True:\n",
    "                index = t\n",
    "                break;\n",
    "            else:\n",
    "                t+=1\n",
    "        data['파워'][i] = data.iloc[i][index]"
   ]
  },
  {
   "cell_type": "code",
   "execution_count": 46,
   "metadata": {},
   "outputs": [],
   "source": [
    "for i in range(39880):\n",
    "        s = data.iloc[i].str.contains('윈도우|미포함')\n",
    "        t = 0\n",
    "        for j in range(31):\n",
    "            if s.iloc[j] == True:\n",
    "                index = t\n",
    "                break;\n",
    "            else:\n",
    "                t+=1\n",
    "        data['운영체제'][i] = data.iloc[i][index]"
   ]
  },
  {
   "cell_type": "code",
   "execution_count": 47,
   "metadata": {},
   "outputs": [],
   "source": [
    "data = data.drop(['spec5','spec6','spec7','spec8','spec9','spec10','spec11','spec12','spec13','spec14','spec15','spec16','spec17','spec18','spec19','spec20','spec21','spec22','spec23','spec24','spec25','spec26','spec27','spec28','spec29','spec30'], axis = 1)"
   ]
  },
  {
   "cell_type": "code",
   "execution_count": 48,
   "metadata": {},
   "outputs": [],
   "source": [
    "data = data.drop(['spec4'], axis = 1)"
   ]
  },
  {
   "cell_type": "code",
   "execution_count": 49,
   "metadata": {},
   "outputs": [
    {
     "data": {
      "text/html": [
       "<div>\n",
       "<style scoped>\n",
       "    .dataframe tbody tr th:only-of-type {\n",
       "        vertical-align: middle;\n",
       "    }\n",
       "\n",
       "    .dataframe tbody tr th {\n",
       "        vertical-align: top;\n",
       "    }\n",
       "\n",
       "    .dataframe thead th {\n",
       "        text-align: right;\n",
       "    }\n",
       "</style>\n",
       "<table border=\"1\" class=\"dataframe\">\n",
       "  <thead>\n",
       "    <tr style=\"text-align: right;\">\n",
       "      <th></th>\n",
       "      <th>가격</th>\n",
       "      <th>brand</th>\n",
       "      <th>CPU</th>\n",
       "      <th>세대</th>\n",
       "      <th>코드명</th>\n",
       "      <th>용도</th>\n",
       "      <th>클럭 속도</th>\n",
       "      <th>메인 보드</th>\n",
       "      <th>램</th>\n",
       "      <th>용량</th>\n",
       "      <th>그래픽카드</th>\n",
       "      <th>파워</th>\n",
       "      <th>운영체제</th>\n",
       "    </tr>\n",
       "  </thead>\n",
       "  <tbody>\n",
       "    <tr>\n",
       "      <th>0</th>\n",
       "      <td>689910</td>\n",
       "      <td>다나와표준PC</td>\n",
       "      <td>인텔</td>\n",
       "      <td>코어i5-9세대</td>\n",
       "      <td>커피레이크-R</td>\n",
       "      <td>용도: 게임용</td>\n",
       "      <td>i5-9400F (2.9GHz)</td>\n",
       "      <td>i5-9400F (2.9GHz)</td>\n",
       "      <td>8GB</td>\n",
       "      <td>240GB</td>\n",
       "      <td>지포스 GTX 1660</td>\n",
       "      <td>500W</td>\n",
       "      <td>운영체제 미포함</td>\n",
       "    </tr>\n",
       "    <tr>\n",
       "      <th>1</th>\n",
       "      <td>669000</td>\n",
       "      <td>프리플로우</td>\n",
       "      <td>AMD</td>\n",
       "      <td>라이젠5-3세대</td>\n",
       "      <td>마티스</td>\n",
       "      <td>용도: 게임용</td>\n",
       "      <td>3500X (3.6GHz)</td>\n",
       "      <td>(AMD) A320</td>\n",
       "      <td>8GB</td>\n",
       "      <td>240GB</td>\n",
       "      <td>지포스 GTX 1660 SUPER</td>\n",
       "      <td>500W</td>\n",
       "      <td>운영체제 미포함</td>\n",
       "    </tr>\n",
       "    <tr>\n",
       "      <th>2</th>\n",
       "      <td>393750</td>\n",
       "      <td>다나와표준PC</td>\n",
       "      <td>AMD</td>\n",
       "      <td>라이젠3-2세대</td>\n",
       "      <td>피카소</td>\n",
       "      <td>용도: 사무/인강용</td>\n",
       "      <td>3200G (3.6GHz)</td>\n",
       "      <td>(AMD) A320</td>\n",
       "      <td>8GB</td>\n",
       "      <td>240GB</td>\n",
       "      <td>라데온 Vega 8</td>\n",
       "      <td>500W</td>\n",
       "      <td>운영체제 미포함</td>\n",
       "    </tr>\n",
       "    <tr>\n",
       "      <th>3</th>\n",
       "      <td>840000</td>\n",
       "      <td>한성컴퓨터</td>\n",
       "      <td>AMD</td>\n",
       "      <td>라이젠5-3세대</td>\n",
       "      <td>마티스</td>\n",
       "      <td>용도: 게임용</td>\n",
       "      <td>3500X (3.6GHz)</td>\n",
       "      <td>(AMD) B450</td>\n",
       "      <td>16GB</td>\n",
       "      <td>256GB</td>\n",
       "      <td>지포스 GTX 1660 SUPER</td>\n",
       "      <td>600W</td>\n",
       "      <td>운영체제 미포함</td>\n",
       "    </tr>\n",
       "    <tr>\n",
       "      <th>4</th>\n",
       "      <td>796910</td>\n",
       "      <td>NEXPC</td>\n",
       "      <td>인텔</td>\n",
       "      <td>코어i5-10세대</td>\n",
       "      <td>코멧레이크S</td>\n",
       "      <td>용도: 게임용</td>\n",
       "      <td>i5-10400F (2.9GHz)</td>\n",
       "      <td>(인텔) H410</td>\n",
       "      <td>16GB</td>\n",
       "      <td>256GB</td>\n",
       "      <td>지포스 GTX 1660 SUPER</td>\n",
       "      <td>600W</td>\n",
       "      <td>운영체제 미포함</td>\n",
       "    </tr>\n",
       "    <tr>\n",
       "      <th>...</th>\n",
       "      <td>...</td>\n",
       "      <td>...</td>\n",
       "      <td>...</td>\n",
       "      <td>...</td>\n",
       "      <td>...</td>\n",
       "      <td>...</td>\n",
       "      <td>...</td>\n",
       "      <td>...</td>\n",
       "      <td>...</td>\n",
       "      <td>...</td>\n",
       "      <td>...</td>\n",
       "      <td>...</td>\n",
       "      <td>...</td>\n",
       "    </tr>\n",
       "    <tr>\n",
       "      <th>39875</th>\n",
       "      <td>2490000</td>\n",
       "      <td>APPLE</td>\n",
       "      <td>인텔</td>\n",
       "      <td>코어i5-10세대</td>\n",
       "      <td>코멧레이크S</td>\n",
       "      <td>용도: 그래픽작업</td>\n",
       "      <td>DDR4</td>\n",
       "      <td>8GB</td>\n",
       "      <td>8GB</td>\n",
       "      <td>512GB</td>\n",
       "      <td>라데온 Pro 5300</td>\n",
       "      <td>일체형</td>\n",
       "      <td>USB 3.1</td>\n",
       "    </tr>\n",
       "    <tr>\n",
       "      <th>39876</th>\n",
       "      <td>1010000</td>\n",
       "      <td>한성컴퓨터</td>\n",
       "      <td>인텔</td>\n",
       "      <td>코어i5-10세대</td>\n",
       "      <td>코멧레이크S</td>\n",
       "      <td>용도: 게임용</td>\n",
       "      <td>i5-10400F (2.9GHz)</td>\n",
       "      <td>(인텔) B460</td>\n",
       "      <td>16GB</td>\n",
       "      <td>500GB</td>\n",
       "      <td>지포스 RTX 2060</td>\n",
       "      <td>600W</td>\n",
       "      <td>운영체제 미포함</td>\n",
       "    </tr>\n",
       "    <tr>\n",
       "      <th>39877</th>\n",
       "      <td>1319000</td>\n",
       "      <td>DELL</td>\n",
       "      <td>인텔</td>\n",
       "      <td>코어i7-10세대</td>\n",
       "      <td>코멧레이크</td>\n",
       "      <td>외장 어댑터</td>\n",
       "      <td>i7-10510U (1.8GHz)</td>\n",
       "      <td>DDR4</td>\n",
       "      <td>16GB</td>\n",
       "      <td>256GB</td>\n",
       "      <td>지포스 MX110</td>\n",
       "      <td>USB 3.0</td>\n",
       "      <td>윈도우10</td>\n",
       "    </tr>\n",
       "    <tr>\n",
       "      <th>39878</th>\n",
       "      <td>492000</td>\n",
       "      <td>한성컴퓨터</td>\n",
       "      <td>AMD</td>\n",
       "      <td>라이젠5 PRO-3세대</td>\n",
       "      <td>르누아르</td>\n",
       "      <td>용도: 사무/인강용</td>\n",
       "      <td>4650G (3.7GHz)</td>\n",
       "      <td>(AMD) A520</td>\n",
       "      <td>8GB</td>\n",
       "      <td>240GB</td>\n",
       "      <td>라데온 Vega 7</td>\n",
       "      <td>500W</td>\n",
       "      <td>운영체제 미포함</td>\n",
       "    </tr>\n",
       "    <tr>\n",
       "      <th>39879</th>\n",
       "      <td>1236000</td>\n",
       "      <td>레노버</td>\n",
       "      <td>인텔</td>\n",
       "      <td>코어i5-10세대</td>\n",
       "      <td>코멧레이크S</td>\n",
       "      <td>용도: 게임용</td>\n",
       "      <td>i5-10400 (2.9GHz)</td>\n",
       "      <td>(인텔) B460</td>\n",
       "      <td>16GB</td>\n",
       "      <td>256GB</td>\n",
       "      <td>지포스 GTX 1660 SUPER</td>\n",
       "      <td>DVI</td>\n",
       "      <td>운영체제 미포함</td>\n",
       "    </tr>\n",
       "  </tbody>\n",
       "</table>\n",
       "<p>39880 rows × 13 columns</p>\n",
       "</div>"
      ],
      "text/plain": [
       "            가격    brand  CPU            세대      코드명          용도  \\\n",
       "0       689910  다나와표준PC   인텔      코어i5-9세대  커피레이크-R     용도: 게임용   \n",
       "1       669000    프리플로우  AMD      라이젠5-3세대      마티스     용도: 게임용   \n",
       "2       393750  다나와표준PC  AMD      라이젠3-2세대      피카소  용도: 사무/인강용   \n",
       "3       840000    한성컴퓨터  AMD      라이젠5-3세대      마티스     용도: 게임용   \n",
       "4       796910    NEXPC   인텔     코어i5-10세대   코멧레이크S     용도: 게임용   \n",
       "...        ...      ...  ...           ...      ...         ...   \n",
       "39875  2490000    APPLE   인텔     코어i5-10세대   코멧레이크S   용도: 그래픽작업   \n",
       "39876  1010000    한성컴퓨터   인텔     코어i5-10세대   코멧레이크S     용도: 게임용   \n",
       "39877  1319000     DELL   인텔     코어i7-10세대    코멧레이크      외장 어댑터   \n",
       "39878   492000    한성컴퓨터  AMD  라이젠5 PRO-3세대     르누아르  용도: 사무/인강용   \n",
       "39879  1236000      레노버   인텔     코어i5-10세대   코멧레이크S     용도: 게임용   \n",
       "\n",
       "                    클럭 속도              메인 보드     램     용량               그래픽카드  \\\n",
       "0       i5-9400F (2.9GHz)  i5-9400F (2.9GHz)   8GB  240GB        지포스 GTX 1660   \n",
       "1          3500X (3.6GHz)         (AMD) A320   8GB  240GB  지포스 GTX 1660 SUPER   \n",
       "2          3200G (3.6GHz)         (AMD) A320   8GB  240GB          라데온 Vega 8   \n",
       "3          3500X (3.6GHz)         (AMD) B450  16GB  256GB  지포스 GTX 1660 SUPER   \n",
       "4      i5-10400F (2.9GHz)          (인텔) H410  16GB  256GB  지포스 GTX 1660 SUPER   \n",
       "...                   ...                ...   ...    ...                 ...   \n",
       "39875                DDR4                8GB   8GB  512GB        라데온 Pro 5300   \n",
       "39876  i5-10400F (2.9GHz)          (인텔) B460  16GB  500GB        지포스 RTX 2060   \n",
       "39877  i7-10510U (1.8GHz)               DDR4  16GB  256GB           지포스 MX110   \n",
       "39878      4650G (3.7GHz)         (AMD) A520   8GB  240GB          라데온 Vega 7   \n",
       "39879   i5-10400 (2.9GHz)          (인텔) B460  16GB  256GB  지포스 GTX 1660 SUPER   \n",
       "\n",
       "            파워      운영체제  \n",
       "0         500W  운영체제 미포함  \n",
       "1         500W  운영체제 미포함  \n",
       "2         500W  운영체제 미포함  \n",
       "3         600W  운영체제 미포함  \n",
       "4         600W  운영체제 미포함  \n",
       "...        ...       ...  \n",
       "39875      일체형   USB 3.1  \n",
       "39876     600W  운영체제 미포함  \n",
       "39877  USB 3.0     윈도우10  \n",
       "39878     500W  운영체제 미포함  \n",
       "39879      DVI  운영체제 미포함  \n",
       "\n",
       "[39880 rows x 13 columns]"
      ]
     },
     "execution_count": 49,
     "metadata": {},
     "output_type": "execute_result"
    }
   ],
   "source": [
    "data"
   ]
  },
  {
   "cell_type": "code",
   "execution_count": 50,
   "metadata": {},
   "outputs": [],
   "source": [
    "data.to_csv('after2.csv', index = False, encoding='utf-8-sig')"
   ]
  },
  {
   "cell_type": "code",
   "execution_count": 51,
   "metadata": {},
   "outputs": [],
   "source": [
    "data.dropna(inplace=True)"
   ]
  },
  {
   "cell_type": "code",
   "execution_count": 52,
   "metadata": {},
   "outputs": [],
   "source": [
    "data = data.loc[data['램'].str.contains('GB', na = False)]"
   ]
  },
  {
   "cell_type": "code",
   "execution_count": 53,
   "metadata": {},
   "outputs": [],
   "source": [
    "data = data.loc[data['그래픽카드'].str.contains('라데온|지포스', na = False)]"
   ]
  },
  {
   "cell_type": "code",
   "execution_count": 54,
   "metadata": {},
   "outputs": [],
   "source": [
    "data = data.loc[data['용량'].str.contains('GB', na = False)]"
   ]
  },
  {
   "cell_type": "code",
   "execution_count": 55,
   "metadata": {},
   "outputs": [],
   "source": [
    "data = data.loc[data['파워'].str.contains('00W', na = False)]"
   ]
  },
  {
   "cell_type": "code",
   "execution_count": 56,
   "metadata": {},
   "outputs": [],
   "source": [
    "data = data.loc[data['메인 보드'].str.contains('인텔|AMD', na = False)]"
   ]
  },
  {
   "cell_type": "code",
   "execution_count": 57,
   "metadata": {},
   "outputs": [],
   "source": [
    "data.to_csv('absolute2.csv',  index = False, encoding='utf-8-sig')"
   ]
  },
  {
   "cell_type": "code",
   "execution_count": 58,
   "metadata": {},
   "outputs": [],
   "source": [
    "#data['클럭 속도'] = data['클럭 속도'].str.split(\" \", expand = True)"
   ]
  },
  {
   "cell_type": "code",
   "execution_count": null,
   "metadata": {},
   "outputs": [],
   "source": []
  }
 ],
 "metadata": {
  "kernelspec": {
   "display_name": "Python 3",
   "language": "python",
   "name": "python3"
  },
  "language_info": {
   "codemirror_mode": {
    "name": "ipython",
    "version": 3
   },
   "file_extension": ".py",
   "mimetype": "text/x-python",
   "name": "python",
   "nbconvert_exporter": "python",
   "pygments_lexer": "ipython3",
   "version": "3.7.9"
  }
 },
 "nbformat": 4,
 "nbformat_minor": 4
}
