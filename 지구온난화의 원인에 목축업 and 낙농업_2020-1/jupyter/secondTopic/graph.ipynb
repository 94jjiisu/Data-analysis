{
 "cells": [
  {
   "cell_type": "code",
   "execution_count": 18,
   "metadata": {},
   "outputs": [],
   "source": [
    "import numpy as np \n",
    "import pandas as pd\n",
    "import matplotlib.pyplot as plt\n",
    "import csv\n",
    "\n",
    "milk = pd.read_csv('../csv/milk.csv')\n",
    "gas = pd.read_csv('../csv/greenhousegas.csv')\n",
    "tmp = pd.read_csv('../csv/temp.csv')\n",
    "totalData = pd.read_csv(\"../csv/total.csv\")\n",
    "totalData2 = pd.read_csv('../csv/total2.csv')"
   ]
  },
  {
   "cell_type": "code",
   "execution_count": 19,
   "metadata": {
    "scrolled": false
   },
   "outputs": [
    {
     "data": {
      "text/html": [
       "<div>\n",
       "<style scoped>\n",
       "    .dataframe tbody tr th:only-of-type {\n",
       "        vertical-align: middle;\n",
       "    }\n",
       "\n",
       "    .dataframe tbody tr th {\n",
       "        vertical-align: top;\n",
       "    }\n",
       "\n",
       "    .dataframe thead th {\n",
       "        text-align: right;\n",
       "    }\n",
       "</style>\n",
       "<table border=\"1\" class=\"dataframe\">\n",
       "  <thead>\n",
       "    <tr style=\"text-align: right;\">\n",
       "      <th></th>\n",
       "      <th>year</th>\n",
       "      <th>total</th>\n",
       "    </tr>\n",
       "  </thead>\n",
       "  <tbody>\n",
       "    <tr>\n",
       "      <td>0</td>\n",
       "      <td>1980</td>\n",
       "      <td>410,629</td>\n",
       "    </tr>\n",
       "    <tr>\n",
       "      <td>1</td>\n",
       "      <td>1981</td>\n",
       "      <td>482,880</td>\n",
       "    </tr>\n",
       "    <tr>\n",
       "      <td>2</td>\n",
       "      <td>1982</td>\n",
       "      <td>562,447</td>\n",
       "    </tr>\n",
       "    <tr>\n",
       "      <td>3</td>\n",
       "      <td>1983</td>\n",
       "      <td>675,168</td>\n",
       "    </tr>\n",
       "    <tr>\n",
       "      <td>4</td>\n",
       "      <td>1984</td>\n",
       "      <td>784,324</td>\n",
       "    </tr>\n",
       "    <tr>\n",
       "      <td>5</td>\n",
       "      <td>1985</td>\n",
       "      <td>931,384</td>\n",
       "    </tr>\n",
       "    <tr>\n",
       "      <td>6</td>\n",
       "      <td>1986</td>\n",
       "      <td>1,120,076</td>\n",
       "    </tr>\n",
       "    <tr>\n",
       "      <td>7</td>\n",
       "      <td>1987</td>\n",
       "      <td>1,348,497</td>\n",
       "    </tr>\n",
       "    <tr>\n",
       "      <td>8</td>\n",
       "      <td>1988</td>\n",
       "      <td>1,581,769</td>\n",
       "    </tr>\n",
       "    <tr>\n",
       "      <td>9</td>\n",
       "      <td>1989</td>\n",
       "      <td>1,559,405</td>\n",
       "    </tr>\n",
       "    <tr>\n",
       "      <td>10</td>\n",
       "      <td>1990</td>\n",
       "      <td>1,751,153</td>\n",
       "    </tr>\n",
       "    <tr>\n",
       "      <td>11</td>\n",
       "      <td>1991</td>\n",
       "      <td>1,827,069</td>\n",
       "    </tr>\n",
       "    <tr>\n",
       "      <td>12</td>\n",
       "      <td>1992</td>\n",
       "      <td>1,928,708</td>\n",
       "    </tr>\n",
       "    <tr>\n",
       "      <td>13</td>\n",
       "      <td>1993</td>\n",
       "      <td>1,948,951</td>\n",
       "    </tr>\n",
       "    <tr>\n",
       "      <td>14</td>\n",
       "      <td>1994</td>\n",
       "      <td>2,142,000</td>\n",
       "    </tr>\n",
       "    <tr>\n",
       "      <td>15</td>\n",
       "      <td>1995</td>\n",
       "      <td>2,207,014</td>\n",
       "    </tr>\n",
       "    <tr>\n",
       "      <td>16</td>\n",
       "      <td>1996</td>\n",
       "      <td>2,268,059</td>\n",
       "    </tr>\n",
       "    <tr>\n",
       "      <td>17</td>\n",
       "      <td>1997</td>\n",
       "      <td>2,449,854</td>\n",
       "    </tr>\n",
       "    <tr>\n",
       "      <td>18</td>\n",
       "      <td>1998</td>\n",
       "      <td>1,957,746</td>\n",
       "    </tr>\n",
       "    <tr>\n",
       "      <td>19</td>\n",
       "      <td>1999</td>\n",
       "      <td>1,894,788</td>\n",
       "    </tr>\n",
       "    <tr>\n",
       "      <td>20</td>\n",
       "      <td>2000</td>\n",
       "      <td>2,280,881</td>\n",
       "    </tr>\n",
       "    <tr>\n",
       "      <td>21</td>\n",
       "      <td>2001</td>\n",
       "      <td>2,348,242</td>\n",
       "    </tr>\n",
       "    <tr>\n",
       "      <td>22</td>\n",
       "      <td>2002</td>\n",
       "      <td>2,300,612</td>\n",
       "    </tr>\n",
       "    <tr>\n",
       "      <td>23</td>\n",
       "      <td>2003</td>\n",
       "      <td>2,465,674</td>\n",
       "    </tr>\n",
       "    <tr>\n",
       "      <td>24</td>\n",
       "      <td>2004</td>\n",
       "      <td>2,382,735</td>\n",
       "    </tr>\n",
       "    <tr>\n",
       "      <td>25</td>\n",
       "      <td>2005</td>\n",
       "      <td>2,248,965</td>\n",
       "    </tr>\n",
       "    <tr>\n",
       "      <td>26</td>\n",
       "      <td>2006</td>\n",
       "      <td>2,258,397</td>\n",
       "    </tr>\n",
       "    <tr>\n",
       "      <td>27</td>\n",
       "      <td>2007</td>\n",
       "      <td>2,254,010</td>\n",
       "    </tr>\n",
       "    <tr>\n",
       "      <td>28</td>\n",
       "      <td>2008</td>\n",
       "      <td>2,228,247</td>\n",
       "    </tr>\n",
       "    <tr>\n",
       "      <td>29</td>\n",
       "      <td>2009</td>\n",
       "      <td>2,211,004</td>\n",
       "    </tr>\n",
       "  </tbody>\n",
       "</table>\n",
       "</div>"
      ],
      "text/plain": [
       "    year      total\n",
       "0   1980    410,629\n",
       "1   1981    482,880\n",
       "2   1982    562,447\n",
       "3   1983    675,168\n",
       "4   1984    784,324\n",
       "5   1985    931,384\n",
       "6   1986  1,120,076\n",
       "7   1987  1,348,497\n",
       "8   1988  1,581,769\n",
       "9   1989  1,559,405\n",
       "10  1990  1,751,153\n",
       "11  1991  1,827,069\n",
       "12  1992  1,928,708\n",
       "13  1993  1,948,951\n",
       "14  1994  2,142,000\n",
       "15  1995  2,207,014\n",
       "16  1996  2,268,059\n",
       "17  1997  2,449,854\n",
       "18  1998  1,957,746\n",
       "19  1999  1,894,788\n",
       "20  2000  2,280,881\n",
       "21  2001  2,348,242\n",
       "22  2002  2,300,612\n",
       "23  2003  2,465,674\n",
       "24  2004  2,382,735\n",
       "25  2005  2,248,965\n",
       "26  2006  2,258,397\n",
       "27  2007  2,254,010\n",
       "28  2008  2,228,247\n",
       "29  2009  2,211,004"
      ]
     },
     "execution_count": 19,
     "metadata": {},
     "output_type": "execute_result"
    }
   ],
   "source": [
    "milk"
   ]
  },
  {
   "cell_type": "code",
   "execution_count": 20,
   "metadata": {},
   "outputs": [
    {
     "data": {
      "text/plain": [
       "0     1980\n",
       "1     1981\n",
       "2     1982\n",
       "3     1983\n",
       "4     1984\n",
       "5     1985\n",
       "6     1986\n",
       "7     1987\n",
       "8     1988\n",
       "9     1989\n",
       "10    1990\n",
       "11    1991\n",
       "12    1992\n",
       "13    1993\n",
       "14    1994\n",
       "15    1995\n",
       "16    1996\n",
       "17    1997\n",
       "18    1998\n",
       "19    1999\n",
       "20    2000\n",
       "21    2001\n",
       "22    2002\n",
       "23    2003\n",
       "24    2004\n",
       "25    2005\n",
       "26    2006\n",
       "27    2007\n",
       "28    2008\n",
       "29    2009\n",
       "Name: year, dtype: int64"
      ]
     },
     "execution_count": 20,
     "metadata": {},
     "output_type": "execute_result"
    }
   ],
   "source": [
    "milk['year']"
   ]
  },
  {
   "cell_type": "code",
   "execution_count": 21,
   "metadata": {},
   "outputs": [
    {
     "data": {
      "text/plain": [
       "0       410,629\n",
       "1       482,880\n",
       "2       562,447\n",
       "3       675,168\n",
       "4       784,324\n",
       "5       931,384\n",
       "6     1,120,076\n",
       "7     1,348,497\n",
       "8     1,581,769\n",
       "9     1,559,405\n",
       "10    1,751,153\n",
       "11    1,827,069\n",
       "12    1,928,708\n",
       "13    1,948,951\n",
       "14    2,142,000\n",
       "15    2,207,014\n",
       "16    2,268,059\n",
       "17    2,449,854\n",
       "18    1,957,746\n",
       "19    1,894,788\n",
       "20    2,280,881\n",
       "21    2,348,242\n",
       "22    2,300,612\n",
       "23    2,465,674\n",
       "24    2,382,735\n",
       "25    2,248,965\n",
       "26    2,258,397\n",
       "27    2,254,010\n",
       "28    2,228,247\n",
       "29    2,211,004\n",
       "Name: total, dtype: object"
      ]
     },
     "execution_count": 21,
     "metadata": {},
     "output_type": "execute_result"
    }
   ],
   "source": [
    "milk['total']"
   ]
  },
  {
   "cell_type": "code",
   "execution_count": 22,
   "metadata": {},
   "outputs": [
    {
     "data": {
      "image/png": "[encoded data removed]",
      "text/plain": [
       "<Figure size 432x288 with 1 Axes>"
      ]
     },
     "metadata": {
      "needs_background": "light"
     },
     "output_type": "display_data"
    }
   ],
   "source": [
    "#pmilk = milk.pivot_table(index='year',columns='year',values='rate')\n",
    "#milk.plot(kind='bar',title='milkproduction',ylim=[40000,2500000])\n",
    "\n",
    "plt.title('Milk Production')\n",
    "plt.xlabel('year')\n",
    "plt.ylabel('total')\n",
    "\"\"\"\n",
    "milkYear = milk.loc[:, 'year']\n",
    "milkTotal = milk.loc[:, 'total']\n",
    "\"\"\"\n",
    "#milk.plot(ylim=[40000,2400000])\n",
    "y = np.linspace(40000,2400000,100)\n",
    "plt.plot(milk['year'],milk['total']) #plt.plot(milkYear, milkTotal)\n",
    "plt.show()\n"
   ]
  },
  {
   "cell_type": "code",
   "execution_count": 23,
   "metadata": {},
   "outputs": [
    {
     "data": {
      "text/html": [
       "<div>\n",
       "<style scoped>\n",
       "    .dataframe tbody tr th:only-of-type {\n",
       "        vertical-align: middle;\n",
       "    }\n",
       "\n",
       "    .dataframe tbody tr th {\n",
       "        vertical-align: top;\n",
       "    }\n",
       "\n",
       "    .dataframe thead th {\n",
       "        text-align: right;\n",
       "    }\n",
       "</style>\n",
       "<table border=\"1\" class=\"dataframe\">\n",
       "  <thead>\n",
       "    <tr style=\"text-align: right;\">\n",
       "      <th></th>\n",
       "      <th>year</th>\n",
       "      <th>temperature</th>\n",
       "      <th>gas</th>\n",
       "      <th>milk</th>\n",
       "    </tr>\n",
       "  </thead>\n",
       "  <tbody>\n",
       "    <tr>\n",
       "      <td>0</td>\n",
       "      <td>1980</td>\n",
       "      <td>0.27</td>\n",
       "      <td>567777.0807</td>\n",
       "      <td>410,629</td>\n",
       "    </tr>\n",
       "    <tr>\n",
       "      <td>1</td>\n",
       "      <td>1981</td>\n",
       "      <td>0.33</td>\n",
       "      <td>553345.5501</td>\n",
       "      <td>482,880</td>\n",
       "    </tr>\n",
       "    <tr>\n",
       "      <td>2</td>\n",
       "      <td>1982</td>\n",
       "      <td>0.13</td>\n",
       "      <td>592862.1000</td>\n",
       "      <td>562,447</td>\n",
       "    </tr>\n",
       "    <tr>\n",
       "      <td>3</td>\n",
       "      <td>1983</td>\n",
       "      <td>0.30</td>\n",
       "      <td>564652.2583</td>\n",
       "      <td>675,168</td>\n",
       "    </tr>\n",
       "    <tr>\n",
       "      <td>4</td>\n",
       "      <td>1984</td>\n",
       "      <td>0.15</td>\n",
       "      <td>551310.5385</td>\n",
       "      <td>784,324</td>\n",
       "    </tr>\n",
       "    <tr>\n",
       "      <td>5</td>\n",
       "      <td>1985</td>\n",
       "      <td>0.12</td>\n",
       "      <td>554318.2821</td>\n",
       "      <td>931,384</td>\n",
       "    </tr>\n",
       "    <tr>\n",
       "      <td>6</td>\n",
       "      <td>1986</td>\n",
       "      <td>0.19</td>\n",
       "      <td>569470.6118</td>\n",
       "      <td>1,120,076</td>\n",
       "    </tr>\n",
       "    <tr>\n",
       "      <td>7</td>\n",
       "      <td>1987</td>\n",
       "      <td>0.33</td>\n",
       "      <td>600408.9004</td>\n",
       "      <td>1,348,497</td>\n",
       "    </tr>\n",
       "    <tr>\n",
       "      <td>8</td>\n",
       "      <td>1988</td>\n",
       "      <td>0.40</td>\n",
       "      <td>594323.3854</td>\n",
       "      <td>1,581,769</td>\n",
       "    </tr>\n",
       "    <tr>\n",
       "      <td>9</td>\n",
       "      <td>1989</td>\n",
       "      <td>0.28</td>\n",
       "      <td>611381.4628</td>\n",
       "      <td>1,559,405</td>\n",
       "    </tr>\n",
       "    <tr>\n",
       "      <td>10</td>\n",
       "      <td>1990</td>\n",
       "      <td>0.44</td>\n",
       "      <td>642440.8789</td>\n",
       "      <td>1,751,153</td>\n",
       "    </tr>\n",
       "    <tr>\n",
       "      <td>11</td>\n",
       "      <td>1991</td>\n",
       "      <td>0.42</td>\n",
       "      <td>660724.9247</td>\n",
       "      <td>1,827,069</td>\n",
       "    </tr>\n",
       "    <tr>\n",
       "      <td>12</td>\n",
       "      <td>1992</td>\n",
       "      <td>0.23</td>\n",
       "      <td>673408.0558</td>\n",
       "      <td>1,928,708</td>\n",
       "    </tr>\n",
       "    <tr>\n",
       "      <td>13</td>\n",
       "      <td>1993</td>\n",
       "      <td>0.24</td>\n",
       "      <td>649277.5265</td>\n",
       "      <td>1,948,951</td>\n",
       "    </tr>\n",
       "    <tr>\n",
       "      <td>14</td>\n",
       "      <td>1994</td>\n",
       "      <td>0.31</td>\n",
       "      <td>670336.6590</td>\n",
       "      <td>2,142,000</td>\n",
       "    </tr>\n",
       "    <tr>\n",
       "      <td>15</td>\n",
       "      <td>1995</td>\n",
       "      <td>0.45</td>\n",
       "      <td>674230.6505</td>\n",
       "      <td>2,207,014</td>\n",
       "    </tr>\n",
       "    <tr>\n",
       "      <td>16</td>\n",
       "      <td>1996</td>\n",
       "      <td>0.34</td>\n",
       "      <td>684565.0729</td>\n",
       "      <td>2,268,059</td>\n",
       "    </tr>\n",
       "    <tr>\n",
       "      <td>17</td>\n",
       "      <td>1997</td>\n",
       "      <td>0.47</td>\n",
       "      <td>775991.1188</td>\n",
       "      <td>2,449,854</td>\n",
       "    </tr>\n",
       "    <tr>\n",
       "      <td>18</td>\n",
       "      <td>1998</td>\n",
       "      <td>0.63</td>\n",
       "      <td>757021.7282</td>\n",
       "      <td>1,957,746</td>\n",
       "    </tr>\n",
       "    <tr>\n",
       "      <td>19</td>\n",
       "      <td>1999</td>\n",
       "      <td>0.41</td>\n",
       "      <td>704681.4822</td>\n",
       "      <td>1,894,788</td>\n",
       "    </tr>\n",
       "    <tr>\n",
       "      <td>20</td>\n",
       "      <td>2000</td>\n",
       "      <td>0.42</td>\n",
       "      <td>701695.7171</td>\n",
       "      <td>2,280,881</td>\n",
       "    </tr>\n",
       "    <tr>\n",
       "      <td>21</td>\n",
       "      <td>2001</td>\n",
       "      <td>0.54</td>\n",
       "      <td>698248.2985</td>\n",
       "      <td>2,348,242</td>\n",
       "    </tr>\n",
       "    <tr>\n",
       "      <td>22</td>\n",
       "      <td>2002</td>\n",
       "      <td>0.63</td>\n",
       "      <td>752766.8699</td>\n",
       "      <td>2,300,612</td>\n",
       "    </tr>\n",
       "    <tr>\n",
       "      <td>23</td>\n",
       "      <td>2003</td>\n",
       "      <td>0.62</td>\n",
       "      <td>770909.8284</td>\n",
       "      <td>2,465,674</td>\n",
       "    </tr>\n",
       "    <tr>\n",
       "      <td>24</td>\n",
       "      <td>2004</td>\n",
       "      <td>0.54</td>\n",
       "      <td>785554.4503</td>\n",
       "      <td>2,382,735</td>\n",
       "    </tr>\n",
       "    <tr>\n",
       "      <td>25</td>\n",
       "      <td>2005</td>\n",
       "      <td>0.69</td>\n",
       "      <td>811057.9440</td>\n",
       "      <td>2,248,965</td>\n",
       "    </tr>\n",
       "    <tr>\n",
       "      <td>26</td>\n",
       "      <td>2006</td>\n",
       "      <td>0.63</td>\n",
       "      <td>848359.3278</td>\n",
       "      <td>2,258,397</td>\n",
       "    </tr>\n",
       "    <tr>\n",
       "      <td>27</td>\n",
       "      <td>2007</td>\n",
       "      <td>0.66</td>\n",
       "      <td>868633.9657</td>\n",
       "      <td>2,254,010</td>\n",
       "    </tr>\n",
       "    <tr>\n",
       "      <td>28</td>\n",
       "      <td>2008</td>\n",
       "      <td>0.53</td>\n",
       "      <td>840952.1542</td>\n",
       "      <td>2,228,247</td>\n",
       "    </tr>\n",
       "    <tr>\n",
       "      <td>29</td>\n",
       "      <td>2009</td>\n",
       "      <td>0.64</td>\n",
       "      <td>840760.3393</td>\n",
       "      <td>2,211,004</td>\n",
       "    </tr>\n",
       "  </tbody>\n",
       "</table>\n",
       "</div>"
      ],
      "text/plain": [
       "    year  temperature          gas       milk\n",
       "0   1980         0.27  567777.0807    410,629\n",
       "1   1981         0.33  553345.5501    482,880\n",
       "2   1982         0.13  592862.1000    562,447\n",
       "3   1983         0.30  564652.2583    675,168\n",
       "4   1984         0.15  551310.5385    784,324\n",
       "5   1985         0.12  554318.2821    931,384\n",
       "6   1986         0.19  569470.6118  1,120,076\n",
       "7   1987         0.33  600408.9004  1,348,497\n",
       "8   1988         0.40  594323.3854  1,581,769\n",
       "9   1989         0.28  611381.4628  1,559,405\n",
       "10  1990         0.44  642440.8789  1,751,153\n",
       "11  1991         0.42  660724.9247  1,827,069\n",
       "12  1992         0.23  673408.0558  1,928,708\n",
       "13  1993         0.24  649277.5265  1,948,951\n",
       "14  1994         0.31  670336.6590  2,142,000\n",
       "15  1995         0.45  674230.6505  2,207,014\n",
       "16  1996         0.34  684565.0729  2,268,059\n",
       "17  1997         0.47  775991.1188  2,449,854\n",
       "18  1998         0.63  757021.7282  1,957,746\n",
       "19  1999         0.41  704681.4822  1,894,788\n",
       "20  2000         0.42  701695.7171  2,280,881\n",
       "21  2001         0.54  698248.2985  2,348,242\n",
       "22  2002         0.63  752766.8699  2,300,612\n",
       "23  2003         0.62  770909.8284  2,465,674\n",
       "24  2004         0.54  785554.4503  2,382,735\n",
       "25  2005         0.69  811057.9440  2,248,965\n",
       "26  2006         0.63  848359.3278  2,258,397\n",
       "27  2007         0.66  868633.9657  2,254,010\n",
       "28  2008         0.53  840952.1542  2,228,247\n",
       "29  2009         0.64  840760.3393  2,211,004"
      ]
     },
     "execution_count": 23,
     "metadata": {},
     "output_type": "execute_result"
    }
   ],
   "source": [
    "totalData"
   ]
  },
  {
   "cell_type": "code",
   "execution_count": 24,
   "metadata": {},
   "outputs": [
    {
     "data": {
      "text/plain": [
       "0     0.27\n",
       "1     0.33\n",
       "2     0.13\n",
       "3     0.30\n",
       "4     0.15\n",
       "5     0.12\n",
       "6     0.19\n",
       "7     0.33\n",
       "8     0.40\n",
       "9     0.28\n",
       "10    0.44\n",
       "11    0.42\n",
       "12    0.23\n",
       "13    0.24\n",
       "14    0.31\n",
       "15    0.45\n",
       "16    0.34\n",
       "17    0.47\n",
       "18    0.63\n",
       "19    0.41\n",
       "20    0.42\n",
       "21    0.54\n",
       "22    0.63\n",
       "23    0.62\n",
       "24    0.54\n",
       "25    0.69\n",
       "26    0.63\n",
       "27    0.66\n",
       "28    0.53\n",
       "29    0.64\n",
       "Name: temperature, dtype: float64"
      ]
     },
     "execution_count": 24,
     "metadata": {},
     "output_type": "execute_result"
    }
   ],
   "source": [
    "totalData['temperature']"
   ]
  },
  {
   "cell_type": "code",
   "execution_count": 25,
   "metadata": {},
   "outputs": [
    {
     "data": {
      "text/plain": [
       "[<matplotlib.lines.Line2D at 0x1a980a61548>]"
      ]
     },
     "execution_count": 25,
     "metadata": {},
     "output_type": "execute_result"
    },
    {
     "data": {
      "image/png": "[encoded data removed]",
      "text/plain": [
       "<Figure size 432x288 with 1 Axes>"
      ]
     },
     "metadata": {
      "needs_background": "light"
     },
     "output_type": "display_data"
    }
   ],
   "source": [
    "plt.plot(totalData['year'],totalData['gas'])"
   ]
  },
  {
   "cell_type": "code",
   "execution_count": 26,
   "metadata": {},
   "outputs": [
    {
     "data": {
      "text/plain": [
       "[<matplotlib.lines.Line2D at 0x1a980ac6a08>]"
      ]
     },
     "execution_count": 26,
     "metadata": {},
     "output_type": "execute_result"
    },
    {
     "data": {
      "image/png": "[encoded data removed]",
      "text/plain": [
       "<Figure size 432x288 with 1 Axes>"
      ]
     },
     "metadata": {
      "needs_background": "light"
     },
     "output_type": "display_data"
    }
   ],
   "source": [
    "plt.plot(totalData['year'],totalData['temperature'])"
   ]
  },
  {
   "cell_type": "code",
   "execution_count": 27,
   "metadata": {},
   "outputs": [
    {
     "data": {
      "text/plain": [
       "[<matplotlib.lines.Line2D at 0x1a9805913c8>]"
      ]
     },
     "execution_count": 27,
     "metadata": {},
     "output_type": "execute_result"
    },
    {
     "data": {
      "image/png": "[encoded data removed]",
      "text/plain": [
       "<Figure size 432x288 with 1 Axes>"
      ]
     },
     "metadata": {
      "needs_background": "light"
     },
     "output_type": "display_data"
    }
   ],
   "source": [
    "plt.plot(totalData['year'], totalData['milk'])"
   ]
  },
  {
   "cell_type": "code",
   "execution_count": 28,
   "metadata": {},
   "outputs": [
    {
     "ename": "NameError",
     "evalue": "name 'total' is not defined",
     "output_type": "error",
     "traceback": [
      "\u001b[1;31m---------------------------------------------------------------------------\u001b[0m",
      "\u001b[1;31mNameError\u001b[0m                                 Traceback (most recent call last)",
      "\u001b[1;32m<ipython-input-28-f5f7acea0338>\u001b[0m in \u001b[0;36m<module>\u001b[1;34m\u001b[0m\n\u001b[1;32m----> 1\u001b[1;33m \u001b[0mtotal\u001b[0m\u001b[1;33m\u001b[0m\u001b[1;33m\u001b[0m\u001b[0m\n\u001b[0m",
      "\u001b[1;31mNameError\u001b[0m: name 'total' is not defined"
     ]
    }
   ],
   "source": [
    "total"
   ]
  },
  {
   "cell_type": "code",
   "execution_count": 29,
   "metadata": {
    "scrolled": true
   },
   "outputs": [
    {
     "data": {
      "text/plain": [
       "[<matplotlib.lines.Line2D at 0x1a980591708>]"
      ]
     },
     "execution_count": 29,
     "metadata": {},
     "output_type": "execute_result"
    },
    {
     "data": {
      "image/png": "[encoded data removed]",
      "text/plain": [
       "<Figure size 432x288 with 1 Axes>"
      ]
     },
     "metadata": {
      "needs_background": "light"
     },
     "output_type": "display_data"
    }
   ],
   "source": [
    "plt.plot(totalData2['year'], totalData2['milk'])"
   ]
  },
  {
   "cell_type": "code",
   "execution_count": null,
   "metadata": {},
   "outputs": [],
   "source": []
  },
  {
   "cell_type": "code",
   "execution_count": null,
   "metadata": {},
   "outputs": [],
   "source": []
  },
  {
   "cell_type": "code",
   "execution_count": null,
   "metadata": {},
   "outputs": [],
   "source": []
  }
 ],
 "metadata": {
  "kernelspec": {
   "display_name": "Python 3",
   "language": "python",
   "name": "python3"
  },
  "language_info": {
   "codemirror_mode": {
    "name": "ipython",
    "version": 3
   },
   "file_extension": ".py",
   "mimetype": "text/x-python",
   "name": "python",
   "nbconvert_exporter": "python",
   "pygments_lexer": "ipython3",
   "version": "3.7.4"
  }
 },
 "nbformat": 4,
 "nbformat_minor": 2
}
