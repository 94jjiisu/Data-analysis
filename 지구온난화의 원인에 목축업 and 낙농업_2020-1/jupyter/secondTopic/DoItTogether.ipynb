{
 "cells": [
  {
   "cell_type": "code",
   "execution_count": 1,
   "metadata": {},
   "outputs": [],
   "source": [
    "import numpy as np \n",
    "import pandas as pd\n",
    "import matplotlib.pyplot as plt\n",
    "import csv"
   ]
  },
  {
   "cell_type": "code",
   "execution_count": 2,
   "metadata": {},
   "outputs": [],
   "source": [
    "# csv 파일을 불러와 봅시다! \n",
    "#불러올 파일은 총 4개 \n",
    "#파일 이름은 milk, greenhousegas, temp, total \n"
   ]
  },
  {
   "cell_type": "code",
   "execution_count": 3,
   "metadata": {},
   "outputs": [],
   "source": [
    "# 불러온 csv 파일을 확인해봅시다. "
   ]
  },
  {
   "cell_type": "code",
   "execution_count": 4,
   "metadata": {},
   "outputs": [],
   "source": [
    "# 이제 그래프를 그려봅시다! \n",
    "# plt.plot(x값, y값)\n",
    "#plt.title('제목을 붙여보자!')\n",
    "#plt.xlabel('x축이름을 붙여보자!')\n",
    "#plt.ylabel('y축이름을 붙여보자!')"
   ]
  },
  {
   "cell_type": "code",
   "execution_count": null,
   "metadata": {},
   "outputs": [],
   "source": [
    "# 이제 ols 회귀분석을 해봅시다! \n",
    "# model = smf.ols(formula = '종속변수 ~ 독립변수', data = 어떤데이터를넣을건가요?)\n",
    "# result = model.fit()\n",
    "# result.summary()"
   ]
  }
 ],
 "metadata": {
  "kernelspec": {
   "display_name": "Python 3",
   "language": "python",
   "name": "python3"
  },
  "language_info": {
   "codemirror_mode": {
    "name": "ipython",
    "version": 3
   },
   "file_extension": ".py",
   "mimetype": "text/x-python",
   "name": "python",
   "nbconvert_exporter": "python",
   "pygments_lexer": "ipython3",
   "version": "3.7.4"
  }
 },
 "nbformat": 4,
 "nbformat_minor": 2
}
