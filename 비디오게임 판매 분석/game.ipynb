{
  "nbformat": 4,
  "nbformat_minor": 0,
  "metadata": {
    "colab": {
      "name": "game.ipynb",
      "provenance": [],
      "collapsed_sections": [],
      "include_colab_link": true
    },
    "kernelspec": {
      "name": "python3",
      "display_name": "Python 3"
    },
    "language_info": {
      "name": "python"
    }
  },
  "cells": [
    {
      "cell_type": "markdown",
      "metadata": {
        "id": "view-in-github",
        "colab_type": "text"
      },
      "source": [
        "<a href=\"https://colab.research.google.com/github/94jjiisu/Data-analysis/blob/master/game.ipynb\" target=\"_parent\"><img src=\"https://colab.research.google.com/assets/colab-badge.svg\" alt=\"Open In Colab\"/></a>"
      ]
    },
    {
      "cell_type": "code",
      "metadata": {
        "colab": {
          "base_uri": "https://localhost:8080/"
        },
        "id": "z-NRLiEOKOd3",
        "outputId": "4d638178-8df9-4f9d-e730-113231eac33c"
      },
      "source": [
        "import numpy as np\n",
        "import pandas as pd\n",
        "import matplotlib.pyplot as plt\n",
        "import seaborn as sns\n",
        "from google.colab import drive\n",
        "drive.mount('/content/drive')\n",
        "\n",
        "import warnings\n",
        "warnings.filterwarnings(action='ignore')"
      ],
      "execution_count": null,
      "outputs": [
        {
          "output_type": "stream",
          "name": "stdout",
          "text": [
            "Mounted at /content/drive\n"
          ]
        }
      ]
    },
    {
      "cell_type": "markdown",
      "metadata": {
        "id": "uPMVyRa3KmtN"
      },
      "source": [
        "# 1. 분석을 진행하는데 문제가 없는 깨끗한 데이터인지 마지막으로 확인"
      ]
    },
    {
      "cell_type": "code",
      "metadata": {
        "colab": {
          "base_uri": "https://localhost:8080/"
        },
        "id": "4TbaTuh9KRGG",
        "outputId": "e9eca9bf-e8f4-4230-8c53-39e0270e09f1"
      },
      "source": [
        "filename = '/content/drive/MyDrive/DS_camp/game.csv'\n",
        "df = pd.read_csv(filename)\n",
        "df = df.drop(columns=['Unnamed: 0'], axis=1)\n",
        "df.info()"
      ],
      "execution_count": null,
      "outputs": [
        {
          "output_type": "stream",
          "name": "stdout",
          "text": [
            "<class 'pandas.core.frame.DataFrame'>\n",
            "RangeIndex: 16241 entries, 0 to 16240\n",
            "Data columns (total 9 columns):\n",
            " #   Column       Non-Null Count  Dtype  \n",
            "---  ------       --------------  -----  \n",
            " 0   Name         16241 non-null  object \n",
            " 1   Platform     16241 non-null  object \n",
            " 2   Year         16241 non-null  int64  \n",
            " 3   Genre        16241 non-null  object \n",
            " 4   Publisher    16241 non-null  object \n",
            " 5   NA_Sales     16241 non-null  float64\n",
            " 6   EU_Sales     16241 non-null  float64\n",
            " 7   JP_Sales     16241 non-null  float64\n",
            " 8   Other_Sales  16241 non-null  float64\n",
            "dtypes: float64(4), int64(1), object(4)\n",
            "memory usage: 1.1+ MB\n"
          ]
        }
      ]
    },
    {
      "cell_type": "code",
      "metadata": {
        "colab": {
          "base_uri": "https://localhost:8080/",
          "height": 204
        },
        "id": "xOK8IGHfKXt6",
        "outputId": "4c1689f7-de4f-402d-ac1e-8ebed33dd4c1"
      },
      "source": [
        "df.head()"
      ],
      "execution_count": null,
      "outputs": [
        {
          "output_type": "execute_result",
          "data": {
            "text/html": [
              "<div>\n",
              "<style scoped>\n",
              "    .dataframe tbody tr th:only-of-type {\n",
              "        vertical-align: middle;\n",
              "    }\n",
              "\n",
              "    .dataframe tbody tr th {\n",
              "        vertical-align: top;\n",
              "    }\n",
              "\n",
              "    .dataframe thead th {\n",
              "        text-align: right;\n",
              "    }\n",
              "</style>\n",
              "<table border=\"1\" class=\"dataframe\">\n",
              "  <thead>\n",
              "    <tr style=\"text-align: right;\">\n",
              "      <th></th>\n",
              "      <th>Name</th>\n",
              "      <th>Platform</th>\n",
              "      <th>Year</th>\n",
              "      <th>Genre</th>\n",
              "      <th>Publisher</th>\n",
              "      <th>NA_Sales</th>\n",
              "      <th>EU_Sales</th>\n",
              "      <th>JP_Sales</th>\n",
              "      <th>Other_Sales</th>\n",
              "    </tr>\n",
              "  </thead>\n",
              "  <tbody>\n",
              "    <tr>\n",
              "      <th>0</th>\n",
              "      <td>Candace Kane's Candy Factory</td>\n",
              "      <td>DS</td>\n",
              "      <td>2008</td>\n",
              "      <td>Action</td>\n",
              "      <td>Destineer</td>\n",
              "      <td>0.04</td>\n",
              "      <td>0.00</td>\n",
              "      <td>0.00</td>\n",
              "      <td>0.00</td>\n",
              "    </tr>\n",
              "    <tr>\n",
              "      <th>1</th>\n",
              "      <td>The Munchables</td>\n",
              "      <td>Wii</td>\n",
              "      <td>2009</td>\n",
              "      <td>Action</td>\n",
              "      <td>Namco Bandai Games</td>\n",
              "      <td>0.17</td>\n",
              "      <td>0.00</td>\n",
              "      <td>0.00</td>\n",
              "      <td>0.01</td>\n",
              "    </tr>\n",
              "    <tr>\n",
              "      <th>2</th>\n",
              "      <td>Otome wa Oanesama Boku ni Koi Shiteru Portable</td>\n",
              "      <td>PSP</td>\n",
              "      <td>2010</td>\n",
              "      <td>Adventure</td>\n",
              "      <td>Alchemist</td>\n",
              "      <td>0.00</td>\n",
              "      <td>0.00</td>\n",
              "      <td>0.02</td>\n",
              "      <td>0.00</td>\n",
              "    </tr>\n",
              "    <tr>\n",
              "      <th>3</th>\n",
              "      <td>Deal or No Deal: Special Edition</td>\n",
              "      <td>DS</td>\n",
              "      <td>2010</td>\n",
              "      <td>Misc</td>\n",
              "      <td>Zoo Games</td>\n",
              "      <td>0.04</td>\n",
              "      <td>0.00</td>\n",
              "      <td>0.00</td>\n",
              "      <td>0.00</td>\n",
              "    </tr>\n",
              "    <tr>\n",
              "      <th>4</th>\n",
              "      <td>Ben 10 Ultimate Alien: Cosmic Destruction</td>\n",
              "      <td>PS3</td>\n",
              "      <td>2010</td>\n",
              "      <td>Platform</td>\n",
              "      <td>D3Publisher</td>\n",
              "      <td>0.12</td>\n",
              "      <td>0.09</td>\n",
              "      <td>0.00</td>\n",
              "      <td>0.04</td>\n",
              "    </tr>\n",
              "  </tbody>\n",
              "</table>\n",
              "</div>"
            ],
            "text/plain": [
              "                                             Name  ... Other_Sales\n",
              "0                    Candace Kane's Candy Factory  ...        0.00\n",
              "1                                  The Munchables  ...        0.01\n",
              "2  Otome wa Oanesama Boku ni Koi Shiteru Portable  ...        0.00\n",
              "3                Deal or No Deal: Special Edition  ...        0.00\n",
              "4       Ben 10 Ultimate Alien: Cosmic Destruction  ...        0.04\n",
              "\n",
              "[5 rows x 9 columns]"
            ]
          },
          "metadata": {},
          "execution_count": 3
        }
      ]
    },
    {
      "cell_type": "markdown",
      "metadata": {
        "id": "JRysMHu2KuXJ"
      },
      "source": [
        "##1-1. 전체적인 판매 규모를 파악하기 위해 4개의 Sales Feature를 더한 Total_Sales Feature를 생성."
      ]
    },
    {
      "cell_type": "code",
      "metadata": {
        "id": "Y0q9uF4zHeKv"
      },
      "source": [
        "df['Total_Sales'] = df['NA_Sales'] + df['EU_Sales'] + df['JP_Sales'] + df['Other_Sales']"
      ],
      "execution_count": null,
      "outputs": []
    },
    {
      "cell_type": "code",
      "metadata": {
        "id": "KzizzetNNaIp"
      },
      "source": [
        "#df.describe()"
      ],
      "execution_count": null,
      "outputs": []
    },
    {
      "cell_type": "markdown",
      "metadata": {
        "id": "sSwXpv9MLPUL"
      },
      "source": [
        "## 전체 게임의 평균 판매량은 약 54만장이며, 개별 게임의 시장별 판매량 평균은 북미, 유럽, 일본, 그 외 지역 순이다."
      ]
    },
    {
      "cell_type": "markdown",
      "metadata": {
        "id": "rx7oD3UgLsmK"
      },
      "source": [
        "##1-2. 데이터 내 전체 플랫폼의 종류는 총 31가지이다."
      ]
    },
    {
      "cell_type": "code",
      "metadata": {
        "id": "nHRWwji1Nqii"
      },
      "source": [
        "platform = df['Platform'].unique()\n",
        "#print(len(platform))\n",
        "#print(platform)"
      ],
      "execution_count": null,
      "outputs": []
    },
    {
      "cell_type": "markdown",
      "metadata": {
        "id": "H27aTb5sMC31"
      },
      "source": [
        "##1-3. 데이터가 포함하는 연도는 1980년부터 2020년까지이며, 2018, 2019년도는 누락되어있다.\n",
        "\n",
        "결측값 처리 과정에서 삭제되었거나, 원본 데이터가 없을 가능성이 있다."
      ]
    },
    {
      "cell_type": "code",
      "metadata": {
        "id": "1oBAKr8COOtT"
      },
      "source": [
        "year = df['Year'].unique()\n",
        "#print(len(year))\n",
        "#print(np.sort(year))"
      ],
      "execution_count": null,
      "outputs": []
    },
    {
      "cell_type": "markdown",
      "metadata": {
        "id": "hTQ63NuSMYia"
      },
      "source": [
        "##1-4. 게임의 장르는 총 12가지이다."
      ]
    },
    {
      "cell_type": "code",
      "metadata": {
        "id": "j2dt6yh0Oufc"
      },
      "source": [
        "genre = df['Genre'].unique()\n",
        "#print(len(genre))\n",
        "#print(genre)"
      ],
      "execution_count": null,
      "outputs": []
    },
    {
      "cell_type": "markdown",
      "metadata": {
        "id": "9wmOVfimMiAI"
      },
      "source": [
        "##1-5. 게임의 배급사는 총 575개이다. "
      ]
    },
    {
      "cell_type": "code",
      "metadata": {
        "id": "P32yJ-BuPKiK"
      },
      "source": [
        "platform = df['Publisher'].unique()\n",
        "#print(len(platform))"
      ],
      "execution_count": null,
      "outputs": []
    },
    {
      "cell_type": "markdown",
      "metadata": {
        "id": "zMzRaYWeMxr5"
      },
      "source": [
        "##1-5-1. 가장 많은 게임을 유통한 배급사는 EA, 액티비전, 반다이 남코, 유비소프트 순이다."
      ]
    },
    {
      "cell_type": "code",
      "metadata": {
        "id": "alfDhHd4PShO"
      },
      "source": [
        "top20_publ = df['Publisher'].value_counts()\n",
        "#top20_publ[:40]"
      ],
      "execution_count": null,
      "outputs": []
    },
    {
      "cell_type": "markdown",
      "metadata": {
        "id": "LYBoa9xbNTgM"
      },
      "source": [
        "##1-6. 게임 장르별 총 판매량은 액션, 스포츠, 슈팅, 롤 플레잉 순이다."
      ]
    },
    {
      "cell_type": "code",
      "metadata": {
        "id": "caX-vj0vPrqA"
      },
      "source": [
        "genre_NA = df.groupby(by=['Genre'])['NA_Sales'].sum()\n",
        "genre_EU = df.groupby(by=['Genre'])['EU_Sales'].sum() \n",
        "genre_JP = df.groupby(by=['Genre'])['JP_Sales'].sum()\n",
        "genre_OTHER = df.groupby(by=['Genre'])['Other_Sales'].sum() \n",
        "genre_TOTAL = df.groupby(by=['Genre'])['Total_Sales'].sum() "
      ],
      "execution_count": null,
      "outputs": []
    },
    {
      "cell_type": "code",
      "metadata": {
        "id": "czouFKT5f7hz"
      },
      "source": [
        "genre_NA = genre_NA.reset_index()\n",
        "genre_EU = genre_EU.reset_index()\n",
        "genre_JP = genre_JP.reset_index()\n",
        "genre_OTHER = genre_OTHER.reset_index()\n",
        "genre_TOTAL = genre_TOTAL.reset_index()"
      ],
      "execution_count": null,
      "outputs": []
    },
    {
      "cell_type": "code",
      "metadata": {
        "colab": {
          "base_uri": "https://localhost:8080/",
          "height": 497
        },
        "id": "Xqliaa9Lf1Kh",
        "outputId": "b41695b3-be4c-49bf-a389-102a077cf7f4"
      },
      "source": [
        "genre_TOTAL = genre_TOTAL.sort_values(by='Total_Sales', axis=0, ascending=False)\n",
        "genre_TOTAL.reset_index(drop=True)\n",
        "plt.figure(figsize=(12,8))\n",
        "sns.barplot(data = genre_TOTAL, x = 'Genre', y = 'Total_Sales');"
      ],
      "execution_count": null,
      "outputs": [
        {
          "output_type": "display_data",
          "data": {
            "image/png": "[encoded data removed]",
            "text/plain": [
              "<Figure size 864x576 with 1 Axes>"
            ]
          },
          "metadata": {
            "needs_background": "light"
          }
        }
      ]
    },
    {
      "cell_type": "code",
      "metadata": {
        "id": "8e2N-dJvgOFe"
      },
      "source": [
        "df_genre = genre_NA.merge(genre_EU, how = 'inner', on = 'Genre')\n",
        "df_genre = df_genre.merge(genre_JP, how = 'inner', on = 'Genre')\n",
        "df_genre = df_genre.merge(genre_OTHER, how = 'inner', on = 'Genre')\n",
        "df_genre = df_genre.merge(genre_TOTAL, how = 'inner', on = 'Genre')"
      ],
      "execution_count": null,
      "outputs": []
    },
    {
      "cell_type": "markdown",
      "metadata": {
        "id": "rMUBwFA_PHu9"
      },
      "source": [
        "#2. 지역과 장르에 따른 판매량 표는 다음과 같다."
      ]
    },
    {
      "cell_type": "code",
      "metadata": {
        "id": "uXOmDWCgpR68"
      },
      "source": [
        "#df_genre = df_genre.set_index(\"Genre\")\n",
        "#df_genre"
      ],
      "execution_count": null,
      "outputs": []
    },
    {
      "cell_type": "code",
      "metadata": {
        "id": "Qb9GEvN_qZyE"
      },
      "source": [
        "import matplotlib.pyplot as plt\n",
        "import seaborn as sns"
      ],
      "execution_count": null,
      "outputs": []
    },
    {
      "cell_type": "code",
      "metadata": {
        "colab": {
          "base_uri": "https://localhost:8080/",
          "height": 735
        },
        "id": "Js5hwi61r6Fd",
        "outputId": "03898aad-9d04-4abe-9de8-1365765bc9b1"
      },
      "source": [
        "fig, axes = plt.subplots(5, 1, figsize= (16,12))\n",
        "sns.barplot(data = df_genre, x = 'Genre', y = 'Total_Sales', ax = axes[0])\n",
        "sns.barplot(data = df_genre, x = 'Genre', y = 'NA_Sales', ax = axes[1])\n",
        "sns.barplot(data = df_genre, x = 'Genre', y = 'EU_Sales', ax = axes[2])\n",
        "sns.barplot(data = df_genre, x = 'Genre', y = 'JP_Sales', ax = axes[3])\n",
        "sns.barplot(data = df_genre, x = 'Genre', y = 'Other_Sales', ax = axes[4])\n",
        "axes[0].set_title('Preferred Genre by Market', fontsize=20);"
      ],
      "execution_count": null,
      "outputs": [
        {
          "output_type": "display_data",
          "data": {
            "image/png": "[encoded data removed]",
            "text/plain": [
              "<Figure size 1152x864 with 5 Axes>"
            ]
          },
          "metadata": {
            "needs_background": "light"
          }
        }
      ]
    },
    {
      "cell_type": "markdown",
      "metadata": {
        "id": "Ly_k3zCnPb2W"
      },
      "source": [
        "##2-1. 막대그래프로 확인해본 결과 전체적으로는 액션과 스포츠 게임의 선호가 뚜렸했다. \n",
        "\n",
        "##북미, 유럽, 그 외 지역은 액션 장르가 제일 판매량이 높은 반면에 일본에서는 롤 플레잉 장르의 판매량이 가장 높다."
      ]
    },
    {
      "cell_type": "markdown",
      "metadata": {
        "id": "SqqQpuCIP-we"
      },
      "source": [
        "##2-2. 지역에 따라 선호하는 장르가 다름을 통계적으로 확인하기 위해 카이제곱 검정을 실시한다.\n",
        "\n",
        "카이제곱 검정이란, 주어진 데이터가 특정 예상되는 분포와 동일한 분포를 나타내는지 에 대한 가설검정 방법으로 해당 문제에 대한 가설은 다음과 같다.\n",
        "\n",
        "##H0 : 지역에 따라 장르별 판매량 분포가 유사하다.\n",
        "##H1 : 지역에 따라 장르별 판매량 분포가 유사하지 않다.\n",
        "\n",
        "신뢰구간 95%를 기준으로 p-value 의 값이 0.05보다 높으면 분포가 유사하다고 할 수 있다."
      ]
    },
    {
      "cell_type": "code",
      "metadata": {
        "id": "X1VKN9wP9WBF"
      },
      "source": [
        "import scipy.stats as stats\n",
        "from scipy.stats import chisquare\n",
        "from scipy.stats import chi2_contingency"
      ],
      "execution_count": null,
      "outputs": []
    },
    {
      "cell_type": "code",
      "metadata": {
        "id": "jNTbkqV3ATMy"
      },
      "source": [
        "na_sales = df['NA_Sales'].sum()\n",
        "eu_sales = df['EU_Sales'].sum()\n",
        "jp_sales = df['JP_Sales'].sum()\n",
        "ot_sales = df['Other_Sales'].sum()"
      ],
      "execution_count": null,
      "outputs": []
    },
    {
      "cell_type": "code",
      "metadata": {
        "id": "5lfA2-dsAsqC"
      },
      "source": [
        "df_genre['NA_pct'] = df_genre['NA_Sales'] / na_sales * 100\n",
        "df_genre['EU_pct'] = df_genre['EU_Sales'] / eu_sales * 100\n",
        "df_genre['JP_pct'] = df_genre['JP_Sales'] / jp_sales * 100\n",
        "df_genre['Other_pct'] = df_genre['Other_Sales'] / ot_sales * 100"
      ],
      "execution_count": null,
      "outputs": []
    },
    {
      "cell_type": "markdown",
      "metadata": {
        "id": "gaPcd5y-RK4j"
      },
      "source": [
        "## 장르의 선호도는 특정 지역에서 해당 장르가 차지하는 판매량의 비율로 측정하여 검정을 실시하였다."
      ]
    },
    {
      "cell_type": "code",
      "metadata": {
        "id": "sGBEVUPDCNKK"
      },
      "source": [
        "#df_genre"
      ],
      "execution_count": null,
      "outputs": []
    },
    {
      "cell_type": "code",
      "metadata": {
        "id": "vcGAeH-tCT8y"
      },
      "source": [
        "df_genre_chi = df_genre[['Genre', 'NA_pct', 'EU_pct', 'JP_pct', 'Other_pct']]\n",
        "#df_genre_chi"
      ],
      "execution_count": null,
      "outputs": []
    },
    {
      "cell_type": "code",
      "metadata": {
        "id": "uDRZe_UGCy6A"
      },
      "source": [
        "df_genre_chi = df_genre_chi.set_index('Genre', drop=True)\n",
        "df_genre_chi = df_genre_chi.transpose()"
      ],
      "execution_count": null,
      "outputs": []
    },
    {
      "cell_type": "code",
      "metadata": {
        "id": "h2kwdaYDEfI3"
      },
      "source": [
        "#df_genre_chi"
      ],
      "execution_count": null,
      "outputs": []
    },
    {
      "cell_type": "markdown",
      "metadata": {
        "id": "Ad02hLrjSTWH"
      },
      "source": [
        "##2-3. 4개의 모든 지역에 대해 검정을 실시한 결과\n",
        "##p-value의 값이 0.087로 0.05보다 크므로 지역간 장르별 판매량의 분포는 유사하다고 할 수 있다."
      ]
    },
    {
      "cell_type": "code",
      "metadata": {
        "colab": {
          "base_uri": "https://localhost:8080/"
        },
        "id": "S1hEx-O9IS76",
        "outputId": "d6271d13-766b-41ea-f501-dcf8cb27782b"
      },
      "source": [
        "chi2_contingency(df_genre_chi)[1]"
      ],
      "execution_count": null,
      "outputs": [
        {
          "output_type": "execute_result",
          "data": {
            "text/plain": [
              "0.0872309851373666"
            ]
          },
          "metadata": {},
          "execution_count": 26
        }
      ]
    },
    {
      "cell_type": "markdown",
      "metadata": {
        "id": "6hsp1IKKRy54"
      },
      "source": [
        "##4개의 지역에서 시각적으로 선호가 다름을 확인한 일본을 빼고 검정을 실시했을 때,\n",
        "##p-value의 값이 0.05보다 크므로 일본을 제외한 세 지역은 선호 장르의 분포가 유사하다고 볼 수 있다."
      ]
    },
    {
      "cell_type": "code",
      "metadata": {
        "colab": {
          "base_uri": "https://localhost:8080/"
        },
        "id": "8UW41vMLJAMn",
        "outputId": "45334f69-85b1-4999-a585-78209d2716fa"
      },
      "source": [
        "df_genre_chi2 = df_genre_chi.drop(['JP_pct'])\n",
        "chi2_contingency(df_genre_chi2)[1]"
      ],
      "execution_count": null,
      "outputs": [
        {
          "output_type": "execute_result",
          "data": {
            "text/plain": [
              "0.9999999860146723"
            ]
          },
          "metadata": {},
          "execution_count": 27
        }
      ]
    },
    {
      "cell_type": "markdown",
      "metadata": {
        "id": "xlBTBq0USNIK"
      },
      "source": [
        "##하지만 일본과 다른 하나의 지역을 묶어 검정을 진행하면 \n",
        "##모두 선호 장르의 분포가 통계적으로 다름을 확인할 수 있다."
      ]
    },
    {
      "cell_type": "code",
      "metadata": {
        "colab": {
          "base_uri": "https://localhost:8080/"
        },
        "id": "FpdL9mO0JjvK",
        "outputId": "684fca08-4a7f-48ec-c024-104f67d8590e"
      },
      "source": [
        "df_genre_chi3 = df_genre_chi.drop(['EU_pct', 'Other_pct'])\n",
        "chi2_contingency(df_genre_chi3)[1]"
      ],
      "execution_count": null,
      "outputs": [
        {
          "output_type": "execute_result",
          "data": {
            "text/plain": [
              "0.014110253574323587"
            ]
          },
          "metadata": {},
          "execution_count": 28
        }
      ]
    },
    {
      "cell_type": "code",
      "metadata": {
        "colab": {
          "base_uri": "https://localhost:8080/"
        },
        "id": "RQ8x6epCJzFR",
        "outputId": "5f8e35ba-dcf5-4a50-89de-a536c0f851f1"
      },
      "source": [
        "df_genre_chi4 = df_genre_chi.drop(['NA_pct', 'Other_pct'])\n",
        "chi2_contingency(df_genre_chi4)[1]"
      ],
      "execution_count": null,
      "outputs": [
        {
          "output_type": "execute_result",
          "data": {
            "text/plain": [
              "0.008804164914480855"
            ]
          },
          "metadata": {},
          "execution_count": 29
        }
      ]
    },
    {
      "cell_type": "code",
      "metadata": {
        "colab": {
          "base_uri": "https://localhost:8080/"
        },
        "id": "eB3z3zOWJ_rR",
        "outputId": "b65ec04b-806e-4233-81bd-a3b588661e37"
      },
      "source": [
        "df_genre_chi5 = df_genre_chi.drop(['NA_pct', 'EU_pct'])\n",
        "chi2_contingency(df_genre_chi5)[1]"
      ],
      "execution_count": null,
      "outputs": [
        {
          "output_type": "execute_result",
          "data": {
            "text/plain": [
              "0.002231298848699732"
            ]
          },
          "metadata": {},
          "execution_count": 30
        }
      ]
    },
    {
      "cell_type": "markdown",
      "metadata": {
        "id": "OJ6O_dtFS-Mw"
      },
      "source": [
        "##2-4. 결론: 일본을 제외한 북미, 유럽, 그 외 지역은 선호 장르가 통계적으로 유사하나, 일본은 유사하지 않다. "
      ]
    },
    {
      "cell_type": "markdown",
      "metadata": {
        "id": "WWHAZ_jLXBhg"
      },
      "source": [
        "------------------"
      ]
    },
    {
      "cell_type": "markdown",
      "metadata": {
        "id": "eP82cdVPTMgW"
      },
      "source": [
        "#3. 연도별 게임의 트렌드가 있을까 를 확인하기 위해 각 연도에서 판매량이 가장 높은 게임의 장르를 추출한다."
      ]
    },
    {
      "cell_type": "code",
      "metadata": {
        "id": "AONQ9peuupT1"
      },
      "source": [
        "yearly = df.groupby(by=['Year', 'Genre', 'Platform'])['Total_Sales'].sum().reset_index()\n",
        "#yearly"
      ],
      "execution_count": null,
      "outputs": []
    },
    {
      "cell_type": "code",
      "metadata": {
        "id": "U-5BBD8218EI"
      },
      "source": [
        "top = yearly.groupby(by=['Year'])['Total_Sales'].transform(max) == yearly['Total_Sales']\n",
        "yearly_trend = yearly[top].reset_index(drop=True)\n",
        "#yearly_trend"
      ],
      "execution_count": null,
      "outputs": []
    },
    {
      "cell_type": "code",
      "metadata": {
        "colab": {
          "base_uri": "https://localhost:8080/",
          "height": 714
        },
        "id": "NniX8EjCARuX",
        "outputId": "eb1e33ec-94ac-4f0b-c9ca-d896a8879d97"
      },
      "source": [
        "plt.figure(figsize=(24, 12))\n",
        "\n",
        "g = sns.barplot(data = yearly_trend, x = 'Year', y = 'Total_Sales')\n",
        "\n",
        "genre = yearly_trend['Genre']\n",
        "platform = yearly_trend['Platform']\n",
        "index = 0\n",
        "for v in yearly_trend['Total_Sales']:\n",
        "  g.text(index, v + 1, str(genre[index]+'_' + platform[index] + '_' +str(round(v, 1))), color='black', size=10, ha=\"center\")\n",
        "  index += 1\n",
        "\n",
        "plt.show()\n"
      ],
      "execution_count": null,
      "outputs": [
        {
          "output_type": "display_data",
          "data": {
            "image/png": "[encoded data removed]",
            "text/plain": [
              "<Figure size 1728x864 with 1 Axes>"
            ]
          },
          "metadata": {
            "needs_background": "light"
          }
        }
      ]
    },
    {
      "cell_type": "markdown",
      "metadata": {
        "id": "cycZkQeXUObD"
      },
      "source": [
        "##3-1. 2000년 이전에는 비교적 유행하는 게임의 장르가 다양했고, 이용 플랫폼은 대부분 닌텐도임을 확인할 수 있다.\n",
        "\n",
        "##90년대 말부터 소니의 플레이스테이션이 출시되고부터 2006년 닌텐도의 Wii 게임이 출시되기 전까지 소니의 플레이스테이션 시리즈가 가장 많이 사용되는 플랫폼이 되었다.\n",
        "\n",
        "##2006년과 2009년에 닌텐도의 Wii Sports 시리즈가 출시됨에따라 기존 판매량의 두배에 가까운 성과를 낸 것으로 보아 닌텐도 Wii는 전 세계적인 트렌드가 되었을 것이다.\n",
        "\n",
        "##2000년대에 들어와서는 2006, 2009년을 제외하고는 슈팅과 액션 장르의 유행이 이전보다 강해졌으며 데이터가 부족한 최근의 자료를 제외하면 꾸준히 인기있는 장르임을 확인할 수 있다."
      ]
    },
    {
      "cell_type": "markdown",
      "metadata": {
        "id": "skoMY2l8W_Iu"
      },
      "source": [
        "-----------------"
      ]
    },
    {
      "cell_type": "markdown",
      "metadata": {
        "id": "CMrZq1dhWh9U"
      },
      "source": [
        "##3-2. 다음은 게임의 총 판매량을 시각화한 그래프인데 장르의 유행과 총 게임 판매량 규모는 비슷한 양상을 보임을 확인할 수 있다."
      ]
    },
    {
      "cell_type": "code",
      "metadata": {
        "id": "IrDpqHaJDJwL"
      },
      "source": [
        "yearly_sales = df.groupby(by=['Year'])['Total_Sales'].sum().reset_index()\n",
        "#plt.figure(figsize=(20, 10))\n",
        "#sns.barplot(data = yearly_sales, x = 'Year', y = 'Total_Sales');"
      ],
      "execution_count": null,
      "outputs": []
    },
    {
      "cell_type": "markdown",
      "metadata": {
        "id": "jsYolf5GXKC2"
      },
      "source": [
        "-------------------"
      ]
    },
    {
      "cell_type": "markdown",
      "metadata": {
        "id": "5RvfG6VlXLe-"
      },
      "source": [
        "#4. 출고량이 높은 게임에 대한 분석과 시각화"
      ]
    },
    {
      "cell_type": "markdown",
      "metadata": {
        "id": "gQKz9zh1XR1k"
      },
      "source": [
        "##4-1. 전체 데이터에 대해 총 판매량 순으로 순위를 매기면 다음과 같다.\n",
        "\n",
        "##전체 장르별 총 판매량은 액션 장르가 제일 높은 반면에, 개별 게임의 판매량 순위는 1위부터 15위까지 액션 장르가 없는 닌텐도가 전부 차지했다.\n",
        "\n",
        "## 2006년 닌텐도의 Wii Sports는 판매량이 2위보다 2배 이상 차이난다."
      ]
    },
    {
      "cell_type": "code",
      "metadata": {
        "id": "X2fNEyV-EX2Z"
      },
      "source": [
        "top_g = df.sort_values(by=['Total_Sales'], ascending=False)\n",
        "top_20 = top_g[:20]\n",
        "top_20 = top_20[['Name'\t,'Platform',\t'Year',\t'Genre',\t'Publisher','Total_Sales']]\n",
        "top_20 = top_20.reset_index(drop=True)\n",
        "#top_20"
      ],
      "execution_count": null,
      "outputs": []
    },
    {
      "cell_type": "code",
      "metadata": {
        "colab": {
          "base_uri": "https://localhost:8080/",
          "height": 80
        },
        "id": "_zBvqYNVKISz",
        "outputId": "cd41dfbc-8cd3-4588-8982-f4b80df1347a"
      },
      "source": [
        "df[df['Name'] == 'Wii Sports']"
      ],
      "execution_count": null,
      "outputs": [
        {
          "output_type": "execute_result",
          "data": {
            "text/html": [
              "<div>\n",
              "<style scoped>\n",
              "    .dataframe tbody tr th:only-of-type {\n",
              "        vertical-align: middle;\n",
              "    }\n",
              "\n",
              "    .dataframe tbody tr th {\n",
              "        vertical-align: top;\n",
              "    }\n",
              "\n",
              "    .dataframe thead th {\n",
              "        text-align: right;\n",
              "    }\n",
              "</style>\n",
              "<table border=\"1\" class=\"dataframe\">\n",
              "  <thead>\n",
              "    <tr style=\"text-align: right;\">\n",
              "      <th></th>\n",
              "      <th>Name</th>\n",
              "      <th>Platform</th>\n",
              "      <th>Year</th>\n",
              "      <th>Genre</th>\n",
              "      <th>Publisher</th>\n",
              "      <th>NA_Sales</th>\n",
              "      <th>EU_Sales</th>\n",
              "      <th>JP_Sales</th>\n",
              "      <th>Other_Sales</th>\n",
              "      <th>Total_Sales</th>\n",
              "    </tr>\n",
              "  </thead>\n",
              "  <tbody>\n",
              "    <tr>\n",
              "      <th>2855</th>\n",
              "      <td>Wii Sports</td>\n",
              "      <td>Wii</td>\n",
              "      <td>2006</td>\n",
              "      <td>Sports</td>\n",
              "      <td>Nintendo</td>\n",
              "      <td>41.49</td>\n",
              "      <td>29.02</td>\n",
              "      <td>3.77</td>\n",
              "      <td>8.46</td>\n",
              "      <td>82.74</td>\n",
              "    </tr>\n",
              "  </tbody>\n",
              "</table>\n",
              "</div>"
            ],
            "text/plain": [
              "            Name Platform  Year  ... JP_Sales Other_Sales  Total_Sales\n",
              "2855  Wii Sports      Wii  2006  ...     3.77        8.46        82.74\n",
              "\n",
              "[1 rows x 10 columns]"
            ]
          },
          "metadata": {},
          "execution_count": 38
        }
      ]
    },
    {
      "cell_type": "code",
      "metadata": {
        "colab": {
          "base_uri": "https://localhost:8080/",
          "height": 80
        },
        "id": "GCWPyvOqM2pw",
        "outputId": "4f101afd-7634-4cfd-f6bf-00865bd64b12"
      },
      "source": [
        "Wii_S = df[df['Name'] == 'Wii Sports'].drop(['Name',\t'Platform',\t'Year',\t'Genre',\t'Publisher'], axis = 1)\n",
        "Wii_S"
      ],
      "execution_count": null,
      "outputs": [
        {
          "output_type": "execute_result",
          "data": {
            "text/html": [
              "<div>\n",
              "<style scoped>\n",
              "    .dataframe tbody tr th:only-of-type {\n",
              "        vertical-align: middle;\n",
              "    }\n",
              "\n",
              "    .dataframe tbody tr th {\n",
              "        vertical-align: top;\n",
              "    }\n",
              "\n",
              "    .dataframe thead th {\n",
              "        text-align: right;\n",
              "    }\n",
              "</style>\n",
              "<table border=\"1\" class=\"dataframe\">\n",
              "  <thead>\n",
              "    <tr style=\"text-align: right;\">\n",
              "      <th></th>\n",
              "      <th>NA_Sales</th>\n",
              "      <th>EU_Sales</th>\n",
              "      <th>JP_Sales</th>\n",
              "      <th>Other_Sales</th>\n",
              "      <th>Total_Sales</th>\n",
              "    </tr>\n",
              "  </thead>\n",
              "  <tbody>\n",
              "    <tr>\n",
              "      <th>2855</th>\n",
              "      <td>41.49</td>\n",
              "      <td>29.02</td>\n",
              "      <td>3.77</td>\n",
              "      <td>8.46</td>\n",
              "      <td>82.74</td>\n",
              "    </tr>\n",
              "  </tbody>\n",
              "</table>\n",
              "</div>"
            ],
            "text/plain": [
              "      NA_Sales  EU_Sales  JP_Sales  Other_Sales  Total_Sales\n",
              "2855     41.49     29.02      3.77         8.46        82.74"
            ]
          },
          "metadata": {},
          "execution_count": 39
        }
      ]
    },
    {
      "cell_type": "markdown",
      "metadata": {
        "id": "C1CyrxUZYLsy"
      },
      "source": [
        "##4-2. 전 세계적으로 8200만장 이상이 팔렸고, 그 중 약 절반은 북미 지역에서 판매되었다."
      ]
    },
    {
      "cell_type": "code",
      "metadata": {
        "colab": {
          "base_uri": "https://localhost:8080/",
          "height": 528
        },
        "id": "uLpgcq3MN2fL",
        "outputId": "0052f10e-1444-4068-a45a-86014c97d584"
      },
      "source": [
        "plt.figure(figsize=(12, 8))\n",
        "plt.title('wii sports sales volume by Market', fontsize=20)\n",
        "plt.xlabel('Market', fontsize=20)\n",
        "plt.ylabel(\"Sales\", fontsize=20)\n",
        "\n",
        "sns.barplot(data=Wii_S);"
      ],
      "execution_count": null,
      "outputs": [
        {
          "output_type": "display_data",
          "data": {
            "image/png": "[encoded data removed]",
            "text/plain": [
              "<Figure size 864x576 with 1 Axes>"
            ]
          },
          "metadata": {
            "needs_background": "light"
          }
        }
      ]
    },
    {
      "cell_type": "code",
      "metadata": {
        "id": "IMYDbjkAOJFc"
      },
      "source": [
        "year_2006 = df[df['Year'] == 2006]\n",
        "total_2006 = year_2006['Total_Sales'].sum()\n",
        "na_2006 = year_2006['NA_Sales'].sum()\n",
        "eu_2006 = year_2006['EU_Sales'].sum()\n",
        "jp_2006 = year_2006['JP_Sales'].sum()\n",
        "ot_2006 = year_2006['Other_Sales'].sum()\n",
        "\n",
        "ws_total = Wii_S['Total_Sales']\n",
        "ws_na = Wii_S['NA_Sales']\n",
        "ws_eu = Wii_S['EU_Sales']\n",
        "ws_jp = Wii_S['JP_Sales']\n",
        "ws_ot = Wii_S['Other_Sales']\n",
        "\n",
        "r = round((ws_total / total_2006)*100, 2)\n",
        "r2 = round((ws_na / na_2006)*100, 2)\n",
        "r3 = round((ws_eu / eu_2006)*100, 2)\n",
        "r4 = round((ws_jp / jp_2006)*100, 2)\n",
        "r5 = round((ws_ot / ot_2006)*100, 2)\n",
        "ratio = [r, 100-r]\n",
        "ratio2 = [r2, 100-r2]\n",
        "ratio3 = [r3, 100-r3]\n",
        "ratio4 = [r4, 100-r4]\n",
        "ratio5 = [r5, 100-r5]\n",
        "labels = ['Wii_Sports', 'Others']"
      ],
      "execution_count": null,
      "outputs": []
    },
    {
      "cell_type": "code",
      "metadata": {
        "colab": {
          "base_uri": "https://localhost:8080/",
          "height": 312
        },
        "id": "eb4fKCjROZzY",
        "outputId": "15caf808-530e-43de-a259-970abb390c1d"
      },
      "source": [
        "fig = plt.figure(figsize=(40, 20))\n",
        "ax1 = fig.add_subplot(1,5,1)\n",
        "ax2 = fig.add_subplot(1,5,2)\n",
        "ax3 = fig.add_subplot(1,5,3)\n",
        "ax4 = fig.add_subplot(1,5,4)\n",
        "ax5 = fig.add_subplot(1,5,5)\n",
        "ax1.pie(ratio, labels=labels,autopct='%.1f%%')\n",
        "ax1.set_title('Total', fontsize=20)\n",
        "ax2.pie(ratio2, labels=labels,autopct='%.1f%%')\n",
        "ax2.set_title('NA', fontsize=20)\n",
        "ax3.pie(ratio3, labels=labels,autopct='%.1f%%')\n",
        "ax3.set_title('EU', fontsize=20)\n",
        "ax4.pie(ratio4, labels=labels,autopct='%.1f%%')\n",
        "ax4.set_title('JP', fontsize=20)\n",
        "ax5.pie(ratio5, labels=labels,autopct='%.1f%%')\n",
        "ax5.set_title('Other', fontsize=20)\n",
        "plt.show()"
      ],
      "execution_count": null,
      "outputs": [
        {
          "output_type": "display_data",
          "data": {
            "image/png": "[encoded data removed]",
            "text/plain": [
              "<Figure size 2880x1440 with 5 Axes>"
            ]
          },
          "metadata": {}
        }
      ]
    },
    {
      "cell_type": "markdown",
      "metadata": {
        "id": "jO7--rZdZa3d"
      },
      "source": [
        "##4-3. 지역별 2006년도 전체 게임 판매량 중에서 Wii Sports 하나의 품목이 차지하는 비율을 시각화하였다. \n",
        "##총 판매량은 북미 지역이 제일 높았으나 2006년 각 지역에서 팔린 비율을 보았을 때 유럽에서 가장 많은 인기를 끌었음을 확인할 수 있다."
      ]
    },
    {
      "cell_type": "markdown",
      "metadata": {
        "id": "wKhWdwC9aCMM"
      },
      "source": [
        "##4-4. Wii 플랫폼에서 플레이 가능한 Wii 시리즈 게임은 매우 다양하다.\n",
        "\n",
        "##다음은 Wii가 포함된 게임의 판매량을 순위대로 나타낸 것이다.\n",
        "\n",
        "##Wii 시리즈가 꾸준히 판매 실적을 올렸음을 확인할 수 있다."
      ]
    },
    {
      "cell_type": "code",
      "metadata": {
        "id": "WGUMjLArh0Ju"
      },
      "source": [
        "df_wii = df[df['Name'].str.contains('Wii')]\n",
        "df_wii = df_wii.sort_values(by='Total_Sales', axis=0, ascending=False)\n",
        "df_wii_top = df_wii[:8]\n",
        "#df_wii_top"
      ],
      "execution_count": null,
      "outputs": []
    },
    {
      "cell_type": "code",
      "metadata": {
        "id": "9U0K9AJCh4a5"
      },
      "source": [
        "#plt.figure(figsize=(12, 8))\n",
        "#sns.barplot(data = df_wii_top, x = 'Name', y = 'Total_Sales');"
      ],
      "execution_count": null,
      "outputs": []
    },
    {
      "cell_type": "markdown",
      "metadata": {
        "id": "gT-lsJzoa8J7"
      },
      "source": [
        "------------------"
      ]
    },
    {
      "cell_type": "markdown",
      "metadata": {
        "id": "L3WCzqk7a9SM"
      },
      "source": [
        "#5. 그 외 출고량이 높은 게임 분석 and 추가 분석 프로세스"
      ]
    },
    {
      "cell_type": "markdown",
      "metadata": {
        "id": "E2a75DaJbC8o"
      },
      "source": [
        "##5-1. 분명 액션 게임이 장르별 판매량에서는 높게 나왔는데 개별 판매량에서는 순위가 낮았다. 그 이유를 알아본다."
      ]
    },
    {
      "cell_type": "markdown",
      "metadata": {
        "id": "y3Ko9ZkXbQf1"
      },
      "source": [
        "##액션 장르만 따로 총 판매량 순으로 상위 10개 게임을 나열해보았다.\n",
        "##Grand Theft Auto, 즉 GTA 시리즈가 대부분을 차지하고 있음을 확인할 수 있다.\n",
        "##다수의 게임에서 같은 이름의 게임이지만 판매량 집계가 따로 된 것을 확인할 수 있다.\n",
        "##그 원인은 게임의 제목은 같으나 출시 플랫폼이 달라 발생한 현상이다."
      ]
    },
    {
      "cell_type": "code",
      "metadata": {
        "colab": {
          "base_uri": "https://localhost:8080/",
          "height": 358
        },
        "id": "I2JqW5_kRC2V",
        "outputId": "0122a643-0bbd-4140-a8d8-b41eb47cc241"
      },
      "source": [
        "action = df[df['Genre'] == 'Action']\n",
        "top_action = action.sort_values(by='Total_Sales', axis=0, ascending=False)\n",
        "top_action[:10]"
      ],
      "execution_count": null,
      "outputs": [
        {
          "output_type": "execute_result",
          "data": {
            "text/html": [
              "<div>\n",
              "<style scoped>\n",
              "    .dataframe tbody tr th:only-of-type {\n",
              "        vertical-align: middle;\n",
              "    }\n",
              "\n",
              "    .dataframe tbody tr th {\n",
              "        vertical-align: top;\n",
              "    }\n",
              "\n",
              "    .dataframe thead th {\n",
              "        text-align: right;\n",
              "    }\n",
              "</style>\n",
              "<table border=\"1\" class=\"dataframe\">\n",
              "  <thead>\n",
              "    <tr style=\"text-align: right;\">\n",
              "      <th></th>\n",
              "      <th>Name</th>\n",
              "      <th>Platform</th>\n",
              "      <th>Year</th>\n",
              "      <th>Genre</th>\n",
              "      <th>Publisher</th>\n",
              "      <th>NA_Sales</th>\n",
              "      <th>EU_Sales</th>\n",
              "      <th>JP_Sales</th>\n",
              "      <th>Other_Sales</th>\n",
              "      <th>Total_Sales</th>\n",
              "    </tr>\n",
              "  </thead>\n",
              "  <tbody>\n",
              "    <tr>\n",
              "      <th>3414</th>\n",
              "      <td>Grand Theft Auto V</td>\n",
              "      <td>PS3</td>\n",
              "      <td>2013</td>\n",
              "      <td>Action</td>\n",
              "      <td>Take-Two Interactive</td>\n",
              "      <td>7.01</td>\n",
              "      <td>9.27</td>\n",
              "      <td>0.97</td>\n",
              "      <td>4.14</td>\n",
              "      <td>21.39</td>\n",
              "    </tr>\n",
              "    <tr>\n",
              "      <th>14355</th>\n",
              "      <td>Grand Theft Auto: San Andreas</td>\n",
              "      <td>PS2</td>\n",
              "      <td>2004</td>\n",
              "      <td>Action</td>\n",
              "      <td>Take-Two Interactive</td>\n",
              "      <td>9.43</td>\n",
              "      <td>0.40</td>\n",
              "      <td>0.41</td>\n",
              "      <td>10.57</td>\n",
              "      <td>20.81</td>\n",
              "    </tr>\n",
              "    <tr>\n",
              "      <th>10695</th>\n",
              "      <td>Grand Theft Auto V</td>\n",
              "      <td>X360</td>\n",
              "      <td>2013</td>\n",
              "      <td>Action</td>\n",
              "      <td>Take-Two Interactive</td>\n",
              "      <td>9.63</td>\n",
              "      <td>5.31</td>\n",
              "      <td>0.06</td>\n",
              "      <td>1.38</td>\n",
              "      <td>16.38</td>\n",
              "    </tr>\n",
              "    <tr>\n",
              "      <th>5226</th>\n",
              "      <td>Grand Theft Auto: Vice City</td>\n",
              "      <td>PS2</td>\n",
              "      <td>2002</td>\n",
              "      <td>Action</td>\n",
              "      <td>Take-Two Interactive</td>\n",
              "      <td>8.41</td>\n",
              "      <td>5.49</td>\n",
              "      <td>0.47</td>\n",
              "      <td>1.78</td>\n",
              "      <td>16.15</td>\n",
              "    </tr>\n",
              "    <tr>\n",
              "      <th>9597</th>\n",
              "      <td>Grand Theft Auto III</td>\n",
              "      <td>PS2</td>\n",
              "      <td>2001</td>\n",
              "      <td>Action</td>\n",
              "      <td>Take-Two Interactive</td>\n",
              "      <td>6.99</td>\n",
              "      <td>4.51</td>\n",
              "      <td>0.30</td>\n",
              "      <td>1.30</td>\n",
              "      <td>13.10</td>\n",
              "    </tr>\n",
              "    <tr>\n",
              "      <th>1973</th>\n",
              "      <td>Grand Theft Auto V</td>\n",
              "      <td>PS4</td>\n",
              "      <td>2014</td>\n",
              "      <td>Action</td>\n",
              "      <td>Take-Two Interactive</td>\n",
              "      <td>3.80</td>\n",
              "      <td>5.81</td>\n",
              "      <td>0.36</td>\n",
              "      <td>2.02</td>\n",
              "      <td>11.99</td>\n",
              "    </tr>\n",
              "    <tr>\n",
              "      <th>4704</th>\n",
              "      <td>Pokemon HeartGold/Pokemon SoulSilver</td>\n",
              "      <td>DS</td>\n",
              "      <td>2009</td>\n",
              "      <td>Action</td>\n",
              "      <td>Nintendo</td>\n",
              "      <td>4.40</td>\n",
              "      <td>2.77</td>\n",
              "      <td>3.96</td>\n",
              "      <td>0.77</td>\n",
              "      <td>11.90</td>\n",
              "    </tr>\n",
              "    <tr>\n",
              "      <th>13626</th>\n",
              "      <td>Grand Theft Auto IV</td>\n",
              "      <td>X360</td>\n",
              "      <td>2008</td>\n",
              "      <td>Action</td>\n",
              "      <td>Take-Two Interactive</td>\n",
              "      <td>6.76</td>\n",
              "      <td>3.10</td>\n",
              "      <td>0.14</td>\n",
              "      <td>1.03</td>\n",
              "      <td>11.03</td>\n",
              "    </tr>\n",
              "    <tr>\n",
              "      <th>16120</th>\n",
              "      <td>Grand Theft Auto IV</td>\n",
              "      <td>PS3</td>\n",
              "      <td>2008</td>\n",
              "      <td>Action</td>\n",
              "      <td>Take-Two Interactive</td>\n",
              "      <td>4.76</td>\n",
              "      <td>3.76</td>\n",
              "      <td>0.44</td>\n",
              "      <td>1.62</td>\n",
              "      <td>10.58</td>\n",
              "    </tr>\n",
              "    <tr>\n",
              "      <th>8857</th>\n",
              "      <td>FIFA Soccer 13</td>\n",
              "      <td>PS3</td>\n",
              "      <td>2012</td>\n",
              "      <td>Action</td>\n",
              "      <td>Electronic Arts</td>\n",
              "      <td>1.06</td>\n",
              "      <td>5.05</td>\n",
              "      <td>0.13</td>\n",
              "      <td>2.01</td>\n",
              "      <td>8.25</td>\n",
              "    </tr>\n",
              "  </tbody>\n",
              "</table>\n",
              "</div>"
            ],
            "text/plain": [
              "                                       Name Platform  ...  Other_Sales Total_Sales\n",
              "3414                     Grand Theft Auto V      PS3  ...         4.14       21.39\n",
              "14355         Grand Theft Auto: San Andreas      PS2  ...        10.57       20.81\n",
              "10695                    Grand Theft Auto V     X360  ...         1.38       16.38\n",
              "5226            Grand Theft Auto: Vice City      PS2  ...         1.78       16.15\n",
              "9597                   Grand Theft Auto III      PS2  ...         1.30       13.10\n",
              "1973                     Grand Theft Auto V      PS4  ...         2.02       11.99\n",
              "4704   Pokemon HeartGold/Pokemon SoulSilver       DS  ...         0.77       11.90\n",
              "13626                   Grand Theft Auto IV     X360  ...         1.03       11.03\n",
              "16120                   Grand Theft Auto IV      PS3  ...         1.62       10.58\n",
              "8857                         FIFA Soccer 13      PS3  ...         2.01        8.25\n",
              "\n",
              "[10 rows x 10 columns]"
            ]
          },
          "metadata": {},
          "execution_count": 48
        }
      ]
    },
    {
      "cell_type": "markdown",
      "metadata": {
        "id": "0ZO-7aRvcHQg"
      },
      "source": [
        "##5-2. 게임 이름에 Grand Theft Auto가 포함된 GTA 시리즈는 총 27개나 있는 것으로 확인되었다.\n",
        "\n",
        "##이들이 플랫폼별로 판매량이 따로 집계되어 그 총 합이 낮게 나왔음을 추측할 수 있다."
      ]
    },
    {
      "cell_type": "code",
      "metadata": {
        "id": "XgppTUhUi6Gu"
      },
      "source": [
        "df_gta = df[df['Name'].str.contains('Grand Theft Auto')]\n",
        "#df_gta.info()"
      ],
      "execution_count": null,
      "outputs": []
    },
    {
      "cell_type": "code",
      "metadata": {
        "id": "F2kphOaImRPg"
      },
      "source": [
        "top_gta = df_gta.sort_values(by='Total_Sales', axis=0, ascending=False)\n",
        "#top_gta.head()"
      ],
      "execution_count": null,
      "outputs": []
    },
    {
      "cell_type": "code",
      "metadata": {
        "id": "pAm-JK-NnBwm"
      },
      "source": [
        "#df_gta['Name'].value_counts()"
      ],
      "execution_count": null,
      "outputs": []
    },
    {
      "cell_type": "markdown",
      "metadata": {
        "id": "zVShVJhDcfQJ"
      },
      "source": [
        "##5-3. GTA시리즈를 매출액순으로 8개를 추출하여 플랫폼별 판매량의 합계를 구한다."
      ]
    },
    {
      "cell_type": "code",
      "metadata": {
        "id": "r16ecNxDg_VL"
      },
      "source": [
        "gta5 = df[df['Name'] == 'Grand Theft Auto V']\n",
        "gtaSan = df[df['Name'] == 'Grand Theft Auto: San Andreas']\n",
        "gta4 = df[df['Name'] == 'Grand Theft Auto IV']\n",
        "gta3 = df[df['Name'] == 'Grand Theft Auto III']\n",
        "gta2 = df[df['Name'] == 'Grand Theft Auto 2']\n",
        "gtaVC = df[df['Name'] == 'Grand Theft Auto: Vice City']\n",
        "gtaVCS = df[df['Name'] == 'Grand Theft Auto: Vice City Stories']\n",
        "gtaLCS = df[df['Name'] == 'Grand Theft Auto: Liberty City Stories']\n"
      ],
      "execution_count": null,
      "outputs": []
    },
    {
      "cell_type": "code",
      "metadata": {
        "id": "h1l38OD0nugk"
      },
      "source": [
        "#gta_list = ['gta5','gtaS', 'gta4', 'gta3', 'gta2', 'gtaVC', 'gtaVCS', 'gtaLCS']"
      ],
      "execution_count": null,
      "outputs": []
    },
    {
      "cell_type": "code",
      "metadata": {
        "id": "SbYuvY8qi2vp"
      },
      "source": [
        "gta5_sales = gta5['Total_Sales'].sum()\n",
        "gtaSan_sales = gtaSan['Total_Sales'].sum()\n",
        "gta4_sales = gta4['Total_Sales'].sum()\n",
        "gta3_sales = gta3['Total_Sales'].sum()\n",
        "gta2_sales = gta2['Total_Sales'].sum()\n",
        "gtaVC_sales = gtaVC['Total_Sales'].sum()\n",
        "gtaVCS_sales = gtaVCS['Total_Sales'].sum()\n",
        "gtaLCS_sales = gtaLCS['Total_Sales'].sum()"
      ],
      "execution_count": null,
      "outputs": []
    },
    {
      "cell_type": "code",
      "metadata": {
        "id": "UzfspK1ak81J"
      },
      "source": [
        "gta_sales = pd.DataFrame({'Name':['gta5','gtaSan', 'gta4', 'gta3', 'gta2', 'gtaVC', 'gtaVCS', 'gtaLCS'],\n",
        "                          'Total_Sales':[gta5_sales,gtaSan_sales,gta4_sales,gta3_sales,gta2_sales,gtaVC_sales,gtaVCS_sales,gtaLCS_sales]})"
      ],
      "execution_count": null,
      "outputs": []
    },
    {
      "cell_type": "code",
      "metadata": {
        "id": "5iGsr_KwofuP"
      },
      "source": [
        "gta_sales = gta_sales.sort_values(by='Total_Sales', axis=0, ascending=False)"
      ],
      "execution_count": null,
      "outputs": []
    },
    {
      "cell_type": "markdown",
      "metadata": {
        "id": "vBIV1uYlcwZi"
      },
      "source": [
        "##5-4. GTA시리즈를 플랫폼별 판매량의 총 합 순으로 시각화를 하면 다음과 같다.\n",
        "##가장 최신 시리즈인 GTA5가 제일 많이 팔렸고, GTA 산안드레아스, GTA4 순으로 판매량이 많다."
      ]
    },
    {
      "cell_type": "code",
      "metadata": {
        "colab": {
          "base_uri": "https://localhost:8080/",
          "height": 501
        },
        "id": "8qePpyUKppgl",
        "outputId": "29a02600-91be-451c-ce99-958210fc0b5e"
      },
      "source": [
        "plt.figure(figsize=(12, 8))\n",
        "plt.ylim(0,100)\n",
        "sns.barplot(data = gta_sales, x = 'Name', y = 'Total_Sales');"
      ],
      "execution_count": null,
      "outputs": [
        {
          "output_type": "display_data",
          "data": {
            "image/png": "[encoded data removed]",
            "text/plain": [
              "<Figure size 864x576 with 1 Axes>"
            ]
          },
          "metadata": {
            "needs_background": "light"
          }
        }
      ]
    },
    {
      "cell_type": "markdown",
      "metadata": {
        "id": "QaaRshbtdMYj"
      },
      "source": [
        "##Wii 시리즈의 그래프도 전체적인 판매량은 더 높지만 비슷한 양상을 보였다."
      ]
    },
    {
      "cell_type": "code",
      "metadata": {
        "id": "dlTUSqmJpg27"
      },
      "source": [
        "#plt.figure(figsize=(12, 8))\n",
        "#plt.ylim(0,100)\n",
        "#sns.barplot(data = df_wii_top, x = 'Name', y = 'Total_Sales');"
      ],
      "execution_count": null,
      "outputs": []
    },
    {
      "cell_type": "markdown",
      "metadata": {
        "id": "pPBIA68AdW_f"
      },
      "source": [
        "##5-5. GTA 시리즈가 플랫폼별로 나뉘어 집계되었는데, 그럼 플랫폼별 GTA 시리즈의 판매량은 어떤지 확인해보았다. "
      ]
    },
    {
      "cell_type": "code",
      "metadata": {
        "colab": {
          "base_uri": "https://localhost:8080/",
          "height": 388
        },
        "id": "CDRZxLesqMRj",
        "outputId": "d96a2a15-a690-43f3-cda0-3bbf4d5037cc"
      },
      "source": [
        "gta_platform = df_gta.groupby('Platform').sum()\n",
        "gta_platform = gta_platform[['Total_Sales']]\n",
        "gta_platform = gta_platform.reset_index()\n",
        "gta_platform"
      ],
      "execution_count": null,
      "outputs": [
        {
          "output_type": "execute_result",
          "data": {
            "text/html": [
              "<div>\n",
              "<style scoped>\n",
              "    .dataframe tbody tr th:only-of-type {\n",
              "        vertical-align: middle;\n",
              "    }\n",
              "\n",
              "    .dataframe tbody tr th {\n",
              "        vertical-align: top;\n",
              "    }\n",
              "\n",
              "    .dataframe thead th {\n",
              "        text-align: right;\n",
              "    }\n",
              "</style>\n",
              "<table border=\"1\" class=\"dataframe\">\n",
              "  <thead>\n",
              "    <tr style=\"text-align: right;\">\n",
              "      <th></th>\n",
              "      <th>Platform</th>\n",
              "      <th>Total_Sales</th>\n",
              "    </tr>\n",
              "  </thead>\n",
              "  <tbody>\n",
              "    <tr>\n",
              "      <th>0</th>\n",
              "      <td>DS</td>\n",
              "      <td>1.35</td>\n",
              "    </tr>\n",
              "    <tr>\n",
              "      <th>1</th>\n",
              "      <td>GBA</td>\n",
              "      <td>0.23</td>\n",
              "    </tr>\n",
              "    <tr>\n",
              "      <th>2</th>\n",
              "      <td>PC</td>\n",
              "      <td>2.10</td>\n",
              "    </tr>\n",
              "    <tr>\n",
              "      <th>3</th>\n",
              "      <td>PS</td>\n",
              "      <td>5.85</td>\n",
              "    </tr>\n",
              "    <tr>\n",
              "      <th>4</th>\n",
              "      <td>PS2</td>\n",
              "      <td>56.29</td>\n",
              "    </tr>\n",
              "    <tr>\n",
              "      <th>5</th>\n",
              "      <td>PS3</td>\n",
              "      <td>31.97</td>\n",
              "    </tr>\n",
              "    <tr>\n",
              "      <th>6</th>\n",
              "      <td>PS4</td>\n",
              "      <td>11.99</td>\n",
              "    </tr>\n",
              "    <tr>\n",
              "      <th>7</th>\n",
              "      <td>PSP</td>\n",
              "      <td>13.90</td>\n",
              "    </tr>\n",
              "    <tr>\n",
              "      <th>8</th>\n",
              "      <td>X360</td>\n",
              "      <td>27.53</td>\n",
              "    </tr>\n",
              "    <tr>\n",
              "      <th>9</th>\n",
              "      <td>XB</td>\n",
              "      <td>4.45</td>\n",
              "    </tr>\n",
              "    <tr>\n",
              "      <th>10</th>\n",
              "      <td>XOne</td>\n",
              "      <td>5.08</td>\n",
              "    </tr>\n",
              "  </tbody>\n",
              "</table>\n",
              "</div>"
            ],
            "text/plain": [
              "   Platform  Total_Sales\n",
              "0        DS         1.35\n",
              "1       GBA         0.23\n",
              "2        PC         2.10\n",
              "3        PS         5.85\n",
              "4       PS2        56.29\n",
              "5       PS3        31.97\n",
              "6       PS4        11.99\n",
              "7       PSP        13.90\n",
              "8      X360        27.53\n",
              "9        XB         4.45\n",
              "10     XOne         5.08"
            ]
          },
          "metadata": {},
          "execution_count": 60
        }
      ]
    },
    {
      "cell_type": "code",
      "metadata": {
        "id": "EfYrDinLtFnk"
      },
      "source": [
        "#gta_platform = gta_platform.set_index('Platform', drop=True)"
      ],
      "execution_count": null,
      "outputs": []
    },
    {
      "cell_type": "markdown",
      "metadata": {
        "id": "qGJPWCKtdsWm"
      },
      "source": [
        "##가장 많은 판매량을 보인 플랫폼은 플레이스테이션 2 이며, 그 뒤를 플레이스테이션 3, 엑스박스360가 잇고 있다.\n",
        "##GTA를 플레이하는 사람들은 대부분 소니의 플레이스테이션을 이용한다는 것을 알 수 있으며, 마이크로소프트의 엑스박스는 23% 정도에 그친다.\n",
        "##의외로 PC 플랫폼에서는 판매량이 매우 낮음을 확인할 수 있다."
      ]
    },
    {
      "cell_type": "code",
      "metadata": {
        "colab": {
          "base_uri": "https://localhost:8080/",
          "height": 575
        },
        "id": "E0msbOFWtNRp",
        "outputId": "c7d39184-6709-4004-b1c3-2a05d75c9152"
      },
      "source": [
        "gta_pie = gta_platform.groupby('Platform')['Total_Sales'].sum()\n",
        "plt.figure(figsize=(20, 10))\n",
        "gta_pie.plot.pie(autopct='%.1f%%', fontsize=15);"
      ],
      "execution_count": null,
      "outputs": [
        {
          "output_type": "display_data",
          "data": {
            "image/png": "[encoded data removed]",
            "text/plain": [
              "<Figure size 1440x720 with 1 Axes>"
            ]
          },
          "metadata": {}
        }
      ]
    },
    {
      "cell_type": "markdown",
      "metadata": {
        "id": "GVfa7Bh1eTaI"
      },
      "source": [
        "##5-6. Wii 시리즈의 플랫폼별 판매량도 확인해 보았다.\n",
        "##비교적 다양한 플랫폼을 보여준 GTA 시리즈와는 다르게, Wii 시리즈는 거의 대부분 Wii 플랫폼에서만 플레이함을 확인할 수 있다."
      ]
    },
    {
      "cell_type": "code",
      "metadata": {
        "colab": {
          "base_uri": "https://localhost:8080/",
          "height": 575
        },
        "id": "3BXOy4QurS6s",
        "outputId": "546a8b43-92e6-4ab7-90df-7ff9415a687d"
      },
      "source": [
        "wii_platform = df_wii_top.groupby('Platform').sum()\n",
        "wii_platform = wii_platform[['Total_Sales']]\n",
        "wii_platform = wii_platform.reset_index()\n",
        "wii_platform\n",
        "\n",
        "wii_pie = wii_platform.groupby('Platform')['Total_Sales'].sum()\n",
        "plt.figure(figsize=(20, 10))\n",
        "wii_pie.plot.pie(autopct='%.1f%%', fontsize=15);"
      ],
      "execution_count": null,
      "outputs": [
        {
          "output_type": "display_data",
          "data": {
            "image/png": "[encoded data removed]",
            "text/plain": [
              "<Figure size 1440x720 with 1 Axes>"
            ]
          },
          "metadata": {}
        }
      ]
    },
    {
      "cell_type": "markdown",
      "metadata": {
        "id": "7OrViyl8el3C"
      },
      "source": [
        "------------"
      ]
    },
    {
      "cell_type": "markdown",
      "metadata": {
        "id": "09i9ZB45ewRo"
      },
      "source": [
        "#6. 그러면 어떤 게임을 설계해야 높은 판매량을 얻을 수 있을까?"
      ]
    },
    {
      "cell_type": "markdown",
      "metadata": {
        "id": "natyqRPLe4x-"
      },
      "source": [
        "##6-1. 먼저 전체적인 시장의 규모를 파악한다."
      ]
    },
    {
      "cell_type": "code",
      "metadata": {
        "id": "B2rYiK8DsZtn"
      },
      "source": [
        "na_sales = df['NA_Sales'].sum()\n",
        "eu_sales = df['EU_Sales'].sum()\n",
        "jp_sales = df['JP_Sales'].sum()\n",
        "ot_sales = df['Other_Sales'].sum()"
      ],
      "execution_count": null,
      "outputs": []
    },
    {
      "cell_type": "code",
      "metadata": {
        "id": "Js-OXgQryfKv"
      },
      "source": [
        "market = pd.DataFrame({'Market':['NA', 'EU', 'JP', 'Other'],\n",
        "                       'Sales' :[ na_sales, eu_sales, jp_sales, ot_sales]})"
      ],
      "execution_count": null,
      "outputs": []
    },
    {
      "cell_type": "code",
      "metadata": {
        "colab": {
          "base_uri": "https://localhost:8080/",
          "height": 575
        },
        "id": "qsYQNdhrzYSR",
        "outputId": "0fa788fd-f843-42c4-a63a-81644e498ec5"
      },
      "source": [
        "market_pie = market.groupby('Market')['Sales'].sum()\n",
        "plt.figure(figsize=(20, 10))\n",
        "market_pie.plot.pie(autopct='%.1f%%', fontsize=15);"
      ],
      "execution_count": null,
      "outputs": [
        {
          "output_type": "display_data",
          "data": {
            "image/png": "[encoded data removed]",
            "text/plain": [
              "<Figure size 1440x720 with 1 Axes>"
            ]
          },
          "metadata": {}
        }
      ]
    },
    {
      "cell_type": "markdown",
      "metadata": {
        "id": "hJs2JNozfE4b"
      },
      "source": [
        "##세계 비디오게임 시장의 절반을 북미 시장이 차지하고 있음을 확인할 수 있다.\n",
        "\n",
        "##따라서 게임을 출시한다면 북미 시장을 우선적으로 공략할 필요가 있어보인다.\n",
        "## 실제로 많은 대형 게임들이 소비자의 구매 욕구를 높이기 위하여 미국의 블랙 프라이데이 시즌에 맞춰 출시되고 있다."
      ]
    },
    {
      "cell_type": "markdown",
      "metadata": {
        "id": "GpQ2v4u_fz8A"
      },
      "source": [
        "-------------"
      ]
    },
    {
      "cell_type": "markdown",
      "metadata": {
        "id": "gWUyYTBpf0yw"
      },
      "source": [
        "##6-2. 너무 옛날 게임은 현재 트렌트에 맞지 않을 수 있다. 또한 비디오게임의 특성상 기기의 발달에 따라 플레이 가능한 게임 또한 빠르게 변화한다.\n",
        "##게임의 출시 시기 못지않게 중요한 것이 게임을 어느 플랫폼에서 플레이 가능한지이다.\n",
        "##만약 출시하는 게임이 특정 플랫폼에서만 플레이가 가능하다면, 그 플랫폼을 사용하지 않는 사람들을 고객으로 만들 기회조차 얻지 못할 것이다."
      ]
    },
    {
      "cell_type": "markdown",
      "metadata": {
        "id": "-iP_nx8XhHxE"
      },
      "source": [
        "------------"
      ]
    },
    {
      "cell_type": "markdown",
      "metadata": {
        "id": "9IEqSU6bg-FR"
      },
      "source": [
        "##2000년 이후 출시된 게임들의 플랫폼과 그 플랫폼의 총 판매량을 추출하였다."
      ]
    },
    {
      "cell_type": "code",
      "metadata": {
        "colab": {
          "base_uri": "https://localhost:8080/",
          "height": 698
        },
        "id": "nif-i3zSzY-c",
        "outputId": "33bb1256-1caf-40e7-c07c-198a168362d3"
      },
      "source": [
        "df_2000 = df[df['Year'] >= 2000]\n",
        "platform_pie = df_2000.groupby('Platform')['Total_Sales'].sum()\n",
        "platform_pie.to_frame()"
      ],
      "execution_count": null,
      "outputs": [
        {
          "output_type": "execute_result",
          "data": {
            "text/html": [
              "<div>\n",
              "<style scoped>\n",
              "    .dataframe tbody tr th:only-of-type {\n",
              "        vertical-align: middle;\n",
              "    }\n",
              "\n",
              "    .dataframe tbody tr th {\n",
              "        vertical-align: top;\n",
              "    }\n",
              "\n",
              "    .dataframe thead th {\n",
              "        text-align: right;\n",
              "    }\n",
              "</style>\n",
              "<table border=\"1\" class=\"dataframe\">\n",
              "  <thead>\n",
              "    <tr style=\"text-align: right;\">\n",
              "      <th></th>\n",
              "      <th>Total_Sales</th>\n",
              "    </tr>\n",
              "    <tr>\n",
              "      <th>Platform</th>\n",
              "      <th></th>\n",
              "    </tr>\n",
              "  </thead>\n",
              "  <tbody>\n",
              "    <tr>\n",
              "      <th>3DS</th>\n",
              "      <td>231.82</td>\n",
              "    </tr>\n",
              "    <tr>\n",
              "      <th>DC</th>\n",
              "      <td>7.41</td>\n",
              "    </tr>\n",
              "    <tr>\n",
              "      <th>DS</th>\n",
              "      <td>817.17</td>\n",
              "    </tr>\n",
              "    <tr>\n",
              "      <th>GB</th>\n",
              "      <td>29.00</td>\n",
              "    </tr>\n",
              "    <tr>\n",
              "      <th>GBA</th>\n",
              "      <td>304.76</td>\n",
              "    </tr>\n",
              "    <tr>\n",
              "      <th>GC</th>\n",
              "      <td>196.02</td>\n",
              "    </tr>\n",
              "    <tr>\n",
              "      <th>N64</th>\n",
              "      <td>37.21</td>\n",
              "    </tr>\n",
              "    <tr>\n",
              "      <th>PC</th>\n",
              "      <td>202.92</td>\n",
              "    </tr>\n",
              "    <tr>\n",
              "      <th>PS</th>\n",
              "      <td>140.66</td>\n",
              "    </tr>\n",
              "    <tr>\n",
              "      <th>PS2</th>\n",
              "      <td>1222.44</td>\n",
              "    </tr>\n",
              "    <tr>\n",
              "      <th>PS3</th>\n",
              "      <td>946.74</td>\n",
              "    </tr>\n",
              "    <tr>\n",
              "      <th>PS4</th>\n",
              "      <td>275.78</td>\n",
              "    </tr>\n",
              "    <tr>\n",
              "      <th>PSP</th>\n",
              "      <td>290.84</td>\n",
              "    </tr>\n",
              "    <tr>\n",
              "      <th>PSV</th>\n",
              "      <td>61.56</td>\n",
              "    </tr>\n",
              "    <tr>\n",
              "      <th>WS</th>\n",
              "      <td>0.96</td>\n",
              "    </tr>\n",
              "    <tr>\n",
              "      <th>Wii</th>\n",
              "      <td>900.15</td>\n",
              "    </tr>\n",
              "    <tr>\n",
              "      <th>WiiU</th>\n",
              "      <td>81.79</td>\n",
              "    </tr>\n",
              "    <tr>\n",
              "      <th>X360</th>\n",
              "      <td>968.59</td>\n",
              "    </tr>\n",
              "    <tr>\n",
              "      <th>XB</th>\n",
              "      <td>247.30</td>\n",
              "    </tr>\n",
              "    <tr>\n",
              "      <th>XOne</th>\n",
              "      <td>141.08</td>\n",
              "    </tr>\n",
              "  </tbody>\n",
              "</table>\n",
              "</div>"
            ],
            "text/plain": [
              "          Total_Sales\n",
              "Platform             \n",
              "3DS            231.82\n",
              "DC               7.41\n",
              "DS             817.17\n",
              "GB              29.00\n",
              "GBA            304.76\n",
              "GC             196.02\n",
              "N64             37.21\n",
              "PC             202.92\n",
              "PS             140.66\n",
              "PS2           1222.44\n",
              "PS3            946.74\n",
              "PS4            275.78\n",
              "PSP            290.84\n",
              "PSV             61.56\n",
              "WS               0.96\n",
              "Wii            900.15\n",
              "WiiU            81.79\n",
              "X360           968.59\n",
              "XB             247.30\n",
              "XOne           141.08"
            ]
          },
          "metadata": {},
          "execution_count": 66
        }
      ]
    },
    {
      "cell_type": "code",
      "metadata": {
        "id": "DoNVdIYo5wvo"
      },
      "source": [
        "platform_pie = platform_pie.reset_index()"
      ],
      "execution_count": null,
      "outputs": []
    },
    {
      "cell_type": "code",
      "metadata": {
        "id": "myCIeZ476iE-"
      },
      "source": [
        "#platform_pie"
      ],
      "execution_count": null,
      "outputs": []
    },
    {
      "cell_type": "markdown",
      "metadata": {
        "id": "HD5kMtdqhXwH"
      },
      "source": [
        "##총 20가지의 플랫폼이 있는데 대부분 닌텐도, 플레이스테이션, Xbox의 시리즈이다. 따라서 검색을 통해 플랫폼들을 몇 개의 카테고리로 분류하였다. "
      ]
    },
    {
      "cell_type": "code",
      "metadata": {
        "id": "iALwEJ7y67Hq"
      },
      "source": [
        "platform_pie['Category'] = ['Nintendo', 'Other', 'Nintendo', 'Nintendo', 'Nintendo','Nintendo', \n",
        "                            'Nintendo', 'PC', 'PlayStation', 'PlayStation', 'PlayStation','PlayStation',\n",
        "                            'PlayStation','PlayStation','Other', 'Nintendo', 'Nintendo', 'Xbox', 'Xbox', 'Xbox']\n",
        "#platform_pie"
      ],
      "execution_count": null,
      "outputs": []
    },
    {
      "cell_type": "markdown",
      "metadata": {
        "id": "NIhkhJOdhN2g"
      },
      "source": [
        "##6-3. 2000년 이후 출시된 게임들의 플랫폼별 판매량"
      ]
    },
    {
      "cell_type": "code",
      "metadata": {
        "colab": {
          "base_uri": "https://localhost:8080/",
          "height": 575
        },
        "id": "IOIsRaAx8RgP",
        "outputId": "e99021a1-6e8d-4f8c-eec5-85e7cbb00af5"
      },
      "source": [
        "#platform_pie\n",
        "platform_pie_g = platform_pie.groupby('Category')['Total_Sales'].sum()\n",
        "plt.figure(figsize=(20, 10))\n",
        "platform_pie_g.plot.pie(autopct='%.1f%%', fontsize=15);"
      ],
      "execution_count": null,
      "outputs": [
        {
          "output_type": "display_data",
          "data": {
            "image/png": "[encoded data removed]",
            "text/plain": [
              "<Figure size 1440x720 with 1 Axes>"
            ]
          },
          "metadata": {}
        }
      ]
    },
    {
      "cell_type": "markdown",
      "metadata": {
        "id": "au6BkvFfh7D9"
      },
      "source": [
        "## 현재 비디오게임 시장 플랫폼의 현황은 닌텐도, 플레이스테이션, Xbox의 삼파전이라고 볼 수 있다.\n",
        "\n",
        "## 의외로 PC가 비디오게임 시장에서 차지하는 비중은 매우 작다.\n",
        "\n",
        "## 게임 판매량 비중은 플레이스테이션, 닌텐도, Xbox 순이다.\n",
        "\n",
        "##실제로 현재 많은 게임들이 각 플랫폼에 맞는 버전을 따로 제작하고 있다.\n",
        "## 예시로 'A' 라는 게임을 만들 때, 플레이스테이션판, Xbox판, PC판 등을 제공한다."
      ]
    },
    {
      "cell_type": "markdown",
      "metadata": {
        "id": "STL7Nm4Gjbf-"
      },
      "source": [
        "-----------------------"
      ]
    },
    {
      "cell_type": "markdown",
      "metadata": {
        "id": "keHMgu1vjeGW"
      },
      "source": [
        "#정리"
      ]
    },
    {
      "cell_type": "markdown",
      "metadata": {
        "id": "nA3VpND8jfwH"
      },
      "source": [
        "#1. 북미 시장을 우선적으로 고려한다.\n",
        "\n",
        "\n",
        "#2. 일본과 일본을 제외한 지역은 선호 장르가 유의미하게 차이난다. 만약 타 지역과 일본에서 액션, 롤 플레잉 장르를 출시할 계획이라면, 전략을 다르게 짜야 할 필요성이 있다.\n",
        "\n",
        "#3.현재의 게임 트렌드는 액션과 슈팅이다. 특히 액션 장르는 가장 판매량이 높으므로, 액션 장르의 게임을 설계하는것이 위험이 적을 것이다.\n",
        "\n",
        "#4.시리즈 게임의 판매량이 높다. 만약 설계하고자 하는 게임의 전작이 존재하거나, 시리즈 게임일 경우, 다음 시리즈의 게임을 설계하는것이 판매량 측면에서 좋을 것이다.\n",
        "\n",
        "#5. 게임을 설계할 때 한가지 플랫폼에서만 플레이 할 수 있는 게임이 아닌, 여러 플랫폼에서 플레이 가능하도록, 각 플랫폼에 맞는 버전을 제작하는것이 바람직할 것이다."
      ]
    },
    {
      "cell_type": "markdown",
      "metadata": {
        "id": "JvB67MQy28gR"
      },
      "source": [
        "---------------------------"
      ]
    },
    {
      "cell_type": "markdown",
      "metadata": {
        "id": "qUdc1dSC2-7s"
      },
      "source": [
        "#분석의 한계\n",
        "\n",
        "#1. 결측값 처리 과정에서 연도가 누락된 게임들의 정보가 삭제되었다.\n",
        "#2. 가장 중요하다고 할 수 있는 최근의 데이터의 수가 매우 부족하다. \n",
        "# 따라서 데이터의 최신 업데이트가 필요하며, 새로운 데이터로 분석 시 결과가 달라질 가능성이 존재한다.\n",
        "\n",
        "#3. 게임 판매 features가 판매 수량이라 매출액 등 정확한 금액에 대한 정보가 없다.\n",
        "#따라서 값이 싼 게임이 많이 팔린 것과 비싼 게임이 비교적 적게 팔린 것 등 게임의 가격에 대한 분석과 그에 대한 설계가 불가능하다. \n",
        "\n",
        "#4. 현재 이 프로젝트를 진행하는 게임 회사에 대한 정보가 없다.\n",
        "# 게임 회사 특성상 개발 경험이 굉장히 중요하기 때문에 각자 회사에 맞는 게임을 출시하는데 이에 대한 설계가 불가능하다.\n",
        "\n",
        "#5. 게임 제작은 시장 조사가 중요한데 해당하는 데이터가 없다."
      ]
    },
    {
      "cell_type": "code",
      "metadata": {
        "id": "tO1ayH4kjauk"
      },
      "source": [
        ""
      ],
      "execution_count": null,
      "outputs": []
    }
  ]
}
