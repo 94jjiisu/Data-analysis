{
 "cells": [
  {
   "cell_type": "code",
   "execution_count": 1,
   "metadata": {},
   "outputs": [],
   "source": [
    "from urllib.request import urlopen\n",
    "import bs4\n",
    "import datetime as dt\n",
    "import numpy as np\n",
    "import pandas as pd\n",
    "import matplotlib.pyplot as plt\n",
    "import seaborn as sns"
   ]
  },
  {
   "cell_type": "code",
   "execution_count": 2,
   "metadata": {},
   "outputs": [],
   "source": [
    "#날짜 정보 date형식으로\n",
    "def date_format(d):\n",
    "    d = str(d).replace('-', '.')\n",
    "    yyyy = int(d.split('.')[0])\n",
    "    mm = int(d.split('.')[1])\n",
    "    dd = int(d.split('.')[2])\n",
    "    this_date = dt.date(yyyy, mm, dd)\n",
    "    \n",
    "    return this_date"
   ]
  },
  {
   "cell_type": "code",
   "execution_count": 3,
   "metadata": {},
   "outputs": [],
   "source": [
    "def historical_index_naver(index_cd, start_date='', end_date='', page_n=1, last_page=0):\n",
    "    global close, date, market, high, low, volume\n",
    "    if start_date:   # start_date가 있으면\n",
    "        start_date = date_format(start_date)   # date 포맷으로 변환\n",
    "    else:    # 없으면\n",
    "        start_date = dt.date.today()   # 오늘 날짜를 지정\n",
    "    if end_date:   \n",
    "        end_date = date_format(end_date)   \n",
    "    else:   \n",
    "        end_date = dt.date.today()  \n",
    "        \n",
    "        \n",
    "    naver_index = 'https://finance.naver.com/item/sise_day.nhn?code=' + index_cd + '&page=' + str(page_n)\n",
    "    \n",
    "    source = urlopen(naver_index).read()   # 지정한 페이지에서 코드 읽기\n",
    "    source = bs4.BeautifulSoup(source, 'lxml')   # 뷰티풀 스프로 태그별로 코드 분류\n",
    "    \n",
    "    dates = source.find_all('span', class_ = \"tah p10 gray03\")  # 날짜 수집   \n",
    "    prices = source.find_all('td', class_='num')  #  지수 수집\n",
    "    \n",
    "    for n in range(len(dates)):\n",
    "    \n",
    "        if dates[n].text.split('.')[0].isdigit():\n",
    "            \n",
    "            # 날짜 처리\n",
    "            this_date = dates[n].text\n",
    "            this_date= date_format(this_date)\n",
    "            \n",
    "            if this_date <= end_date and this_date >= start_date: \n",
    "                date = np.append(date, this_date)\n",
    "            # start_date와 end_date 사이에서 데이터 저장\n",
    "                # 종가 처리\n",
    "                this_close = prices[n*6].text   # prices 중 종가지수인 0,4,8,...번째 데이터 추출\n",
    "                this_close = this_close.replace(',', '')\n",
    "                this_close = int(this_close)\n",
    "                \n",
    "                close = np.append(close,this_close)\n",
    "                # 시가 처리\n",
    "                this_market = prices[n*6+2].text\n",
    "                this_market = this_market.replace(',', '')\n",
    "                this_market = int(this_market)\n",
    "                \n",
    "                market = np.append(market, this_market)\n",
    "                \n",
    "                # 고가 처리\n",
    "                this_high = prices[n*6+3].text   # prices 중 종가지수인 0,4,8,...번째 데이터 추출\n",
    "                this_high  = this_high .replace(',', '')\n",
    "                this_high  = int(this_high )\n",
    "                \n",
    "                high = np.append(high,this_high)\n",
    "                \n",
    "                #저가 처리\n",
    "                this_low = prices[n*6+4].text   # prices 중 종가지수인 0,4,8,...번째 데이터 추출\n",
    "                this_low = this_low.replace(',', '')\n",
    "                this_low= int(this_low)\n",
    "                \n",
    "                low = np.append(low, this_low)                \n",
    "                \n",
    "                #거래량 처리\n",
    "                this_volume = prices[n*6+5].text   # prices 중 종가지수인 0,4,8,...번째 데이터 추출\n",
    "                this_volume = this_volume.replace(',', '')\n",
    "                this_volume= int(this_volume)\n",
    "                \n",
    "                volume = np.append(volume, this_volume)                \n",
    "\n",
    "                \n",
    "                \n",
    "            elif this_date < start_date:   \n",
    "            # start_date 이전이면 함수 종료\n",
    "                return              \n",
    "            \n",
    "    # 페이지 네비게이션\n",
    "    if last_page == 0:\n",
    "        last_page = source.find('td', class_='pgRR').find('a')['href']\n",
    "        # 마지막페이지 주소 추출\n",
    "        last_page = last_page.split('&')[1]   \n",
    "        last_page = last_page.split('=')[1]   # = 뒤의 페이지번호만 추출\n",
    "        last_page = int(last_page)   # 숫자형 변수로 변환\n",
    "        \n",
    "    # 다음 페이지 호출\n",
    "    if page_n < last_page:   \n",
    "        page_n = page_n + 1   \n",
    "        historical_index_naver(index_cd, start_date, end_date, page_n, last_page)   \n",
    "    \n",
    " \n",
    "    return"
   ]
  },
  {
   "cell_type": "code",
   "execution_count": 4,
   "metadata": {
    "scrolled": true
   },
   "outputs": [],
   "source": [
    "#삼성전자\n",
    "date = np.array([])\n",
    "close = np.array([])\n",
    "market = np.array([])\n",
    "low = np.array([])\n",
    "high= np.array([])\n",
    "volume = np.array([])\n",
    "index_cd = '005930'\n",
    "historical_index_naver(index_cd, '1996-6-25', '1998-6-30', page_n = 545)"
   ]
  },
  {
   "cell_type": "code",
   "execution_count": 5,
   "metadata": {},
   "outputs": [],
   "source": [
    "#SK하이닉스\n",
    "date = np.array([])\n",
    "close = np.array([])\n",
    "market = np.array([])\n",
    "low = np.array([])\n",
    "high= np.array([])\n",
    "volume = np.array([])\n",
    "index_cd = '000660'\n",
    "historical_index_naver(index_cd, '2018-7-1', '2020-7-1', page_n = 1)"
   ]
  },
  {
   "cell_type": "code",
   "execution_count": 6,
   "metadata": {},
   "outputs": [],
   "source": [
    "#삼성바이오\n",
    "date = np.array([])\n",
    "close = np.array([])\n",
    "market = np.array([])\n",
    "low = np.array([])\n",
    "high= np.array([])\n",
    "volume = np.array([])\n",
    "index_cd = '207940'\n",
    "historical_index_naver(index_cd, '2018-7-1', '2020-7-1', page_n = 1)"
   ]
  },
  {
   "cell_type": "code",
   "execution_count": 19,
   "metadata": {},
   "outputs": [],
   "source": [
    "#셀트리온 068270\n",
    "date = np.array([])\n",
    "close = np.array([])\n",
    "market = np.array([])\n",
    "low = np.array([])\n",
    "high= np.array([])\n",
    "volume = np.array([])\n",
    "index_cd = '068270'\n",
    "historical_index_naver(index_cd, '2018-7-1', '2020-7-1', page_n = 1)"
   ]
  },
  {
   "cell_type": "code",
   "execution_count": 33,
   "metadata": {},
   "outputs": [],
   "source": [
    "#네이버 035420\n",
    "date = np.array([])\n",
    "close = np.array([])\n",
    "market = np.array([])\n",
    "low = np.array([])\n",
    "high= np.array([])\n",
    "volume = np.array([])\n",
    "index_cd = '035420'\n",
    "historical_index_naver(index_cd, '2018-7-1', '2020-7-1', page_n = 1)"
   ]
  },
  {
   "cell_type": "code",
   "execution_count": 46,
   "metadata": {},
   "outputs": [],
   "source": [
    "#삼전우 005935\n",
    "date = np.array([])\n",
    "close = np.array([])\n",
    "market = np.array([])\n",
    "low = np.array([])\n",
    "high= np.array([])\n",
    "volume = np.array([])\n",
    "index_cd = '005935'\n",
    "historical_index_naver(index_cd, '2018-7-1', '2020-7-1', page_n = 1)"
   ]
  },
  {
   "cell_type": "code",
   "execution_count": 60,
   "metadata": {},
   "outputs": [],
   "source": [
    "#LG 화학 051910\n",
    "date = np.array([])\n",
    "close = np.array([])\n",
    "market = np.array([])\n",
    "low = np.array([])\n",
    "high= np.array([])\n",
    "volume = np.array([])\n",
    "index_cd = '051910'\n",
    "historical_index_naver(index_cd, '2018-7-1', '2020-7-1', page_n = 1)"
   ]
  },
  {
   "cell_type": "code",
   "execution_count": 73,
   "metadata": {},
   "outputs": [],
   "source": [
    "#삼성 SDI 006400\n",
    "date = np.array([])\n",
    "close = np.array([])\n",
    "market = np.array([])\n",
    "low = np.array([])\n",
    "high= np.array([])\n",
    "volume = np.array([])\n",
    "index_cd = '006400'\n",
    "historical_index_naver(index_cd, '2018-7-1', '2020-7-1', page_n = 1)"
   ]
  },
  {
   "cell_type": "code",
   "execution_count": 87,
   "metadata": {},
   "outputs": [],
   "source": [
    "#카카오 035720\n",
    "date = np.array([])\n",
    "close = np.array([])\n",
    "market = np.array([])\n",
    "low = np.array([])\n",
    "high= np.array([])\n",
    "volume = np.array([])\n",
    "index_cd = '035720'\n",
    "historical_index_naver(index_cd, '2018-7-1', '2020-7-1', page_n = 1)"
   ]
  },
  {
   "cell_type": "code",
   "execution_count": 102,
   "metadata": {},
   "outputs": [],
   "source": [
    "#삼성물산 028260\n",
    "date = np.array([])\n",
    "close = np.array([])\n",
    "market = np.array([])\n",
    "low = np.array([])\n",
    "high= np.array([])\n",
    "volume = np.array([])\n",
    "index_cd = '028260'\n",
    "historical_index_naver(index_cd, '2018-7-1', '2020-7-1', page_n = 1)"
   ]
  },
  {
   "cell_type": "code",
   "execution_count": 103,
   "metadata": {},
   "outputs": [
    {
     "data": {
      "text/html": [
       "<div>\n",
       "<style scoped>\n",
       "    .dataframe tbody tr th:only-of-type {\n",
       "        vertical-align: middle;\n",
       "    }\n",
       "\n",
       "    .dataframe tbody tr th {\n",
       "        vertical-align: top;\n",
       "    }\n",
       "\n",
       "    .dataframe thead th {\n",
       "        text-align: right;\n",
       "    }\n",
       "</style>\n",
       "<table border=\"1\" class=\"dataframe\">\n",
       "  <thead>\n",
       "    <tr style=\"text-align: right;\">\n",
       "      <th></th>\n",
       "      <th>Date</th>\n",
       "      <th>Close</th>\n",
       "      <th>Market</th>\n",
       "      <th>High</th>\n",
       "      <th>Low</th>\n",
       "      <th>Volume</th>\n",
       "    </tr>\n",
       "  </thead>\n",
       "  <tbody>\n",
       "    <tr>\n",
       "      <th>488</th>\n",
       "      <td>2018-07-06</td>\n",
       "      <td>116000.0</td>\n",
       "      <td>113500.0</td>\n",
       "      <td>117000.0</td>\n",
       "      <td>113500.0</td>\n",
       "      <td>295440.0</td>\n",
       "    </tr>\n",
       "    <tr>\n",
       "      <th>489</th>\n",
       "      <td>2018-07-05</td>\n",
       "      <td>113500.0</td>\n",
       "      <td>113000.0</td>\n",
       "      <td>114500.0</td>\n",
       "      <td>112500.0</td>\n",
       "      <td>125785.0</td>\n",
       "    </tr>\n",
       "    <tr>\n",
       "      <th>490</th>\n",
       "      <td>2018-07-04</td>\n",
       "      <td>113500.0</td>\n",
       "      <td>112500.0</td>\n",
       "      <td>115500.0</td>\n",
       "      <td>112500.0</td>\n",
       "      <td>241169.0</td>\n",
       "    </tr>\n",
       "    <tr>\n",
       "      <th>491</th>\n",
       "      <td>2018-07-03</td>\n",
       "      <td>112500.0</td>\n",
       "      <td>116000.0</td>\n",
       "      <td>116000.0</td>\n",
       "      <td>112000.0</td>\n",
       "      <td>296854.0</td>\n",
       "    </tr>\n",
       "    <tr>\n",
       "      <th>492</th>\n",
       "      <td>2018-07-02</td>\n",
       "      <td>115000.0</td>\n",
       "      <td>117000.0</td>\n",
       "      <td>117500.0</td>\n",
       "      <td>115000.0</td>\n",
       "      <td>247191.0</td>\n",
       "    </tr>\n",
       "  </tbody>\n",
       "</table>\n",
       "</div>"
      ],
      "text/plain": [
       "           Date     Close    Market      High       Low    Volume\n",
       "488  2018-07-06  116000.0  113500.0  117000.0  113500.0  295440.0\n",
       "489  2018-07-05  113500.0  113000.0  114500.0  112500.0  125785.0\n",
       "490  2018-07-04  113500.0  112500.0  115500.0  112500.0  241169.0\n",
       "491  2018-07-03  112500.0  116000.0  116000.0  112000.0  296854.0\n",
       "492  2018-07-02  115000.0  117000.0  117500.0  115000.0  247191.0"
      ]
     },
     "execution_count": 103,
     "metadata": {},
     "output_type": "execute_result"
    }
   ],
   "source": [
    "NaverFinance = pd.DataFrame({'Date': date, 'Close':close, 'Market': market, \n",
    "                             'High': high, 'Low': low, 'Volume': volume})\n",
    "\n",
    "NaverFinance.tail()"
   ]
  },
  {
   "cell_type": "code",
   "execution_count": 104,
   "metadata": {},
   "outputs": [],
   "source": [
    "date = np.array([])\n",
    "close = np.array([])\n",
    "market = np.array([])\n",
    "low = np.array([])\n",
    "high= np.array([])\n",
    "volume = np.array([])\n",
    "historical_index_naver(index_cd, '2016-7-1', '2018-6-30', page_n = 50)"
   ]
  },
  {
   "cell_type": "code",
   "execution_count": 105,
   "metadata": {},
   "outputs": [
    {
     "data": {
      "text/html": [
       "<div>\n",
       "<style scoped>\n",
       "    .dataframe tbody tr th:only-of-type {\n",
       "        vertical-align: middle;\n",
       "    }\n",
       "\n",
       "    .dataframe tbody tr th {\n",
       "        vertical-align: top;\n",
       "    }\n",
       "\n",
       "    .dataframe thead th {\n",
       "        text-align: right;\n",
       "    }\n",
       "</style>\n",
       "<table border=\"1\" class=\"dataframe\">\n",
       "  <thead>\n",
       "    <tr style=\"text-align: right;\">\n",
       "      <th></th>\n",
       "      <th>Date</th>\n",
       "      <th>Close</th>\n",
       "      <th>Market</th>\n",
       "      <th>High</th>\n",
       "      <th>Low</th>\n",
       "      <th>Volume</th>\n",
       "    </tr>\n",
       "  </thead>\n",
       "  <tbody>\n",
       "    <tr>\n",
       "      <th>484</th>\n",
       "      <td>2016-07-07</td>\n",
       "      <td>128000.0</td>\n",
       "      <td>125000.0</td>\n",
       "      <td>128500.0</td>\n",
       "      <td>125000.0</td>\n",
       "      <td>484666.0</td>\n",
       "    </tr>\n",
       "    <tr>\n",
       "      <th>485</th>\n",
       "      <td>2016-07-06</td>\n",
       "      <td>124000.0</td>\n",
       "      <td>127000.0</td>\n",
       "      <td>127000.0</td>\n",
       "      <td>123000.0</td>\n",
       "      <td>390190.0</td>\n",
       "    </tr>\n",
       "    <tr>\n",
       "      <th>486</th>\n",
       "      <td>2016-07-05</td>\n",
       "      <td>127000.0</td>\n",
       "      <td>123000.0</td>\n",
       "      <td>127500.0</td>\n",
       "      <td>123000.0</td>\n",
       "      <td>634265.0</td>\n",
       "    </tr>\n",
       "    <tr>\n",
       "      <th>487</th>\n",
       "      <td>2016-07-04</td>\n",
       "      <td>123500.0</td>\n",
       "      <td>123500.0</td>\n",
       "      <td>125000.0</td>\n",
       "      <td>122000.0</td>\n",
       "      <td>320457.0</td>\n",
       "    </tr>\n",
       "    <tr>\n",
       "      <th>488</th>\n",
       "      <td>2016-07-01</td>\n",
       "      <td>123000.0</td>\n",
       "      <td>121500.0</td>\n",
       "      <td>124000.0</td>\n",
       "      <td>121000.0</td>\n",
       "      <td>467031.0</td>\n",
       "    </tr>\n",
       "  </tbody>\n",
       "</table>\n",
       "</div>"
      ],
      "text/plain": [
       "           Date     Close    Market      High       Low    Volume\n",
       "484  2016-07-07  128000.0  125000.0  128500.0  125000.0  484666.0\n",
       "485  2016-07-06  124000.0  127000.0  127000.0  123000.0  390190.0\n",
       "486  2016-07-05  127000.0  123000.0  127500.0  123000.0  634265.0\n",
       "487  2016-07-04  123500.0  123500.0  125000.0  122000.0  320457.0\n",
       "488  2016-07-01  123000.0  121500.0  124000.0  121000.0  467031.0"
      ]
     },
     "execution_count": 105,
     "metadata": {},
     "output_type": "execute_result"
    }
   ],
   "source": [
    "NaverFinance2018 = pd.DataFrame({'Date': date, 'Close':close, 'Market': market, \n",
    "                             'High': high, 'Low': low, 'Volume': volume})\n",
    "\n",
    "NaverFinance2018.tail()"
   ]
  },
  {
   "cell_type": "code",
   "execution_count": 106,
   "metadata": {},
   "outputs": [],
   "source": [
    "date = np.array([])\n",
    "close = np.array([])\n",
    "market = np.array([])\n",
    "low = np.array([])\n",
    "high= np.array([])\n",
    "volume = np.array([])\n",
    "historical_index_naver(index_cd, '2013-7-1', '2016-6-30', page_n = 99)"
   ]
  },
  {
   "cell_type": "code",
   "execution_count": 107,
   "metadata": {},
   "outputs": [
    {
     "data": {
      "text/html": [
       "<div>\n",
       "<style scoped>\n",
       "    .dataframe tbody tr th:only-of-type {\n",
       "        vertical-align: middle;\n",
       "    }\n",
       "\n",
       "    .dataframe tbody tr th {\n",
       "        vertical-align: top;\n",
       "    }\n",
       "\n",
       "    .dataframe thead th {\n",
       "        text-align: right;\n",
       "    }\n",
       "</style>\n",
       "<table border=\"1\" class=\"dataframe\">\n",
       "  <thead>\n",
       "    <tr style=\"text-align: right;\">\n",
       "      <th></th>\n",
       "      <th>Date</th>\n",
       "      <th>Close</th>\n",
       "      <th>Market</th>\n",
       "      <th>High</th>\n",
       "      <th>Low</th>\n",
       "      <th>Volume</th>\n",
       "    </tr>\n",
       "  </thead>\n",
       "  <tbody>\n",
       "    <tr>\n",
       "      <th>372</th>\n",
       "      <td>2014-12-24</td>\n",
       "      <td>133000.0</td>\n",
       "      <td>135500.0</td>\n",
       "      <td>139000.0</td>\n",
       "      <td>132000.0</td>\n",
       "      <td>1403337.0</td>\n",
       "    </tr>\n",
       "    <tr>\n",
       "      <th>373</th>\n",
       "      <td>2014-12-23</td>\n",
       "      <td>135000.0</td>\n",
       "      <td>132000.0</td>\n",
       "      <td>137500.0</td>\n",
       "      <td>127000.0</td>\n",
       "      <td>2873094.0</td>\n",
       "    </tr>\n",
       "    <tr>\n",
       "      <th>374</th>\n",
       "      <td>2014-12-22</td>\n",
       "      <td>134500.0</td>\n",
       "      <td>135000.0</td>\n",
       "      <td>145500.0</td>\n",
       "      <td>130500.0</td>\n",
       "      <td>4401710.0</td>\n",
       "    </tr>\n",
       "    <tr>\n",
       "      <th>375</th>\n",
       "      <td>2014-12-19</td>\n",
       "      <td>129500.0</td>\n",
       "      <td>118000.0</td>\n",
       "      <td>129500.0</td>\n",
       "      <td>117500.0</td>\n",
       "      <td>4551888.0</td>\n",
       "    </tr>\n",
       "    <tr>\n",
       "      <th>376</th>\n",
       "      <td>2014-12-18</td>\n",
       "      <td>113000.0</td>\n",
       "      <td>106000.0</td>\n",
       "      <td>116000.0</td>\n",
       "      <td>99200.0</td>\n",
       "      <td>12845103.0</td>\n",
       "    </tr>\n",
       "  </tbody>\n",
       "</table>\n",
       "</div>"
      ],
      "text/plain": [
       "           Date     Close    Market      High       Low      Volume\n",
       "372  2014-12-24  133000.0  135500.0  139000.0  132000.0   1403337.0\n",
       "373  2014-12-23  135000.0  132000.0  137500.0  127000.0   2873094.0\n",
       "374  2014-12-22  134500.0  135000.0  145500.0  130500.0   4401710.0\n",
       "375  2014-12-19  129500.0  118000.0  129500.0  117500.0   4551888.0\n",
       "376  2014-12-18  113000.0  106000.0  116000.0   99200.0  12845103.0"
      ]
     },
     "execution_count": 107,
     "metadata": {},
     "output_type": "execute_result"
    }
   ],
   "source": [
    "NaverFinance2016 = pd.DataFrame({'Date': date, 'Close':close, 'Market': market, \n",
    "                             'High': high, 'Low': low, 'Volume': volume})\n",
    "\n",
    "NaverFinance2016.tail()"
   ]
  },
  {
   "cell_type": "code",
   "execution_count": 108,
   "metadata": {},
   "outputs": [
    {
     "ename": "AttributeError",
     "evalue": "'NoneType' object has no attribute 'find'",
     "output_type": "error",
     "traceback": [
      "\u001b[1;31m---------------------------------------------------------------------------\u001b[0m",
      "\u001b[1;31mAttributeError\u001b[0m                            Traceback (most recent call last)",
      "\u001b[1;32m<ipython-input-108-43dfebf26fa1>\u001b[0m in \u001b[0;36m<module>\u001b[1;34m\u001b[0m\n\u001b[0;32m      5\u001b[0m \u001b[0mhigh\u001b[0m\u001b[1;33m=\u001b[0m \u001b[0mnp\u001b[0m\u001b[1;33m.\u001b[0m\u001b[0marray\u001b[0m\u001b[1;33m(\u001b[0m\u001b[1;33m[\u001b[0m\u001b[1;33m]\u001b[0m\u001b[1;33m)\u001b[0m\u001b[1;33m\u001b[0m\u001b[1;33m\u001b[0m\u001b[0m\n\u001b[0;32m      6\u001b[0m \u001b[0mvolume\u001b[0m \u001b[1;33m=\u001b[0m \u001b[0mnp\u001b[0m\u001b[1;33m.\u001b[0m\u001b[0marray\u001b[0m\u001b[1;33m(\u001b[0m\u001b[1;33m[\u001b[0m\u001b[1;33m]\u001b[0m\u001b[1;33m)\u001b[0m\u001b[1;33m\u001b[0m\u001b[1;33m\u001b[0m\u001b[0m\n\u001b[1;32m----> 7\u001b[1;33m \u001b[0mhistorical_index_naver\u001b[0m\u001b[1;33m(\u001b[0m\u001b[0mindex_cd\u001b[0m\u001b[1;33m,\u001b[0m \u001b[1;34m'2010-7-1'\u001b[0m\u001b[1;33m,\u001b[0m \u001b[1;34m'2013-6-30'\u001b[0m\u001b[1;33m,\u001b[0m \u001b[0mpage_n\u001b[0m \u001b[1;33m=\u001b[0m \u001b[1;36m173\u001b[0m\u001b[1;33m)\u001b[0m\u001b[1;33m\u001b[0m\u001b[1;33m\u001b[0m\u001b[0m\n\u001b[0m",
      "\u001b[1;32m<ipython-input-3-3e24f57a3d9a>\u001b[0m in \u001b[0;36mhistorical_index_naver\u001b[1;34m(index_cd, start_date, end_date, page_n, last_page)\u001b[0m\n\u001b[0;32m     72\u001b[0m     \u001b[1;31m# 페이지 네비게이션\u001b[0m\u001b[1;33m\u001b[0m\u001b[1;33m\u001b[0m\u001b[1;33m\u001b[0m\u001b[0m\n\u001b[0;32m     73\u001b[0m     \u001b[1;32mif\u001b[0m \u001b[0mlast_page\u001b[0m \u001b[1;33m==\u001b[0m \u001b[1;36m0\u001b[0m\u001b[1;33m:\u001b[0m\u001b[1;33m\u001b[0m\u001b[1;33m\u001b[0m\u001b[0m\n\u001b[1;32m---> 74\u001b[1;33m         \u001b[0mlast_page\u001b[0m \u001b[1;33m=\u001b[0m \u001b[0msource\u001b[0m\u001b[1;33m.\u001b[0m\u001b[0mfind\u001b[0m\u001b[1;33m(\u001b[0m\u001b[1;34m'td'\u001b[0m\u001b[1;33m,\u001b[0m \u001b[0mclass_\u001b[0m\u001b[1;33m=\u001b[0m\u001b[1;34m'pgRR'\u001b[0m\u001b[1;33m)\u001b[0m\u001b[1;33m.\u001b[0m\u001b[0mfind\u001b[0m\u001b[1;33m(\u001b[0m\u001b[1;34m'a'\u001b[0m\u001b[1;33m)\u001b[0m\u001b[1;33m[\u001b[0m\u001b[1;34m'href'\u001b[0m\u001b[1;33m]\u001b[0m\u001b[1;33m\u001b[0m\u001b[1;33m\u001b[0m\u001b[0m\n\u001b[0m\u001b[0;32m     75\u001b[0m         \u001b[1;31m# 마지막페이지 주소 추출\u001b[0m\u001b[1;33m\u001b[0m\u001b[1;33m\u001b[0m\u001b[1;33m\u001b[0m\u001b[0m\n\u001b[0;32m     76\u001b[0m         \u001b[0mlast_page\u001b[0m \u001b[1;33m=\u001b[0m \u001b[0mlast_page\u001b[0m\u001b[1;33m.\u001b[0m\u001b[0msplit\u001b[0m\u001b[1;33m(\u001b[0m\u001b[1;34m'&'\u001b[0m\u001b[1;33m)\u001b[0m\u001b[1;33m[\u001b[0m\u001b[1;36m1\u001b[0m\u001b[1;33m]\u001b[0m\u001b[1;33m\u001b[0m\u001b[1;33m\u001b[0m\u001b[0m\n",
      "\u001b[1;31mAttributeError\u001b[0m: 'NoneType' object has no attribute 'find'"
     ]
    }
   ],
   "source": [
    "date = np.array([])\n",
    "close = np.array([])\n",
    "market = np.array([])\n",
    "low = np.array([])\n",
    "high= np.array([])\n",
    "volume = np.array([])\n",
    "historical_index_naver(index_cd, '2010-7-1', '2013-6-30', page_n = 173)"
   ]
  },
  {
   "cell_type": "code",
   "execution_count": null,
   "metadata": {},
   "outputs": [],
   "source": [
    "NaverFinance2013 = pd.DataFrame({'Date': date, 'Close':close, 'Market': market, \n",
    "                             'High': high, 'Low': low, 'Volume': volume})\n",
    "\n",
    "NaverFinance2013.tail()"
   ]
  },
  {
   "cell_type": "code",
   "execution_count": 111,
   "metadata": {},
   "outputs": [
    {
     "ename": "AttributeError",
     "evalue": "'NoneType' object has no attribute 'find'",
     "output_type": "error",
     "traceback": [
      "\u001b[1;31m---------------------------------------------------------------------------\u001b[0m",
      "\u001b[1;31mAttributeError\u001b[0m                            Traceback (most recent call last)",
      "\u001b[1;32m<ipython-input-111-bc6d19de6075>\u001b[0m in \u001b[0;36m<module>\u001b[1;34m\u001b[0m\n\u001b[0;32m      5\u001b[0m \u001b[0mhigh\u001b[0m\u001b[1;33m=\u001b[0m \u001b[0mnp\u001b[0m\u001b[1;33m.\u001b[0m\u001b[0marray\u001b[0m\u001b[1;33m(\u001b[0m\u001b[1;33m[\u001b[0m\u001b[1;33m]\u001b[0m\u001b[1;33m)\u001b[0m\u001b[1;33m\u001b[0m\u001b[1;33m\u001b[0m\u001b[0m\n\u001b[0;32m      6\u001b[0m \u001b[0mvolume\u001b[0m \u001b[1;33m=\u001b[0m \u001b[0mnp\u001b[0m\u001b[1;33m.\u001b[0m\u001b[0marray\u001b[0m\u001b[1;33m(\u001b[0m\u001b[1;33m[\u001b[0m\u001b[1;33m]\u001b[0m\u001b[1;33m)\u001b[0m\u001b[1;33m\u001b[0m\u001b[1;33m\u001b[0m\u001b[0m\n\u001b[1;32m----> 7\u001b[1;33m \u001b[0mhistorical_index_naver\u001b[0m\u001b[1;33m(\u001b[0m\u001b[0mindex_cd\u001b[0m\u001b[1;33m,\u001b[0m \u001b[1;34m'2009-1-1'\u001b[0m\u001b[1;33m,\u001b[0m \u001b[1;34m'2010-6-30'\u001b[0m\u001b[1;33m,\u001b[0m \u001b[0mpage_n\u001b[0m \u001b[1;33m=\u001b[0m \u001b[1;36m247\u001b[0m\u001b[1;33m)\u001b[0m\u001b[1;33m\u001b[0m\u001b[1;33m\u001b[0m\u001b[0m\n\u001b[0m",
      "\u001b[1;32m<ipython-input-3-3e24f57a3d9a>\u001b[0m in \u001b[0;36mhistorical_index_naver\u001b[1;34m(index_cd, start_date, end_date, page_n, last_page)\u001b[0m\n\u001b[0;32m     72\u001b[0m     \u001b[1;31m# 페이지 네비게이션\u001b[0m\u001b[1;33m\u001b[0m\u001b[1;33m\u001b[0m\u001b[1;33m\u001b[0m\u001b[0m\n\u001b[0;32m     73\u001b[0m     \u001b[1;32mif\u001b[0m \u001b[0mlast_page\u001b[0m \u001b[1;33m==\u001b[0m \u001b[1;36m0\u001b[0m\u001b[1;33m:\u001b[0m\u001b[1;33m\u001b[0m\u001b[1;33m\u001b[0m\u001b[0m\n\u001b[1;32m---> 74\u001b[1;33m         \u001b[0mlast_page\u001b[0m \u001b[1;33m=\u001b[0m \u001b[0msource\u001b[0m\u001b[1;33m.\u001b[0m\u001b[0mfind\u001b[0m\u001b[1;33m(\u001b[0m\u001b[1;34m'td'\u001b[0m\u001b[1;33m,\u001b[0m \u001b[0mclass_\u001b[0m\u001b[1;33m=\u001b[0m\u001b[1;34m'pgRR'\u001b[0m\u001b[1;33m)\u001b[0m\u001b[1;33m.\u001b[0m\u001b[0mfind\u001b[0m\u001b[1;33m(\u001b[0m\u001b[1;34m'a'\u001b[0m\u001b[1;33m)\u001b[0m\u001b[1;33m[\u001b[0m\u001b[1;34m'href'\u001b[0m\u001b[1;33m]\u001b[0m\u001b[1;33m\u001b[0m\u001b[1;33m\u001b[0m\u001b[0m\n\u001b[0m\u001b[0;32m     75\u001b[0m         \u001b[1;31m# 마지막페이지 주소 추출\u001b[0m\u001b[1;33m\u001b[0m\u001b[1;33m\u001b[0m\u001b[1;33m\u001b[0m\u001b[0m\n\u001b[0;32m     76\u001b[0m         \u001b[0mlast_page\u001b[0m \u001b[1;33m=\u001b[0m \u001b[0mlast_page\u001b[0m\u001b[1;33m.\u001b[0m\u001b[0msplit\u001b[0m\u001b[1;33m(\u001b[0m\u001b[1;34m'&'\u001b[0m\u001b[1;33m)\u001b[0m\u001b[1;33m[\u001b[0m\u001b[1;36m1\u001b[0m\u001b[1;33m]\u001b[0m\u001b[1;33m\u001b[0m\u001b[1;33m\u001b[0m\u001b[0m\n",
      "\u001b[1;31mAttributeError\u001b[0m: 'NoneType' object has no attribute 'find'"
     ]
    }
   ],
   "source": [
    "date = np.array([])\n",
    "close = np.array([])\n",
    "market = np.array([])\n",
    "low = np.array([])\n",
    "high= np.array([])\n",
    "volume = np.array([])\n",
    "historical_index_naver(index_cd, '2009-1-1', '2010-6-30', page_n = 247)"
   ]
  },
  {
   "cell_type": "code",
   "execution_count": null,
   "metadata": {},
   "outputs": [],
   "source": [
    "NaverFinance2010 = pd.DataFrame({'Date': date, 'Close':close, 'Market': market, \n",
    "                             'High': high, 'Low': low, 'Volume': volume})\n",
    "\n",
    "NaverFinance2010.tail()"
   ]
  },
  {
   "cell_type": "code",
   "execution_count": 99,
   "metadata": {},
   "outputs": [],
   "source": [
    "frames = [NaverFinance, NaverFinance2018, NaverFinance2016, NaverFinance2013,NaverFinance2010]\n",
    "SCT = pd.concat(frames)"
   ]
  },
  {
   "cell_type": "code",
   "execution_count": 113,
   "metadata": {},
   "outputs": [],
   "source": [
    "SCT.to_csv('SCT.csv', index = False)"
   ]
  },
  {
   "cell_type": "code",
   "execution_count": 112,
   "metadata": {},
   "outputs": [],
   "source": [
    "frames = [NaverFinance, NaverFinance2018, NaverFinance2016]\n",
    "SCT = pd.concat(frames)"
   ]
  },
  {
   "cell_type": "code",
   "execution_count": null,
   "metadata": {},
   "outputs": [],
   "source": []
  },
  {
   "cell_type": "code",
   "execution_count": null,
   "metadata": {},
   "outputs": [],
   "source": []
  },
  {
   "cell_type": "code",
   "execution_count": null,
   "metadata": {},
   "outputs": [],
   "source": []
  },
  {
   "cell_type": "code",
   "execution_count": null,
   "metadata": {},
   "outputs": [],
   "source": []
  },
  {
   "cell_type": "code",
   "execution_count": null,
   "metadata": {},
   "outputs": [],
   "source": []
  }
 ],
 "metadata": {
  "kernelspec": {
   "display_name": "Python 3",
   "language": "python",
   "name": "python3"
  },
  "language_info": {
   "codemirror_mode": {
    "name": "ipython",
    "version": 3
   },
   "file_extension": ".py",
   "mimetype": "text/x-python",
   "name": "python",
   "nbconvert_exporter": "python",
   "pygments_lexer": "ipython3",
   "version": "3.8.5"
  }
 },
 "nbformat": 4,
 "nbformat_minor": 4
}
